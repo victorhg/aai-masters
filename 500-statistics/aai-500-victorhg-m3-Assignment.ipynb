{
 "cells": [
  {
   "cell_type": "markdown",
   "metadata": {},
   "source": [
    "# Assignment 3.1\n",
    "Name:  Victor Hugo Germano\n",
    "Date: 09/14/2024"
   ]
  },
  {
   "cell_type": "markdown",
   "metadata": {},
   "source": [
    "For this assignment, you will refer to the textbook to solve the practice exercises. **Use Python to answer any coding problems (not R, even if indicated in your textbook).** Use Jupyter Notebook, Google Colab, or a similar software program to complete your assignment. Submit your answers as a **PDF or HTML** file. As a best practice, always label your axes and provide titles for any graphs generated on this assignment. Round all quantitative answers to 2 decimal places."
   ]
  },
  {
   "cell_type": "code",
   "execution_count": 1,
   "metadata": {},
   "outputs": [
    {
     "data": {
      "text/plain": [
       "<Token var=<ContextVar name='format_options' default={'edgeitems': 3, 'threshold': 1000, 'floatmode': 'maxprec', 'precision': 8, 'suppress': False, 'linewidth': 75, 'nanstr': 'nan', 'infstr': 'inf', 'sign': '-', 'formatter': None, 'legacy': 9223372036854775807, 'override_repr': None} at 0x10700d350> at 0x1254d5b40>"
      ]
     },
     "execution_count": 1,
     "metadata": {},
     "output_type": "execute_result"
    }
   ],
   "source": [
    "import pandas as pd\n",
    "import numpy as np\n",
    "import matplotlib.pyplot as plt\n",
    "from matplotlib import gridspec\n",
    "import seaborn as sns\n",
    "import scipy.stats as stats\n",
    "\n",
    "np.set_printoptions(precision=2)"
   ]
  },
  {
   "cell_type": "markdown",
   "metadata": {},
   "source": [
    "## Problem 3.2."
   ]
  },
  {
   "cell_type": "markdown",
   "metadata": {},
   "source": [
    "In an exit poll of 1648 voters in the 2020 Senatorial election in Arizona, 51.5% said they voted\n",
    "for Mark Kelly and 48.5% said they voted for Martha McSally"
   ]
  },
  {
   "cell_type": "markdown",
   "metadata": {},
   "source": [
    "a) Suppose that actually 50% of the population voted for Kelly. If this exit poll had the\n",
    "properties of a simple random sample, find the standard error of the sample proportion\n",
    "voting for him."
   ]
  },
  {
   "cell_type": "markdown",
   "metadata": {},
   "source": [
    "b) Under the 50% presumption, are the results of the exit poll surprising? Why? Would you\n",
    "be willing to predict the election outcome? Explain by (i) conducting a simulation; (ii)\n",
    "using the value found in (a) for the standard error."
   ]
  },
  {
   "cell_type": "markdown",
   "metadata": {},
   "source": [
    "`(a) Your answer goes here`"
   ]
  },
  {
   "cell_type": "code",
   "execution_count": 7,
   "metadata": {},
   "outputs": [
    {
     "name": "stdout",
     "output_type": "stream",
     "text": [
      "Standard Error: 0.0123\n"
     ]
    }
   ],
   "source": [
    "sample_size=1648\n",
    "mean = proportion = 0.5 #the mean of the sampling distribution of the sample proportion: muˆp = p\n",
    "\n",
    "# applying the SE formula for the sampling \n",
    "se = proportion / np.sqrt(sample_size)\n",
    "\n",
    "print(\"Standard Error: %.4f\"%se)"
   ]
  },
  {
   "cell_type": "markdown",
   "metadata": {},
   "source": [
    "`(b) Your answer goes here`"
   ]
  },
  {
   "cell_type": "markdown",
   "metadata": {},
   "source": [
    "The results are not surprising, because they fall within the expected results giving the previous pool \n",
    "\n"
   ]
  },
  {
   "cell_type": "code",
   "execution_count": null,
   "metadata": {},
   "outputs": [],
   "source": [
    "\n",
    "# i\n"
   ]
  },
  {
   "cell_type": "markdown",
   "metadata": {},
   "source": [
    "## Problem 3.3."
   ]
  },
  {
   "cell_type": "markdown",
   "metadata": {},
   "source": [
    " The 49 students in a class at the University of Florida made blinded evaluations of pairs of\n",
    "cola drinks. For the 49 comparisons of Coke and Pepsi, Coke was preferred 29 times. In the\n",
    "population that this sample represents, is this strong evidence that a majority prefers Coke?\n",
    "Use a simulation of a sampling distribution to answer."
   ]
  },
  {
   "cell_type": "markdown",
   "metadata": {},
   "source": [
    "`Your answer goes here`"
   ]
  },
  {
   "cell_type": "code",
   "execution_count": null,
   "metadata": {},
   "outputs": [],
   "source": []
  },
  {
   "cell_type": "markdown",
   "metadata": {},
   "source": [
    "## Problem 3.5."
   ]
  },
  {
   "cell_type": "markdown",
   "metadata": {},
   "source": [
    "The example in Section 3.1.4 simulated sampling distributions of the sample mean to determine how precise $\\bar{Y}$ for $n=25$ may estimate a population mean $\\mu.$"
   ]
  },
  {
   "cell_type": "markdown",
   "metadata": {},
   "source": [
    "a) Find the theoretical standard error of $\\bar{Y}$ for the scenario values of $\\sigma = 5$ and 8. How do they compare to the standard deviations of the 100,000 sample means in the simulations?"
   ]
  },
  {
   "cell_type": "markdown",
   "metadata": {},
   "source": [
    "`Your answer goes here`"
   ]
  },
  {
   "cell_type": "code",
   "execution_count": null,
   "metadata": {},
   "outputs": [],
   "source": []
  },
  {
   "cell_type": "markdown",
   "metadata": {},
   "source": [
    "b) In the first scenario, we chose $\\sigma = 5$ under the belief that if $\\mu = 20$, about 2/3 of the sample values would fall between `$`15 and `$`25. For the gamma distribution with $(\\mu, \\sigma) = (20,5),$ show that the actual probability between 15 and 25 is 0.688."
   ]
  },
  {
   "cell_type": "markdown",
   "metadata": {},
   "source": [
    "`Your answer goes here`"
   ]
  },
  {
   "cell_type": "code",
   "execution_count": null,
   "metadata": {},
   "outputs": [],
   "source": []
  },
  {
   "cell_type": "markdown",
   "metadata": {},
   "source": [
    "## Problem 3.8."
   ]
  },
  {
   "cell_type": "markdown",
   "metadata": {},
   "source": [
    "Construct the sampling distribution of the sample proportion of heads, for flipping a balanced\n",
    "coin (a) once; (b) twice; (c) three times; (d) four times. Describe how the shape changes\n",
    "as the number of flips $n$ increases. What would happen if $n$ kept growing? Why?\n"
   ]
  },
  {
   "cell_type": "markdown",
   "metadata": {},
   "source": [
    "`Your answer goes here`"
   ]
  },
  {
   "cell_type": "code",
   "execution_count": null,
   "metadata": {},
   "outputs": [],
   "source": []
  },
  {
   "cell_type": "markdown",
   "metadata": {},
   "source": [
    "## Problem 3.13."
   ]
  },
  {
   "cell_type": "markdown",
   "metadata": {},
   "source": [
    "Simulate random sampling from a uniform population distribution with several $n$ values to\n",
    "illustrate the Central Limit Theorem."
   ]
  },
  {
   "cell_type": "markdown",
   "metadata": {},
   "source": [
    "`Your answer goes here`"
   ]
  },
  {
   "cell_type": "code",
   "execution_count": null,
   "metadata": {},
   "outputs": [],
   "source": []
  },
  {
   "cell_type": "markdown",
   "metadata": {},
   "source": [
    "## Problem 3.14."
   ]
  },
  {
   "cell_type": "markdown",
   "metadata": {},
   "source": [
    "On each bet in a sequence of bets, you win 1 dollar with probability 0.50 and lose 1 dollar (i.e., win negative 1 dollar) with probability 0.50. Let $Y$ denote the total of your winnings and losings after 100 bets. Giving your reasoning, state the approximate distribution of $Y.$ "
   ]
  },
  {
   "cell_type": "markdown",
   "metadata": {},
   "source": [
    "`Your answer goes here`"
   ]
  },
  {
   "cell_type": "code",
   "execution_count": null,
   "metadata": {},
   "outputs": [],
   "source": []
  },
  {
   "cell_type": "markdown",
   "metadata": {},
   "source": [
    "## Problem 3.15."
   ]
  },
  {
   "cell_type": "markdown",
   "metadata": {},
   "source": [
    "According to a General Social Survey, in the United States the population distribution of $Y$ =\n",
    "number of good friends (not including family members) has a mean of about 5.5 and a standard\n",
    "deviation of about 3.9."
   ]
  },
  {
   "cell_type": "markdown",
   "metadata": {},
   "source": [
    "a) Is it plausible that this population distribution is normal? Explain."
   ]
  },
  {
   "cell_type": "markdown",
   "metadata": {},
   "source": [
    "`Your answer here`"
   ]
  },
  {
   "cell_type": "code",
   "execution_count": null,
   "metadata": {},
   "outputs": [],
   "source": []
  },
  {
   "cell_type": "markdown",
   "metadata": {},
   "source": [
    "b) If a new survey takes a simple random sample of 1000 people, describe the sampling\n",
    "distribution of $\\bar{Y}$ by giving its shape and approximate mean and standard error."
   ]
  },
  {
   "cell_type": "markdown",
   "metadata": {},
   "source": [
    "`Your answer here`"
   ]
  },
  {
   "cell_type": "code",
   "execution_count": null,
   "metadata": {},
   "outputs": [],
   "source": []
  },
  {
   "cell_type": "markdown",
   "metadata": {},
   "source": [
    "c) Suppose that actually the mean of 5.5 and standard deviation of 3.9 are not population\n",
    "values but are based on a sample of 1000 people. Treating results as a simple random\n",
    "sample, give an interval of values within which you can be very sure that the population\n",
    "mean falls. Explain your reasoning."
   ]
  },
  {
   "cell_type": "markdown",
   "metadata": {},
   "source": [
    "`Your answer here`"
   ]
  },
  {
   "cell_type": "code",
   "execution_count": null,
   "metadata": {},
   "outputs": [],
   "source": []
  },
  {
   "cell_type": "markdown",
   "metadata": {},
   "source": [
    "## Problem 3.18."
   ]
  },
  {
   "cell_type": "markdown",
   "metadata": {},
   "source": [
    "Sunshine City, which attracts primarily retired people, has 90,000 residents with a mean age\n",
    "of 72 years and a standard deviation of 12 years. The age distribution is skewed to the left. A\n",
    "random sample of 100 residents of Sunshine City has $\\bar{y} = 70$ and $s = 11.$"
   ]
  },
  {
   "cell_type": "markdown",
   "metadata": {},
   "source": [
    "a)  Describe the center and spread of the (i) population distribution, (ii) sample data distribution. What shape does the sample data distribution probably have? Why?"
   ]
  },
  {
   "cell_type": "markdown",
   "metadata": {},
   "source": [
    "`Your answer here`"
   ]
  },
  {
   "cell_type": "code",
   "execution_count": null,
   "metadata": {},
   "outputs": [],
   "source": []
  },
  {
   "cell_type": "markdown",
   "metadata": {},
   "source": [
    "b) Find the center and spread of the sampling distribution of $\\bar{Y}$ for $n = 100.$ What shape does it have and what does it describe?\n"
   ]
  },
  {
   "cell_type": "markdown",
   "metadata": {},
   "source": [
    "`Your answer here`"
   ]
  },
  {
   "cell_type": "code",
   "execution_count": null,
   "metadata": {},
   "outputs": [],
   "source": []
  },
  {
   "cell_type": "markdown",
   "metadata": {},
   "source": [
    "c)  Explain why it would not be unusual to sample a person of age 60 in Sunshine City, but\n",
    "it would be highly unusual for the sample mean to be 60, for a random sample of 100\n",
    "residents."
   ]
  },
  {
   "cell_type": "markdown",
   "metadata": {},
   "source": [
    "`Your answer here`"
   ]
  },
  {
   "cell_type": "code",
   "execution_count": null,
   "metadata": {},
   "outputs": [],
   "source": []
  },
  {
   "cell_type": "markdown",
   "metadata": {},
   "source": [
    "d) Describe the sampling distribution of $\\bar{Y}$ : (i) for a random sample of size $n = 1$; (ii) if you sample all 90,000 residents."
   ]
  },
  {
   "cell_type": "markdown",
   "metadata": {},
   "source": [
    "`Your answer here`"
   ]
  },
  {
   "cell_type": "code",
   "execution_count": null,
   "metadata": {},
   "outputs": [],
   "source": []
  },
  {
   "cell_type": "markdown",
   "metadata": {},
   "source": [
    "## Problem 3.21."
   ]
  },
  {
   "cell_type": "markdown",
   "metadata": {},
   "source": [
    "In your school, suppose that GPA has an approximate normal distribution with $\\mu = 3.0, \\sigma = 0.40.$ Not knowing $\\mu$, you randomly sample $n = 25$ students to estimate it. Using simulation for this application, illustrate the difference between a sample data distribution and the sampling distribution of Y ."
   ]
  },
  {
   "cell_type": "markdown",
   "metadata": {},
   "source": [
    "`Your answer here`"
   ]
  },
  {
   "cell_type": "code",
   "execution_count": null,
   "metadata": {},
   "outputs": [],
   "source": []
  },
  {
   "cell_type": "markdown",
   "metadata": {},
   "source": [
    "## Problem 3.26."
   ]
  },
  {
   "cell_type": "markdown",
   "metadata": {},
   "source": [
    "When sample data were used to rank states by brain cancer rates, Ellenberg (2014) noted\n",
    "that the highest ranking state (South Dakota) and the nearly lowest ranking state (North\n",
    "Dakota) had relatively small sample sizes. Also, when schools in North Carolina were ranked\n",
    "by their average improvement in test scores, the best and the worst schools were very small\n",
    "schools. Explain how these results could merely reflect how the variability of sample means and\n",
    "proportions depends on the sample size."
   ]
  },
  {
   "cell_type": "markdown",
   "metadata": {},
   "source": [
    "`Your answer here`"
   ]
  },
  {
   "cell_type": "code",
   "execution_count": null,
   "metadata": {},
   "outputs": [],
   "source": []
  }
 ],
 "metadata": {
  "kernelspec": {
   "display_name": "Python 3 (ipykernel)",
   "language": "python",
   "name": "python3"
  },
  "language_info": {
   "codemirror_mode": {
    "name": "ipython",
    "version": 3
   },
   "file_extension": ".py",
   "mimetype": "text/x-python",
   "name": "python",
   "nbconvert_exporter": "python",
   "pygments_lexer": "ipython3",
   "version": "3.12.4"
  }
 },
 "nbformat": 4,
 "nbformat_minor": 4
}
