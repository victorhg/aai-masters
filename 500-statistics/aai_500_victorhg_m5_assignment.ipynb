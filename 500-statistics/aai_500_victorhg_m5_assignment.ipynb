{
 "cells": [
  {
   "cell_type": "markdown",
   "metadata": {},
   "source": [
    "# Assignment 5.1\n",
    "\n",
    "- Name: Victor Hugo Germano \n",
    "- Date: 09/30/2024"
   ]
  },
  {
   "cell_type": "markdown",
   "metadata": {},
   "source": [
    "For this assignment, you will refer to the textbook to solve the practice exercises. **Use Python to answer any coding problems (not R, even if indicated in your textbook).** Use Jupyter Notebook, Google Colab, or a similar software program to complete your assignment. Submit your answers as a **PDF or HTML** file. As a best practice, always label your axes and provide titles for any graphs generated on this assignment. Round all quantitative answers to 2 decimal places."
   ]
  },
  {
   "cell_type": "code",
   "execution_count": 4,
   "metadata": {},
   "outputs": [],
   "source": [
    "import pandas as pd\n",
    "import numpy as np\n",
    "import matplotlib.pyplot as plt\n",
    "from matplotlib import gridspec\n",
    "import seaborn as sns\n",
    "import scipy.stats as stats\n",
    "\n",
    "sns.set()"
   ]
  },
  {
   "cell_type": "markdown",
   "metadata": {},
   "source": [
    "## Problem 5.1."
   ]
  },
  {
   "cell_type": "markdown",
   "metadata": {},
   "source": [
    "Introducing notation for a parameter, state the following hypotheses in terms of the parameter\n",
    "values and indicate whether it is a null hypothesis or an alternative hypothesis."
   ]
  },
  {
   "cell_type": "markdown",
   "metadata": {},
   "source": [
    "(a) The proportion of all adults in the UK who favor legalized gambling equals 0.50.\n"
   ]
  },
  {
   "cell_type": "markdown",
   "metadata": {},
   "source": [
    "`Your answer goes here`"
   ]
  },
  {
   "cell_type": "markdown",
   "metadata": {},
   "source": [
    "### Proportion of all adults\n",
    "\n",
    "Null Hypothesis $H_0=0.5 $: \n",
    "- The proportion of all adults in the UK who favor legalized gambling equals 0.50.\n",
    "\n",
    "Alternative Hypothesis $H_a\\neq0.5$:\n",
    "- The proportion of all adults in the UK who favor legalized gambling does not equal 0.50.\n"
   ]
  },
  {
   "cell_type": "markdown",
   "metadata": {},
   "source": [
    "(b) The correlation for Australian adults between smoking (number of cigarettes per day) and blood pressure is positive."
   ]
  },
  {
   "cell_type": "markdown",
   "metadata": {},
   "source": [
    "`Your answer goes here`"
   ]
  },
  {
   "cell_type": "markdown",
   "metadata": {},
   "source": [
    "### Correlation between smoking and blood pressure\n",
    "\n",
    "Null Hypothesis $H_0: p = 0$: \n",
    "- There is no correlation between smoking and blood pressue\n",
    "\n",
    "Alternative Hypothesis $H_a: p > 0$:\n",
    "- There is a positive correlation between smoking and blood pressue\n"
   ]
  },
  {
   "cell_type": "markdown",
   "metadata": {},
   "source": [
    "(c) The mean grade point average this year of all college graduates in the U.S. is the same for females and males."
   ]
  },
  {
   "cell_type": "markdown",
   "metadata": {},
   "source": [
    "`Your answer goes here`"
   ]
  },
  {
   "cell_type": "markdown",
   "metadata": {},
   "source": [
    "### Correlation between smoking and blood pressure\n",
    "\n",
    "Null Hypothesis $H_0: \\mu_m = \\mu_h$: \n",
    "- Males and Females have the same mean grade point average\n",
    "\n",
    "Alternative Hypothesis $H_a: \\mu_m \\neq \\mu_h$:\n",
    "- Males and Females do not have the same mean grade point average\n"
   ]
  },
  {
   "cell_type": "markdown",
   "metadata": {},
   "source": [
    "## Problem 5.6."
   ]
  },
  {
   "cell_type": "markdown",
   "metadata": {},
   "source": [
    "Before a Presidential election, polls are taken in two swing states. The Republican candidate\n",
    "was preferred by 59 of the 100 people sampled in state A and by 525 of 1000 sampled in state\n",
    "B. Treat these as independent binomial samples, where the parameter $\\pi$ is the population\n",
    "proportion voting Republican in the state.\n"
   ]
  },
  {
   "cell_type": "markdown",
   "metadata": {},
   "source": [
    "(a) If we can treat these polls as if the samples were random, use significance tests of $H_0$:\n",
    "$\\pi  = 0.50$ against $H_a:  \\pi > 0.50$ to determine which state has greater evidence supporting a\n",
    "Republican victory. Explain your reasoning.\n"
   ]
  },
  {
   "cell_type": "markdown",
   "metadata": {},
   "source": [
    "`Your answer goes here`"
   ]
  },
  {
   "cell_type": "code",
   "execution_count": 9,
   "metadata": {},
   "outputs": [
    {
     "name": "stdout",
     "output_type": "stream",
     "text": [
      "Z test result: 1.242\n"
     ]
    }
   ],
   "source": [
    "# state A\n",
    "k1 = 59\n",
    "n1 = 100\n",
    "p_a = k1/n1\n",
    "\n",
    "# State B\n",
    "k2 = 525 \n",
    "n2 = 1000\n",
    "p_b = k2/n2\n",
    "\n",
    "# mean of both samples\n",
    "p_hat = (k1 + k2)/(n1 + n2)\n",
    "\n",
    "# Null Hypothesis H0\n",
    "# There's no difference between the two proportions (p_a = p_b)\n",
    "\n",
    "# Alternative Hypothesis Ha\n",
    "# There's a diferrence between the proportions\n",
    "\n",
    "# z testing\n",
    "z = (p_a - p_b) / np.sqrt(p_hat*(1-p_hat)*(1/n1 + 1/n2))\n",
    "\n",
    "print(\"Z test result: %.3f\"%z)"
   ]
  },
  {
   "cell_type": "markdown",
   "metadata": {},
   "source": [
    "### Interpretation\n",
    "\n",
    "Arriving at a Z value of 1.242 we reach at a p-value of 0.3925, using the Normal Distribution Table.\n",
    "\n",
    "### Conclusion\n",
    "\n",
    "Given a p-value of 0.3925, the conclusion can be drawn based on the comparison with $\\pi=0.5$, we fail to reject the null hypothesis.\n",
    "\n",
    "there is not enough statistical evidence to support a significant difference or effect as proposed by the alternative hypothesis, the data does not provide strong enough evidence to conclude which State has greater evidence insupport of Republican victory, even thought the higher proportion of support (0.59 vs. 0.525) indicates a stronger inclination towards Republican preferences in State A.\n",
    "\n",
    "---\n"
   ]
  },
  {
   "cell_type": "markdown",
   "metadata": {},
   "source": [
    "(b) Conduct a Bayesian analysis to answer the question in (a) by finding in each case the\n",
    "posterior $P(\\pi < 0.50)$, corresponding to the *P-* value in (a). Use beta(50, 50) priors, which\n",
    "have standard deviation 0.05 and reflect the pollster’s strong prior belief that $\\pi$ almost\n",
    "surely is between 0.35 and 0.65. Explain any differences between conclusions."
   ]
  },
  {
   "cell_type": "markdown",
   "metadata": {},
   "source": [
    "`Your answer goes here`"
   ]
  },
  {
   "cell_type": "markdown",
   "metadata": {},
   "source": [
    "### Answer\n",
    "Bayesian Analysis:\n",
    "\n",
    "Given a prior distribution: Beta (50, 50) which reflects the pollers belief that is between 0.35 and 0.65.\n",
    "\n",
    "For both States(s) arriving at the Posterior distribution equation: \n",
    "\n",
    "$\n",
    " P(p_s|x_s) - Beta(x_s+alpha, n_s - x_s + beta) \n",
    "$\n",
    "\n",
    "#### State A\n",
    "- Prior:  Beta(50,50)\n",
    "- Posterior: Beta(109, 91)\n",
    "- $E[p_A] = \\frac{109}{109+91} = 0.545$\n",
    "- Bounds for state A: (0.4758, 0.6133)\n",
    "\n",
    "#### State A\n",
    "- Prior:  Beta(50,50)\n",
    "- Posterior: Beta(575, 525)\n",
    "- $E[p_B] = \\frac{575}{575+525} = 0.523$\n",
    "- Bounds for state B: (0.4932, 0.5522)\n",
    "\n",
    "### Interpretation\n",
    " The posterior mean for State A (0.545) is higher than that for State B (0.523). This suggests that there is a greater proportion of support for the Republican candidate in State A compared to State B.\n",
    " For State A, the credible interval (0.4758, 0.6133) indicates that we are 95% confident that the true proportion of support lies within this range. For State B, the credible interval (0.4932, 0.5522) indicates a narrower range of support.\n",
    " Bayesian analysis indicates that State A has a higher estimated mean proportion of support compared to State B.\n",
    "\n",
    "### Comparison with both methods\n",
    "P-Value Interpretation: A failure to reject the null hypothesis does not imply that the null hypothesis is true, merely indicating that there is not enough evidence against it.\n",
    "\n",
    "The Bayesian approach provides credible intervals, which directly convey uncertainty about parameter estimates, improving the analysis.\n"
   ]
  },
  {
   "cell_type": "code",
   "execution_count": 19,
   "metadata": {},
   "outputs": [
    {
     "name": "stdout",
     "output_type": "stream",
     "text": [
      "Bounds for state A: 0.4758,0.6133\n",
      "Bounds for state B: 0.4932,0.5522\n"
     ]
    }
   ],
   "source": [
    "pi=0.5\n",
    "# beta(50,50)\n",
    "alpha, beta=50,50\n",
    "\n",
    "# state A\n",
    "xa, na = 59,100\n",
    "p_a = xa/na\n",
    "\n",
    "# State B\n",
    "xb, nb = 525,1000 \n",
    "p_b = xb/nb\n",
    "\n",
    "\n",
    "# Applying beta distribution\n",
    "alpha_a, beta_a = xa + alpha, na - xa + beta\n",
    "\n",
    "alpha_b, beta_b = xb + alpha, nb - xb + beta\n",
    "\n",
    "\n",
    "# Calculate quantiles for a 95% credible interval\n",
    "lower_bound_a = stats.beta.ppf(0.025, alpha_a, beta_a)\n",
    "upper_bound_a = stats.beta.ppf(0.975, alpha_a, beta_a)\n",
    "print(\"Bounds for state A: %.4f,%.4f\"%(lower_bound_a,upper_bound_a ))\n",
    "# Calculate quantiles for a 95% credible interval\n",
    "lower_bound_b = stats.beta.ppf(0.025, alpha_b, beta_b)\n",
    "upper_bound_b = stats.beta.ppf(0.975, alpha_b, beta_b)\n",
    "print(\"Bounds for state B: %.4f,%.4f\"%(lower_bound_b,upper_bound_b ))"
   ]
  },
  {
   "cell_type": "markdown",
   "metadata": {},
   "source": [
    "## Problem 5.8."
   ]
  },
  {
   "cell_type": "markdown",
   "metadata": {},
   "source": [
    "For the `Students` data file at the text website, analyze political ideology."
   ]
  },
  {
   "cell_type": "code",
   "execution_count": 20,
   "metadata": {},
   "outputs": [
    {
     "data": {
      "text/html": [
       "<div>\n",
       "<style scoped>\n",
       "    .dataframe tbody tr th:only-of-type {\n",
       "        vertical-align: middle;\n",
       "    }\n",
       "\n",
       "    .dataframe tbody tr th {\n",
       "        vertical-align: top;\n",
       "    }\n",
       "\n",
       "    .dataframe thead th {\n",
       "        text-align: right;\n",
       "    }\n",
       "</style>\n",
       "<table border=\"1\" class=\"dataframe\">\n",
       "  <thead>\n",
       "    <tr style=\"text-align: right;\">\n",
       "      <th></th>\n",
       "      <th>subject</th>\n",
       "      <th>gender</th>\n",
       "      <th>age</th>\n",
       "      <th>hsgpa</th>\n",
       "      <th>cogpa</th>\n",
       "      <th>dhome</th>\n",
       "      <th>dres</th>\n",
       "      <th>tv</th>\n",
       "      <th>sport</th>\n",
       "      <th>news</th>\n",
       "      <th>aids</th>\n",
       "      <th>veg</th>\n",
       "      <th>affil</th>\n",
       "      <th>ideol</th>\n",
       "      <th>relig</th>\n",
       "      <th>abor</th>\n",
       "      <th>affirm</th>\n",
       "      <th>life</th>\n",
       "    </tr>\n",
       "  </thead>\n",
       "  <tbody>\n",
       "    <tr>\n",
       "      <th>0</th>\n",
       "      <td>1</td>\n",
       "      <td>0</td>\n",
       "      <td>32</td>\n",
       "      <td>2.2</td>\n",
       "      <td>3.5</td>\n",
       "      <td>0</td>\n",
       "      <td>5.0</td>\n",
       "      <td>3.0</td>\n",
       "      <td>5</td>\n",
       "      <td>0</td>\n",
       "      <td>0</td>\n",
       "      <td>0</td>\n",
       "      <td>2</td>\n",
       "      <td>6</td>\n",
       "      <td>2</td>\n",
       "      <td>0</td>\n",
       "      <td>0</td>\n",
       "      <td>1</td>\n",
       "    </tr>\n",
       "    <tr>\n",
       "      <th>1</th>\n",
       "      <td>2</td>\n",
       "      <td>1</td>\n",
       "      <td>23</td>\n",
       "      <td>2.1</td>\n",
       "      <td>3.5</td>\n",
       "      <td>1200</td>\n",
       "      <td>0.3</td>\n",
       "      <td>15.0</td>\n",
       "      <td>7</td>\n",
       "      <td>5</td>\n",
       "      <td>6</td>\n",
       "      <td>1</td>\n",
       "      <td>1</td>\n",
       "      <td>2</td>\n",
       "      <td>1</td>\n",
       "      <td>1</td>\n",
       "      <td>1</td>\n",
       "      <td>3</td>\n",
       "    </tr>\n",
       "    <tr>\n",
       "      <th>2</th>\n",
       "      <td>3</td>\n",
       "      <td>1</td>\n",
       "      <td>27</td>\n",
       "      <td>3.3</td>\n",
       "      <td>3.0</td>\n",
       "      <td>1300</td>\n",
       "      <td>1.5</td>\n",
       "      <td>0.0</td>\n",
       "      <td>4</td>\n",
       "      <td>3</td>\n",
       "      <td>0</td>\n",
       "      <td>1</td>\n",
       "      <td>1</td>\n",
       "      <td>2</td>\n",
       "      <td>2</td>\n",
       "      <td>1</td>\n",
       "      <td>1</td>\n",
       "      <td>3</td>\n",
       "    </tr>\n",
       "    <tr>\n",
       "      <th>3</th>\n",
       "      <td>4</td>\n",
       "      <td>1</td>\n",
       "      <td>35</td>\n",
       "      <td>3.5</td>\n",
       "      <td>3.2</td>\n",
       "      <td>1500</td>\n",
       "      <td>8.0</td>\n",
       "      <td>5.0</td>\n",
       "      <td>5</td>\n",
       "      <td>6</td>\n",
       "      <td>3</td>\n",
       "      <td>0</td>\n",
       "      <td>3</td>\n",
       "      <td>4</td>\n",
       "      <td>1</td>\n",
       "      <td>1</td>\n",
       "      <td>1</td>\n",
       "      <td>2</td>\n",
       "    </tr>\n",
       "    <tr>\n",
       "      <th>4</th>\n",
       "      <td>5</td>\n",
       "      <td>0</td>\n",
       "      <td>23</td>\n",
       "      <td>3.1</td>\n",
       "      <td>3.5</td>\n",
       "      <td>1600</td>\n",
       "      <td>10.0</td>\n",
       "      <td>6.0</td>\n",
       "      <td>6</td>\n",
       "      <td>3</td>\n",
       "      <td>0</td>\n",
       "      <td>0</td>\n",
       "      <td>3</td>\n",
       "      <td>1</td>\n",
       "      <td>0</td>\n",
       "      <td>1</td>\n",
       "      <td>0</td>\n",
       "      <td>2</td>\n",
       "    </tr>\n",
       "  </tbody>\n",
       "</table>\n",
       "</div>"
      ],
      "text/plain": [
       "   subject  gender  age  hsgpa  cogpa  dhome  dres    tv  sport  news  aids  \\\n",
       "0        1       0   32    2.2    3.5      0   5.0   3.0      5     0     0   \n",
       "1        2       1   23    2.1    3.5   1200   0.3  15.0      7     5     6   \n",
       "2        3       1   27    3.3    3.0   1300   1.5   0.0      4     3     0   \n",
       "3        4       1   35    3.5    3.2   1500   8.0   5.0      5     6     3   \n",
       "4        5       0   23    3.1    3.5   1600  10.0   6.0      6     3     0   \n",
       "\n",
       "   veg  affil  ideol  relig  abor  affirm  life  \n",
       "0    0      2      6      2     0       0     1  \n",
       "1    1      1      2      1     1       1     3  \n",
       "2    1      1      2      2     1       1     3  \n",
       "3    0      3      4      1     1       1     2  \n",
       "4    0      3      1      0     1       0     2  "
      ]
     },
     "execution_count": 20,
     "metadata": {},
     "output_type": "execute_result"
    }
   ],
   "source": [
    "# Read in the Students data file\n",
    "students = pd.read_csv('https://stat4ds.rwth-aachen.de/data/Students.dat', sep=r'\\s+')\n",
    "\n",
    "# View the first few rows of the dataset\n",
    "students.head()"
   ]
  },
  {
   "cell_type": "markdown",
   "metadata": {},
   "source": [
    "(a) Test whether the population mean $\\mu$ differs from 4.0, the moderate response. Report the\n",
    "*P*-value, and interpret. Make a conclusion using $\\alpha$ - level = 0.05."
   ]
  },
  {
   "cell_type": "markdown",
   "metadata": {},
   "source": [
    "`Your answer goes here`"
   ]
  },
  {
   "cell_type": "code",
   "execution_count": 164,
   "metadata": {},
   "outputs": [],
   "source": [
    "def interpret_p_value(p_value, alpha=0.05):\n",
    "    if p_value < alpha:\n",
    "        return \"Reject the null hypothesis. There is a statistically significant difference.\"\n",
    "    else:\n",
    "        return \"Fail to reject the null hypothesis. There is no statistically significant difference.\"\n",
    "\n",
    "def calculate_p_value(t_score, df):\n",
    "    p_value = 2 * (1 - stats.t.cdf(np.abs(t_score), df))\n",
    "    return p_value\n",
    "\n",
    "def test_t(sample_size, sample_mean, mu, std):\n",
    "    return (sample_mean - mu)/(std / np.sqrt(sample_size))\n"
   ]
  },
  {
   "cell_type": "code",
   "execution_count": 166,
   "metadata": {},
   "outputs": [
    {
     "name": "stdout",
     "output_type": "stream",
     "text": [
      "t stat: -4.6152\n",
      "p-value: 0.0000\n",
      "Reject the null hypothesis. There is a statistically significant difference.\n"
     ]
    }
   ],
   "source": [
    "# variable ideol\n",
    "# H0: population_mean == sample_mean\n",
    "mu = 4.0\n",
    "\n",
    "sample_mean = np.mean(students[\"ideol\"])\n",
    "sample_size = len(students.index)\n",
    "std = np.std(students[\"ideol\"])\n",
    "df = sample_size - 1\n",
    "\n",
    "test_stat = test_t(sample_size, sample_mean, mu, std)\n",
    "\n",
    "p_value = calculate_p_value(test_stat, df)\n",
    "\n",
    "result = interpret_p_value(p_value)\n",
    "\n",
    "print(\"t stat: %.4f\"%test_stat)\n",
    "print(\"p-value: %.4f\"% p_value)\n",
    "print(result)"
   ]
  },
  {
   "cell_type": "markdown",
   "metadata": {},
   "source": [
    "(b) Construct the 95% confidence interval for $\\mu$. Explain how results relate to those of the\n",
    "test in (a).\n"
   ]
  },
  {
   "cell_type": "markdown",
   "metadata": {},
   "source": [
    "`Your answer goes here`"
   ]
  },
  {
   "cell_type": "code",
   "execution_count": 41,
   "metadata": {},
   "outputs": [
    {
     "name": "stdout",
     "output_type": "stream",
     "text": [
      "Confidence Interval: (2.619, 3.447)\n"
     ]
    }
   ],
   "source": [
    "# finding confindence interval \n",
    "sample_se = stats.sem(students['ideol'])\n",
    "lower, upper = stats.norm.interval(confidence=0.95, loc=sample_mean, scale=sample_se)\n",
    "\n",
    "print(\"Confidence Interval: (%.3f, %.3f)\"%(lower, upper))"
   ]
  },
  {
   "cell_type": "markdown",
   "metadata": {},
   "source": [
    "## Problem 5.10."
   ]
  },
  {
   "cell_type": "markdown",
   "metadata": {},
   "source": [
    "A study of sheep mentioned in Exercise 1.27 analyzed whether the sheep survived for a year\n",
    "from the original observation time (1 = yes, 0 = no) as a function of their weight (*kg*) at the\n",
    "original observation. Stating any assumptions including the conceptual population of interest,\n",
    "use a *t* test with the data in the Sheep data file at the text website to compare mean weights\n",
    "of the sheep that survived and did not survive. Interpret the *P*-value."
   ]
  },
  {
   "cell_type": "markdown",
   "metadata": {},
   "source": [
    "`Your answer goes here`"
   ]
  },
  {
   "cell_type": "code",
   "execution_count": 51,
   "metadata": {},
   "outputs": [
    {
     "name": "stdout",
     "output_type": "stream",
     "text": [
      "   sheep  weight  survival\n",
      "0      1    20.8         0\n",
      "1      2    23.0         1\n",
      "2      3    28.0         1\n",
      "3      4    27.5         1\n",
      "4      5    26.0         0\n"
     ]
    }
   ],
   "source": [
    "data_url = 'https://stat4ds.rwth-aachen.de/data/Sheep.dat'\n",
    "sheep_data = pd.read_csv(data_url, sep=r'\\s+')\n",
    "df = pd.DataFrame(sheep_data)\n",
    "\n",
    "print(sheep_data.head())"
   ]
  },
  {
   "cell_type": "code",
   "execution_count": 53,
   "metadata": {},
   "outputs": [
    {
     "name": "stdout",
     "output_type": "stream",
     "text": [
      "Survived sheep mean weight: 20.646\n",
      "Lost sheep mean weight: 15.998\n",
      "t value = 14.50, p val = 0.00\n",
      "Reject the null hypothesis. There is a statistically significant difference.\n"
     ]
    }
   ],
   "source": [
    "# Defining samples\n",
    "survived_df= df[df['survival'] == 1]\n",
    "died_df = df[df['survival'] == 0]\n",
    "\n",
    "print(\"Survived sheep mean weight: %.3f\"%survived_df['weight'].mean())\n",
    "print(\"Lost sheep mean weight: %.3f\"%died_df['weight'].mean())\n",
    "\n",
    "\n",
    "t_stat, p_val = stats.ttest_ind(survived_df['weight'], died_df['weight'])\n",
    "print(\"t value = %.2f, p val = %.2f\"%(t_stat, p_val))\n",
    "\n",
    "print(interpret_p_value(p_val))"
   ]
  },
  {
   "cell_type": "markdown",
   "metadata": {},
   "source": [
    "## Problem 5.11."
   ]
  },
  {
   "cell_type": "markdown",
   "metadata": {},
   "source": [
    "Use descriptive statistics and significance tests to compare the population mean political ideology for each pair of groups in Table 5.2 using the `Polid` data file. Summarize results using\n",
    "*P*-values and using a non-technical explanation."
   ]
  },
  {
   "cell_type": "markdown",
   "metadata": {},
   "source": [
    "`Your answer goes here`"
   ]
  },
  {
   "cell_type": "code",
   "execution_count": 69,
   "metadata": {},
   "outputs": [
    {
     "name": "stdout",
     "output_type": "stream",
     "text": [
      "       race  ideology\n",
      "1  hispanic         1\n",
      "2  hispanic         1\n",
      "3  hispanic         1\n",
      "4  hispanic         1\n",
      "5  hispanic         1\n"
     ]
    },
    {
     "data": {
      "text/html": [
       "<div>\n",
       "<style scoped>\n",
       "    .dataframe tbody tr th:only-of-type {\n",
       "        vertical-align: middle;\n",
       "    }\n",
       "\n",
       "    .dataframe tbody tr th {\n",
       "        vertical-align: top;\n",
       "    }\n",
       "\n",
       "    .dataframe thead tr th {\n",
       "        text-align: left;\n",
       "    }\n",
       "\n",
       "    .dataframe thead tr:last-of-type th {\n",
       "        text-align: right;\n",
       "    }\n",
       "</style>\n",
       "<table border=\"1\" class=\"dataframe\">\n",
       "  <thead>\n",
       "    <tr>\n",
       "      <th></th>\n",
       "      <th colspan=\"8\" halign=\"left\">ideology</th>\n",
       "    </tr>\n",
       "    <tr>\n",
       "      <th></th>\n",
       "      <th>count</th>\n",
       "      <th>mean</th>\n",
       "      <th>std</th>\n",
       "      <th>min</th>\n",
       "      <th>25%</th>\n",
       "      <th>50%</th>\n",
       "      <th>75%</th>\n",
       "      <th>max</th>\n",
       "    </tr>\n",
       "    <tr>\n",
       "      <th>race</th>\n",
       "      <th></th>\n",
       "      <th></th>\n",
       "      <th></th>\n",
       "      <th></th>\n",
       "      <th></th>\n",
       "      <th></th>\n",
       "      <th></th>\n",
       "      <th></th>\n",
       "    </tr>\n",
       "  </thead>\n",
       "  <tbody>\n",
       "    <tr>\n",
       "      <th>black</th>\n",
       "      <td>371.0</td>\n",
       "      <td>3.816712</td>\n",
       "      <td>1.298165</td>\n",
       "      <td>1.0</td>\n",
       "      <td>3.0</td>\n",
       "      <td>4.0</td>\n",
       "      <td>4.0</td>\n",
       "      <td>7.0</td>\n",
       "    </tr>\n",
       "    <tr>\n",
       "      <th>hispanic</th>\n",
       "      <td>369.0</td>\n",
       "      <td>4.089431</td>\n",
       "      <td>1.339258</td>\n",
       "      <td>1.0</td>\n",
       "      <td>3.0</td>\n",
       "      <td>4.0</td>\n",
       "      <td>5.0</td>\n",
       "      <td>7.0</td>\n",
       "    </tr>\n",
       "    <tr>\n",
       "      <th>white</th>\n",
       "      <td>1835.0</td>\n",
       "      <td>4.170572</td>\n",
       "      <td>1.458553</td>\n",
       "      <td>1.0</td>\n",
       "      <td>3.0</td>\n",
       "      <td>4.0</td>\n",
       "      <td>5.0</td>\n",
       "      <td>7.0</td>\n",
       "    </tr>\n",
       "  </tbody>\n",
       "</table>\n",
       "</div>"
      ],
      "text/plain": [
       "         ideology                                             \n",
       "            count      mean       std  min  25%  50%  75%  max\n",
       "race                                                          \n",
       "black       371.0  3.816712  1.298165  1.0  3.0  4.0  4.0  7.0\n",
       "hispanic    369.0  4.089431  1.339258  1.0  3.0  4.0  5.0  7.0\n",
       "white      1835.0  4.170572  1.458553  1.0  3.0  4.0  5.0  7.0"
      ]
     },
     "execution_count": 69,
     "metadata": {},
     "output_type": "execute_result"
    }
   ],
   "source": [
    "# Read and create data frame\n",
    "data_url = 'https://stat4ds.rwth-aachen.de/data/Polid.dat'\n",
    "sheep_data = pd.read_csv(data_url, sep=r'\\s+')\n",
    "df = pd.DataFrame(sheep_data)\n",
    "print(df.head())\n",
    "# Summaryzing the data by Race\n",
    "df.groupby(\"race\").describe()"
   ]
  },
  {
   "cell_type": "markdown",
   "metadata": {},
   "source": [
    "### Interpretation\n",
    "\n",
    "From the information presented here, it is possible to say that Race might play a role into someone choosing an ideology. We can expect that given two race groups from the sample, there is the possibility of their ideology differ. More information is needed though, given the fact that we cannot yet describe the effect size of this in real world scenarios.\n"
   ]
  },
  {
   "cell_type": "code",
   "execution_count": 121,
   "metadata": {},
   "outputs": [],
   "source": [
    "def ttest_info(df1, df2):\n",
    "    t_stat, p_val = stats.ttest_ind(ideol_by_race[0], ideol_by_race[1])\n",
    "    print(\"Tests: p value: t = %.2f, p value = %.2f\"%(t_stat, p_val))\n",
    "    return t_stat, p_val"
   ]
  },
  {
   "cell_type": "code",
   "execution_count": 122,
   "metadata": {},
   "outputs": [
    {
     "name": "stdout",
     "output_type": "stream",
     "text": [
      "=== Hispanics and Blacks ===\n",
      "Tests: p value: t = -2.81, p value = 0.01\n",
      "Reject the null hypothesis. There is a statistically significant difference.\n",
      "\n",
      "=== Hispanics and Whites ===\n",
      "Tests: p value: t = -2.81, p value = 0.01\n",
      "Reject the null hypothesis. There is a statistically significant difference.\n",
      "\n",
      "=== Whites and Blacks ===\n",
      "Tests: p value: t = -2.81, p value = 0.01\n",
      "Reject the null hypothesis. There is a statistically significant difference.\n"
     ]
    }
   ],
   "source": [
    "\n",
    "\n",
    "blk_df, his_df, whi_df = df[df['race'] == 'black'], df[df['race'] == 'hispanic'], df[df['race'] == 'white']\n",
    "\n",
    "\n",
    "print(\"=== Hispanics and Blacks ===\")\n",
    "tval, pval = ttest_info(his_df, blk_df)\n",
    "print(interpret_p_value(pval));print()\n",
    "\n",
    "print(\"=== Hispanics and Whites ===\")\n",
    "tval, pval = ttest_info(his_df, whi_df)\n",
    "print(interpret_p_value(pval));print()\n",
    "\n",
    "print(\"=== Whites and Blacks ===\")\n",
    "tval, pval = ttest_info(whi_df, blk_df)\n",
    "print(interpret_p_value(pval))"
   ]
  },
  {
   "cell_type": "markdown",
   "metadata": {},
   "source": [
    "## Problem 5.14 (a)."
   ]
  },
  {
   "cell_type": "markdown",
   "metadata": {},
   "source": [
    "The `Income` data file at the book’s website shows annual incomes in thousands of dollars for\n",
    "subjects in three racial-ethnic groups in the U.S."
   ]
  },
  {
   "cell_type": "markdown",
   "metadata": {},
   "source": [
    "(a) Stating all assumptions including the relative importance of each, show all steps of a significance test for comparing population mean incomes of Blacks and Hispanics. Interpret.\n"
   ]
  },
  {
   "cell_type": "markdown",
   "metadata": {},
   "source": [
    "`Your answer goes here`"
   ]
  },
  {
   "cell_type": "markdown",
   "metadata": {},
   "source": [
    "### Interpretation\n",
    "\n",
    "Comparing the mean incomes of Blacks and Hispanics we need to execute a t test using both ethinicitis information.\n",
    "\n",
    "With the result t = -2.81, p value = 0.01 we can assume that:\n",
    "- Reject the Null Hypothesis:  statistically significant difference between income means \n",
    "- There is a significant effect in the data, meaning that ethnicity plays a role in income. \n",
    "\n"
   ]
  },
  {
   "cell_type": "code",
   "execution_count": 123,
   "metadata": {},
   "outputs": [
    {
     "name": "stdout",
     "output_type": "stream",
     "text": [
      "     income                                                  education  \\\n",
      "      count   mean        std   min   25%   50%   75%    max     count   \n",
      "race                                                                     \n",
      "B      16.0  27.75  13.284076  16.0  19.5  24.0  31.0   66.0      16.0   \n",
      "H      14.0  31.00  12.812254  16.0  20.5  30.0  32.0   58.0      14.0   \n",
      "W      50.0  42.48  22.869854  18.0  24.0  37.0  50.0  120.0      50.0   \n",
      "\n",
      "                                                          \n",
      "           mean       std  min    25%   50%    75%   max  \n",
      "race                                                      \n",
      "B     12.250000  3.356586  7.0  10.00  11.5  15.25  19.0  \n",
      "H     11.642857  2.307418  8.0  10.00  11.0  12.00  16.0  \n",
      "W     13.120000  2.804079  7.0  11.25  12.5  15.75  20.0  \n",
      "\n",
      "Tests: p value: t = -2.81, p value = 0.01\n",
      "Reject the null hypothesis. There is a statistically significant difference.\n"
     ]
    }
   ],
   "source": [
    "data_url = 'https://stat4ds.rwth-aachen.de/data/Income.dat'\n",
    "data = pd.read_csv(data_url, sep=r'\\s+')\n",
    "df = pd.DataFrame(data)\n",
    "\n",
    "ethinicity = df.groupby(\"race\")\n",
    "\n",
    "# Descriptive Data Information\n",
    "print(ethinicity.describe());print()\n",
    "\n",
    "# Null Hypothesis H0: black_mean_income != black_mean_income\n",
    "black_income = ethinicity.get_group(\"B\")[\"income\"]\n",
    "hispanic_income = ethinicity.get_group(\"H\")[\"income\"]\n",
    "\n",
    "\n",
    "ttest, pval = ttest_info(black_income, hispanic_income)\n",
    "print(interpret_p_value(pval))\n"
   ]
  },
  {
   "cell_type": "markdown",
   "metadata": {},
   "source": [
    "## Problem 5.15."
   ]
  },
  {
   "cell_type": "markdown",
   "metadata": {},
   "source": [
    "A recent report $\\text{}^{39}$ estimated mean adult heights in the U.S. of 175.4 *cm* (69.1 inches) for men\n",
    "and 161.7 *cm* (63.7 inches) for women, with standard deviation about 7 *cm* for each group. For\n",
    "all finishers in the Boston Marathon since 1972, the time to finish has a mean of 221 minutes\n",
    "for men and 248 minutes for women, each with a standard deviation of about 40 minutes.\n",
    "According to the effect size, is the difference between men and women greater for height or for\n",
    "marathon times? Explain."
   ]
  },
  {
   "cell_type": "markdown",
   "metadata": {},
   "source": [
    "`Your answer goes here`"
   ]
  },
  {
   "cell_type": "markdown",
   "metadata": {},
   "source": [
    "### Interpretation\n",
    "\n",
    "The difference in height between men and women has a large effect size, following Cohen's d interpretation, indicating a major difference at 1.9571.\n",
    "\n",
    "The difference in marathon finish times has a medium effect size (Cohen's d of 0.675), indicating a moderate difference.\n",
    "\n",
    "The large effect size for height sugests a greater gender difference than in marathon finishing times."
   ]
  },
  {
   "cell_type": "code",
   "execution_count": 129,
   "metadata": {},
   "outputs": [
    {
     "data": {
      "text/plain": [
       "(1.9571428571428595, -0.675)"
      ]
     },
     "execution_count": 129,
     "metadata": {},
     "output_type": "execute_result"
    }
   ],
   "source": [
    "# effect size strengh of the phenomenon\n",
    "\n",
    "def calculate_effect_size(mean1, mean2, std):\n",
    "    return (mean1 - mean2) / std\n",
    "\n",
    "man_mean = 175.4 #cm\n",
    "women_mean = 161.7 #cm\n",
    "height_std = 7\n",
    "\n",
    "effect_size1 = calculate_effect_size(man_mean, women_mean, height_std)\n",
    "\n",
    "man_finishers_mean = 221 #min\n",
    "women_finishers_mean = 248 #min\n",
    "marathon_std = 40\n",
    "\n",
    "effect_size2 = calculate_effect_size(man_finishers_mean, women_finishers_mean, marathon_std)\n",
    "\n",
    "\n",
    "(effect_size1, effect_size2)"
   ]
  },
  {
   "cell_type": "markdown",
   "metadata": {},
   "source": [
    "## Problem 5.17."
   ]
  },
  {
   "cell_type": "markdown",
   "metadata": {},
   "source": [
    "Ideally, results of a statistical analysis should not depend greatly on a single observation. In a\n",
    "sensitivity study, we re-do the analysis after deleting an outlier from the data set or changing its\n",
    "value to a more typical value and checking whether results change much. For the anorexia data\n",
    "analysis in Section 5.3.2, the weight change of 20.9 pounds for the cb group was a severe outlier.\n",
    "Suppose this observation was actually 2.9 pounds but recorded incorrectly. Find the *P*-value\n",
    "for testing $H_0: \\mu1 = \\mu2$ against $H_a: \\mu1 \\ne \\mu2$ with and without that observation. Summarize its\n",
    "influence."
   ]
  },
  {
   "cell_type": "markdown",
   "metadata": {},
   "source": [
    "`Your answer goes here`"
   ]
  },
  {
   "cell_type": "code",
   "execution_count": 159,
   "metadata": {},
   "outputs": [
    {
     "data": {
      "text/html": [
       "<div>\n",
       "<style scoped>\n",
       "    .dataframe tbody tr th:only-of-type {\n",
       "        vertical-align: middle;\n",
       "    }\n",
       "\n",
       "    .dataframe tbody tr th {\n",
       "        vertical-align: top;\n",
       "    }\n",
       "\n",
       "    .dataframe thead tr th {\n",
       "        text-align: left;\n",
       "    }\n",
       "\n",
       "    .dataframe thead tr:last-of-type th {\n",
       "        text-align: right;\n",
       "    }\n",
       "</style>\n",
       "<table border=\"1\" class=\"dataframe\">\n",
       "  <thead>\n",
       "    <tr>\n",
       "      <th></th>\n",
       "      <th colspan=\"8\" halign=\"left\">subject</th>\n",
       "      <th colspan=\"2\" halign=\"left\">before</th>\n",
       "      <th>...</th>\n",
       "      <th colspan=\"2\" halign=\"left\">after</th>\n",
       "      <th colspan=\"8\" halign=\"left\">change</th>\n",
       "    </tr>\n",
       "    <tr>\n",
       "      <th></th>\n",
       "      <th>count</th>\n",
       "      <th>mean</th>\n",
       "      <th>std</th>\n",
       "      <th>min</th>\n",
       "      <th>25%</th>\n",
       "      <th>50%</th>\n",
       "      <th>75%</th>\n",
       "      <th>max</th>\n",
       "      <th>count</th>\n",
       "      <th>mean</th>\n",
       "      <th>...</th>\n",
       "      <th>75%</th>\n",
       "      <th>max</th>\n",
       "      <th>count</th>\n",
       "      <th>mean</th>\n",
       "      <th>std</th>\n",
       "      <th>min</th>\n",
       "      <th>25%</th>\n",
       "      <th>50%</th>\n",
       "      <th>75%</th>\n",
       "      <th>max</th>\n",
       "    </tr>\n",
       "    <tr>\n",
       "      <th>therapy</th>\n",
       "      <th></th>\n",
       "      <th></th>\n",
       "      <th></th>\n",
       "      <th></th>\n",
       "      <th></th>\n",
       "      <th></th>\n",
       "      <th></th>\n",
       "      <th></th>\n",
       "      <th></th>\n",
       "      <th></th>\n",
       "      <th></th>\n",
       "      <th></th>\n",
       "      <th></th>\n",
       "      <th></th>\n",
       "      <th></th>\n",
       "      <th></th>\n",
       "      <th></th>\n",
       "      <th></th>\n",
       "      <th></th>\n",
       "      <th></th>\n",
       "      <th></th>\n",
       "    </tr>\n",
       "  </thead>\n",
       "  <tbody>\n",
       "    <tr>\n",
       "      <th>c</th>\n",
       "      <td>26.0</td>\n",
       "      <td>59.5</td>\n",
       "      <td>7.648529</td>\n",
       "      <td>47.0</td>\n",
       "      <td>53.25</td>\n",
       "      <td>59.5</td>\n",
       "      <td>65.75</td>\n",
       "      <td>72.0</td>\n",
       "      <td>26.0</td>\n",
       "      <td>81.557692</td>\n",
       "      <td>...</td>\n",
       "      <td>84.675</td>\n",
       "      <td>89.6</td>\n",
       "      <td>26.0</td>\n",
       "      <td>-0.450000</td>\n",
       "      <td>7.988705</td>\n",
       "      <td>-12.2</td>\n",
       "      <td>-7.0</td>\n",
       "      <td>-0.35</td>\n",
       "      <td>3.6</td>\n",
       "      <td>15.9</td>\n",
       "    </tr>\n",
       "    <tr>\n",
       "      <th>cb</th>\n",
       "      <td>29.0</td>\n",
       "      <td>15.0</td>\n",
       "      <td>8.514693</td>\n",
       "      <td>1.0</td>\n",
       "      <td>8.00</td>\n",
       "      <td>15.0</td>\n",
       "      <td>22.00</td>\n",
       "      <td>29.0</td>\n",
       "      <td>29.0</td>\n",
       "      <td>82.689655</td>\n",
       "      <td>...</td>\n",
       "      <td>90.900</td>\n",
       "      <td>103.6</td>\n",
       "      <td>29.0</td>\n",
       "      <td>3.006897</td>\n",
       "      <td>7.308504</td>\n",
       "      <td>-9.1</td>\n",
       "      <td>-0.7</td>\n",
       "      <td>1.40</td>\n",
       "      <td>3.9</td>\n",
       "      <td>20.9</td>\n",
       "    </tr>\n",
       "    <tr>\n",
       "      <th>f</th>\n",
       "      <td>17.0</td>\n",
       "      <td>38.0</td>\n",
       "      <td>5.049752</td>\n",
       "      <td>30.0</td>\n",
       "      <td>34.00</td>\n",
       "      <td>38.0</td>\n",
       "      <td>42.00</td>\n",
       "      <td>46.0</td>\n",
       "      <td>17.0</td>\n",
       "      <td>83.229412</td>\n",
       "      <td>...</td>\n",
       "      <td>95.200</td>\n",
       "      <td>101.6</td>\n",
       "      <td>17.0</td>\n",
       "      <td>7.264706</td>\n",
       "      <td>7.157421</td>\n",
       "      <td>-5.3</td>\n",
       "      <td>3.9</td>\n",
       "      <td>9.00</td>\n",
       "      <td>11.4</td>\n",
       "      <td>21.5</td>\n",
       "    </tr>\n",
       "  </tbody>\n",
       "</table>\n",
       "<p>3 rows × 32 columns</p>\n",
       "</div>"
      ],
      "text/plain": [
       "        subject                                                 before  \\\n",
       "          count  mean       std   min    25%   50%    75%   max  count   \n",
       "therapy                                                                  \n",
       "c          26.0  59.5  7.648529  47.0  53.25  59.5  65.75  72.0   26.0   \n",
       "cb         29.0  15.0  8.514693   1.0   8.00  15.0  22.00  29.0   29.0   \n",
       "f          17.0  38.0  5.049752  30.0  34.00  38.0  42.00  46.0   17.0   \n",
       "\n",
       "                    ...   after        change                                 \\\n",
       "              mean  ...     75%    max  count      mean       std   min  25%   \n",
       "therapy             ...                                                        \n",
       "c        81.557692  ...  84.675   89.6   26.0 -0.450000  7.988705 -12.2 -7.0   \n",
       "cb       82.689655  ...  90.900  103.6   29.0  3.006897  7.308504  -9.1 -0.7   \n",
       "f        83.229412  ...  95.200  101.6   17.0  7.264706  7.157421  -5.3  3.9   \n",
       "\n",
       "                           \n",
       "          50%   75%   max  \n",
       "therapy                    \n",
       "c       -0.35   3.6  15.9  \n",
       "cb       1.40   3.9  20.9  \n",
       "f        9.00  11.4  21.5  \n",
       "\n",
       "[3 rows x 32 columns]"
      ]
     },
     "execution_count": 159,
     "metadata": {},
     "output_type": "execute_result"
    }
   ],
   "source": [
    "# Getting data\n",
    "data_url = 'http://stat4ds.rwth-aachen.de/data/Anorexia.dat'\n",
    "data = pd.read_csv(data_url, sep=r'\\s+')\n",
    "df = pd.DataFrame(data)\n",
    "\n",
    "# Add weight change on a original dataFrame\n",
    "df['change'] = df['after'] - df['before']\n",
    "\n",
    "df.groupby(\"therapy\").describe()"
   ]
  },
  {
   "cell_type": "markdown",
   "metadata": {},
   "source": [
    "### Interpretation\n",
    "\n",
    "As we analyze the data and do a t-test on the weight change, we can clearly see that altought there is a change on the final t-test values when comparing removing the outlier or updating it, the change is minimal, failing to reject the null hypothesis in both cases.\n",
    "\n",
    "Values found:\n",
    "\n",
    "With Updated Outlier\n",
    "\n",
    "- t = 0.191, p value = 0.8485\n",
    "\n",
    "Without Outlier\n",
    "\n",
    "- t = 0.194, p value = 0.8485"
   ]
  },
  {
   "cell_type": "code",
   "execution_count": 162,
   "metadata": {},
   "outputs": [
    {
     "name": "stdout",
     "output_type": "stream",
     "text": [
      "=== With Updated Outlier ===\n",
      "t = 0.191, p value = 0.8485\n",
      "Fail to reject the null hypothesis. There is no statistically significant difference.\n",
      "=== Without Outlier ===\n",
      "t = 0.194, p value = 0.8485\n",
      "Fail to reject the null hypothesis. There is no statistically significant difference.\n"
     ]
    }
   ],
   "source": [
    "\n",
    "# create new dataframe and find outlier\n",
    "updated_data = df.copy()\n",
    "\n",
    "outlier = df[df['therapy']=='cb']['change'].max() #20.900000000000006\n",
    "\n",
    "# update value to new observation\n",
    "mask = df['change'] == outlier\n",
    "updated_data.loc[mask, 'change'] = 2.9\n",
    "\n",
    "print('=== With Updated Outlier ===')\n",
    "t_stat, pval = stats.ttest_ind(df['change'], updated_data['change'])\n",
    "print('t = {:.3f}, p value = {:.4f}'.format(t_stat, p_val))\n",
    "print(interpret_p_value(pval))\n",
    "\n",
    "\n",
    "print('=== Without Outlier ===')\n",
    "#removing outlier\n",
    "updated_data = df.drop(df.index[(df[\"change\"] == outlier)],axis=0) \n",
    "\n",
    "t_stat, pval = stats.ttest_ind(df['change'], updated_data['change'])\n",
    "print('t = {:.3f}, p value = {:.4f}'.format(t_stat, p_val))\n",
    "print(interpret_p_value(pval))"
   ]
  },
  {
   "cell_type": "markdown",
   "metadata": {},
   "source": [
    "## Problem 5.19."
   ]
  },
  {
   "cell_type": "markdown",
   "metadata": {},
   "source": [
    "In the 2018 General Social Survey, when asked whether they believed in life after death, 1017 of 1178 females said *yes*, and 703 of 945 males said *yes*. Test that the population proportions are equal for females and males. Report and interpret the *P*-value."
   ]
  },
  {
   "cell_type": "markdown",
   "metadata": {},
   "source": [
    "`Your answer goes here`"
   ]
  },
  {
   "cell_type": "code",
   "execution_count": 180,
   "metadata": {},
   "outputs": [
    {
     "name": "stdout",
     "output_type": "stream",
     "text": [
      "z test;  6.973\n"
     ]
    }
   ],
   "source": [
    "women_sample=1178\n",
    "women_believers=1017\n",
    "women_p=women_believers/women_sample\n",
    "\n",
    "men_sample=945\n",
    "men_believers=703\n",
    "men_p=men_believers/men_sample\n",
    "\n",
    "pop_size = women_sample + men_sample\n",
    "believers = women_believers + men_believers\n",
    "pop_p = believers/pop_size\n",
    "\n",
    "# calculating p values\n",
    "se = np.sqrt(pop_p * (1 - pop_p) * (1/women_sample + 1/men_sample ) )\n",
    "z_test = (women_p - men_p) / se\n",
    "\n",
    "print(\"z test;  %.3f\"%z_test )"
   ]
  },
  {
   "cell_type": "markdown",
   "metadata": {},
   "source": [
    "### Interpretation\n",
    "\n",
    "- Null hypothesis: H0: women-mean = men-mean\n",
    "- Alternative hypothesis: Ha: women-mean != men-mean\n",
    "\n",
    "After arriving at a z test result of paroximately 6.973, we reach at a P value close to 0 using the normal distribution table, rejecting the null hypothesis and accept the alternative hypothesis. \n",
    "\n",
    "Evidence suggests there is a significant difference between males and females who believe in life after death"
   ]
  },
  {
   "cell_type": "markdown",
   "metadata": {},
   "source": [
    "## Problem 5.23."
   ]
  },
  {
   "cell_type": "markdown",
   "metadata": {},
   "source": [
    "Use the `Happy` data file from the 2018 General Social Survey at the text website to form a\n",
    "contingency table that cross classifies happiness with gender. For $ H_0 $: independence between\n",
    "happiness and gender:"
   ]
  },
  {
   "cell_type": "markdown",
   "metadata": {},
   "source": [
    "(a) Conduct and interpret the chi-squared test."
   ]
  },
  {
   "cell_type": "markdown",
   "metadata": {},
   "source": [
    "`Your answer goes here`"
   ]
  },
  {
   "cell_type": "code",
   "execution_count": 5,
   "metadata": {},
   "outputs": [
    {
     "data": {
      "text/html": [
       "<div>\n",
       "<style scoped>\n",
       "    .dataframe tbody tr th:only-of-type {\n",
       "        vertical-align: middle;\n",
       "    }\n",
       "\n",
       "    .dataframe tbody tr th {\n",
       "        vertical-align: top;\n",
       "    }\n",
       "\n",
       "    .dataframe thead th {\n",
       "        text-align: right;\n",
       "    }\n",
       "</style>\n",
       "<table border=\"1\" class=\"dataframe\">\n",
       "  <thead>\n",
       "    <tr style=\"text-align: right;\">\n",
       "      <th></th>\n",
       "      <th>subject</th>\n",
       "      <th>happiness</th>\n",
       "      <th>marital</th>\n",
       "      <th>gender</th>\n",
       "    </tr>\n",
       "  </thead>\n",
       "  <tbody>\n",
       "    <tr>\n",
       "      <th>0</th>\n",
       "      <td>1</td>\n",
       "      <td>1</td>\n",
       "      <td>1</td>\n",
       "      <td>male</td>\n",
       "    </tr>\n",
       "    <tr>\n",
       "      <th>1</th>\n",
       "      <td>2</td>\n",
       "      <td>1</td>\n",
       "      <td>1</td>\n",
       "      <td>male</td>\n",
       "    </tr>\n",
       "    <tr>\n",
       "      <th>2</th>\n",
       "      <td>3</td>\n",
       "      <td>1</td>\n",
       "      <td>1</td>\n",
       "      <td>male</td>\n",
       "    </tr>\n",
       "    <tr>\n",
       "      <th>3</th>\n",
       "      <td>4</td>\n",
       "      <td>1</td>\n",
       "      <td>1</td>\n",
       "      <td>male</td>\n",
       "    </tr>\n",
       "    <tr>\n",
       "      <th>4</th>\n",
       "      <td>5</td>\n",
       "      <td>1</td>\n",
       "      <td>1</td>\n",
       "      <td>male</td>\n",
       "    </tr>\n",
       "  </tbody>\n",
       "</table>\n",
       "</div>"
      ],
      "text/plain": [
       "   subject  happiness  marital gender\n",
       "0        1          1        1   male\n",
       "1        2          1        1   male\n",
       "2        3          1        1   male\n",
       "3        4          1        1   male\n",
       "4        5          1        1   male"
      ]
     },
     "execution_count": 5,
     "metadata": {},
     "output_type": "execute_result"
    }
   ],
   "source": [
    "from scipy.stats import chi2_contingency\n",
    "\n",
    "data_url = 'https://stat4ds.rwth-aachen.de/data/Happy.dat'\n",
    "data = pd.read_csv(data_url, sep=r'\\s+')\n",
    "df = pd.DataFrame(data)\n",
    "df.head()"
   ]
  },
  {
   "cell_type": "code",
   "execution_count": 6,
   "metadata": {},
   "outputs": [
    {
     "name": "stdout",
     "output_type": "stream",
     "text": [
      "\n",
      "Fail to reject the null hypothesis: \n",
      " There is no significant association between gender and happiness\n"
     ]
    }
   ],
   "source": [
    "#h0 - there's no association between happiness and gender\n",
    "#ha - there is association between happiness and gender\n",
    "\n",
    "# Perform the chi-square test\n",
    "gender_freq_table = pd.crosstab(df['gender'], df['happiness'])\n",
    "\n",
    "chi2_stat, p_value, dof, expected = chi2_contingency(gender_freq_table)\n",
    "\n",
    "# Interpret results\n",
    "alpha = 0.05  # Significance level\n",
    "\n",
    "if p_value < alpha:\n",
    "    print(\"\\nReject the null hypothesis: \\n There is a significant association between gender and happiness\")\n",
    "else:\n",
    "    print(\"\\nFail to reject the null hypothesis: \\n There is no significant association between gender and happiness\")\n"
   ]
  },
  {
   "cell_type": "markdown",
   "metadata": {},
   "source": [
    "(b) Show the estimated expected frequencies and standardized residuals, and form a mosaic\n",
    "plot. Explain how they are consistent with the result of the chi-squared test."
   ]
  },
  {
   "cell_type": "markdown",
   "metadata": {},
   "source": [
    "`Your answer goes here`"
   ]
  },
  {
   "cell_type": "code",
   "execution_count": 12,
   "metadata": {},
   "outputs": [
    {
     "name": "stdout",
     "output_type": "stream",
     "text": [
      "happiness         1         2         3\n",
      "gender                                 \n",
      "female     0.306178  0.060950 -0.572589\n",
      "male      -0.329042 -0.065502  0.615348\n"
     ]
    },
    {
     "data": {
      "image/png": "[encoded data removed]",
      "text/plain": [
       "<Figure size 640x480 with 3 Axes>"
      ]
     },
     "metadata": {},
     "output_type": "display_data"
    }
   ],
   "source": [
    "from statsmodels.graphics.mosaicplot import mosaic\n",
    "\n",
    "# calculate  frequencies: Assuming already calculated expected \n",
    "expected_df = pd.DataFrame(expected, columns=gender_freq_table.columns, index=gender_freq_table.index)\n",
    "\n",
    "# standardized residuals:\n",
    "standardized_residuals = (gender_freq_table - expected) / np.sqrt(expected)\n",
    "print(standardized_residuals)\n",
    "\n",
    "# mosaic plot\n",
    "mosaic(gender_freq_table.stack(), gap=0.00, title=\"Mosaic Plot\")\n",
    "plt.show()"
   ]
  },
  {
   "cell_type": "markdown",
   "metadata": {},
   "source": [
    "&nbsp;\n",
    "&nbsp;\n",
    "&nbsp;\n",
    "&nbsp;\n",
    "&nbsp;\n",
    "&nbsp;\n",
    "&nbsp;\n",
    "&nbsp;\n",
    "\n",
    "\n",
    "----------------\n",
    "$^{39}$ See www.cdc.gov/nchs/data/nhsr/nhsr122-508.pdf and https://doi.org/10.1371/journal.pone.  "
   ]
  }
 ],
 "metadata": {
  "kernelspec": {
   "display_name": "masters",
   "language": "python",
   "name": "masters"
  },
  "language_info": {
   "codemirror_mode": {
    "name": "ipython",
    "version": 3
   },
   "file_extension": ".py",
   "mimetype": "text/x-python",
   "name": "python",
   "nbconvert_exporter": "python",
   "pygments_lexer": "ipython3",
   "version": "3.12.4"
  },
  "vscode": {
   "interpreter": {
    "hash": "b61bb2d7a674932f79ec86662a4165aa288473e6e47a51dc8e3ab9a9cd94608c"
   }
  }
 },
 "nbformat": 4,
 "nbformat_minor": 4
}
