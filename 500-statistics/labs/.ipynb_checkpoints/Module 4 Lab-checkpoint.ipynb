{
 "cells": [
  {
   "cell_type": "markdown",
   "metadata": {},
   "source": [
    "# Module 4 Lab"
   ]
  },
  {
   "cell_type": "markdown",
   "metadata": {},
   "source": [
    "## The Normal Distribution and Confidence Intervals"
   ]
  },
  {
   "cell_type": "code",
   "execution_count": 1,
   "metadata": {},
   "outputs": [],
   "source": [
    "# Load necessary libraries\n",
    "import pandas as pd # for data science\n",
    "import numpy as np  # linear algebra library\n",
    "import matplotlib.pyplot as plt # plotting library\n",
    "# import stats functions\n",
    "from scipy import stats\n",
    "# normal continuous random variable\n",
    "from scipy.stats import norm "
   ]
  },
  {
   "cell_type": "markdown",
   "metadata": {},
   "source": [
    "### Recall *Z*-Normalization from Module 2 Lab\n",
    "$$ Z = \\frac{x-\\mu}{\\sigma} $$"
   ]
  },
  {
   "cell_type": "markdown",
   "metadata": {},
   "source": [
    "## The Normal Distribution"
   ]
  },
  {
   "cell_type": "code",
   "execution_count": 2,
   "metadata": {},
   "outputs": [
    {
     "data": {
      "image/png": "[encoded data removed]",
      "text/plain": [
       "<Figure size 1080x432 with 1 Axes>"
      ]
     },
     "metadata": {
      "needs_background": "light"
     },
     "output_type": "display_data"
    }
   ],
   "source": [
    "# Plot between -4 and 4 with .01 steps.\n",
    "x_axis = np.arange(-4, 4, 0.01)\n",
    "\n",
    "# mean centered at zero\n",
    "mean = 0\n",
    "std = 1 # by 1 standard deviation \n",
    "\n",
    "# plot probability density function\n",
    "pdf = stats.norm.pdf(x_axis, mean, std) \n",
    "plt.figure(figsize=(15, 6)) # change figure size\n",
    "plt.plot(x_axis, pdf)\n",
    "\n",
    "z_score =  1 # z-score for 68% \n",
    "\n",
    "# lower and upper bounds\n",
    "low = mean-z_score*std\n",
    "high = mean+z_score*std\n",
    "\n",
    "# fill (shade) the lower and upper bounds with color\n",
    "plt.fill_between(x_axis, pdf, where=(low < x_axis) & (x_axis < high), \n",
    "                 color='lightgray')\n",
    "plt.text(low, 0, low, ha='center')\n",
    "plt.text(high, 0, high, ha='center')\n",
    "plt.xticks([0]) # show zero mean on x-axis\n",
    "plt.yticks([1]) # eliminate tick labels for y-axis\n",
    "plt.title('Normal Distribution')\n",
    "plt.xlabel('Standard Deviations from the Mean')\n",
    "\n",
    "plt.show()"
   ]
  },
  {
   "cell_type": "markdown",
   "metadata": {},
   "source": [
    "## Point Estimate of the Mean"
   ]
  },
  {
   "cell_type": "markdown",
   "metadata": {},
   "source": [
    "For a point estimate of the mean of a population that is assumed to have a normal distribution,\n",
    "a data scientist decides to use the average of the sample lower and upper quartiles for the $n = 50$\n",
    "observations, since unlike the sample mean $\\bar{Y}$, the quartiles are not affected by outliers. Evaluate\n",
    "the precision of this estimator compared to $\\bar{Y}$ by randomly generating 1,000 samples of size\n",
    "50 each from a $N(0, 1)$ distribution and comparing the standard deviation of the 1,000\n",
    "estimates with the theoretical standard error of $\\bar{Y}$."
   ]
  },
  {
   "cell_type": "markdown",
   "metadata": {},
   "source": [
    "### Standard Error\n",
    "\n",
    "$$ SE = \\frac{\\sigma}{\\sqrt{n}} $$"
   ]
  },
  {
   "cell_type": "code",
   "execution_count": 3,
   "metadata": {},
   "outputs": [
    {
     "name": "stdout",
     "output_type": "stream",
     "text": [
      "The estimated standard deviation is 0.1564712254384888\n",
      "The theoretical standard error is 0.1414213562373095\n"
     ]
    }
   ],
   "source": [
    "# Generate 1,000 samples of size 50, take average of lower and upper quartiles\n",
    "y = []\n",
    "for i in range(0,1000):\n",
    "    x = norm.rvs(size=50)\n",
    "    calc = (np.quantile(x, 0.75) + np.quantile(x, 0.25))/2\n",
    "    y.append(calc)\n",
    "# Find standard deviation of the 1,000 estimates\n",
    "estimate_sd = np.std(y)\n",
    "# Find the theoretical standard error\n",
    "se = 1/np.sqrt(50)\n",
    "print('The estimated standard deviation is {}'.format(estimate_sd))\n",
    "print('The theoretical standard error is {}'.format(se))"
   ]
  },
  {
   "cell_type": "markdown",
   "metadata": {},
   "source": [
    "## Calculating Confidence Intervals"
   ]
  },
  {
   "cell_type": "markdown",
   "metadata": {},
   "source": [
    "Sarah owns a bake shop that sells an average of 500 cookies per day across 11 kiosk locations at 5 dollars per cookie with a standard deviation of 5. Lately, her sales have been declining, so she wants to determine with a 68%, 95%, 99% confidence intervals, respectively, how many cookies are slated to sell at these 11 kiosks."
   ]
  },
  {
   "cell_type": "code",
   "execution_count": 4,
   "metadata": {},
   "outputs": [
    {
     "name": "stdout",
     "output_type": "stream",
     "text": [
      "68% Confidence Interval:  [498, 502]\n",
      "95% Confidence Interval:  [497, 503]\n",
      "99% Confidence Interval:  [496, 504]\n"
     ]
    }
   ],
   "source": [
    "mean_cookie = 500 # average daily cookie sales\n",
    "n = 11 # number of kiosks\n",
    "std = 5 # standard deviation\n",
    "std_error = std/(np.sqrt(n))\n",
    "\n",
    "# calculate the 68% confidence interval\n",
    "lower_sixty_eight_ci = mean_cookie - 1*std_error\n",
    "upper_sixty_eight_ci = mean_cookie + 1*std_error\n",
    "\n",
    "# calculate the 95% confidence interval\n",
    "lower_ninety_five_ci = mean_cookie - 1.96*std_error\n",
    "upper_ninety_five_ci = mean_cookie + 1.96*std_error\n",
    "\n",
    "# calculate the 99% confidence interval\n",
    "lower_ninety_nine_ci = mean_cookie - 2.576*std_error\n",
    "upper_ninety_nine_ci = mean_cookie + 2.576*std_error\n",
    "\n",
    "print(\"%s [%.0f, %.0f]\" % ('68% Confidence Interval: ', \n",
    "                           lower_sixty_eight_ci,  \n",
    "                           upper_sixty_eight_ci))\n",
    "print(\"%s [%.0f, %.0f]\" % ('95% Confidence Interval: ', \n",
    "                           lower_ninety_five_ci,  \n",
    "                           upper_ninety_five_ci))\n",
    "print(\"%s [%.0f, %.0f]\" % ('99% Confidence Interval: ', \n",
    "                           lower_ninety_nine_ci,  \n",
    "                           upper_ninety_nine_ci))"
   ]
  }
 ],
 "metadata": {
  "kernelspec": {
   "display_name": "Python 3",
   "language": "python",
   "name": "python3"
  },
  "language_info": {
   "codemirror_mode": {
    "name": "ipython",
    "version": 3
   },
   "file_extension": ".py",
   "mimetype": "text/x-python",
   "name": "python",
   "nbconvert_exporter": "python",
   "pygments_lexer": "ipython3",
   "version": "3.8.3"
  }
 },
 "nbformat": 4,
 "nbformat_minor": 4
}
