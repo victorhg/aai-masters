{
 "cells": [
  {
   "cell_type": "markdown",
   "metadata": {},
   "source": [
    "# Module 6 Lab"
   ]
  },
  {
   "cell_type": "markdown",
   "metadata": {},
   "source": [
    "## Generalized Linear Models"
   ]
  },
  {
   "cell_type": "code",
   "execution_count": 1,
   "metadata": {},
   "outputs": [],
   "source": [
    "# Load necessary libraries\n",
    "import pandas as pd # for data science\n",
    "import numpy as np  # linear algebra library\n",
    "import matplotlib.pyplot as plt # plotting library\n",
    "import seaborn as sns # additional plotting library"
   ]
  },
  {
   "cell_type": "markdown",
   "metadata": {},
   "source": [
    "### Generating Our DataFrame"
   ]
  },
  {
   "cell_type": "markdown",
   "metadata": {},
   "source": [
    "To begin this lab, we are going to formulate a randomized dataset with *n*=100 observations. Let's suppose we have a class of 100 students who have taken three exams."
   ]
  },
  {
   "cell_type": "code",
   "execution_count": 2,
   "metadata": {},
   "outputs": [],
   "source": [
    "def rand_df(x, y, state): \n",
    "    np.random.seed(state) # set seed for reproducibility\n",
    "    # assign variable to a dataframe through the number 100\n",
    "    val = pd.DataFrame(np.random.randint(x, y, size=100))\n",
    "    val = val.round(decimals=0).astype(int) # no decimals, integers\n",
    "    return val "
   ]
  },
  {
   "cell_type": "code",
   "execution_count": 3,
   "metadata": {},
   "outputs": [],
   "source": [
    "df1 = rand_df(0, 100, 42) # exam 1\n",
    "df2 = rand_df(0, 100, 23) # exam 2\n",
    "df3 = rand_df(0, 100, 80) # exam 3\n",
    "df4 = rand_df(0, 20, 36) # study hours"
   ]
  },
  {
   "cell_type": "code",
   "execution_count": 4,
   "metadata": {},
   "outputs": [
    {
     "data": {
      "text/html": [
       "<div>\n",
       "<style scoped>\n",
       "    .dataframe tbody tr th:only-of-type {\n",
       "        vertical-align: middle;\n",
       "    }\n",
       "\n",
       "    .dataframe tbody tr th {\n",
       "        vertical-align: top;\n",
       "    }\n",
       "\n",
       "    .dataframe thead th {\n",
       "        text-align: right;\n",
       "    }\n",
       "</style>\n",
       "<table border=\"1\" class=\"dataframe\">\n",
       "  <thead>\n",
       "    <tr style=\"text-align: right;\">\n",
       "      <th></th>\n",
       "      <th>Exam 1</th>\n",
       "      <th>Exam 2</th>\n",
       "      <th>Exam 3</th>\n",
       "      <th>Study_Hours</th>\n",
       "      <th>Final_Grade</th>\n",
       "    </tr>\n",
       "  </thead>\n",
       "  <tbody>\n",
       "    <tr>\n",
       "      <th>0</th>\n",
       "      <td>51</td>\n",
       "      <td>83</td>\n",
       "      <td>47</td>\n",
       "      <td>5</td>\n",
       "      <td>60</td>\n",
       "    </tr>\n",
       "    <tr>\n",
       "      <th>1</th>\n",
       "      <td>92</td>\n",
       "      <td>40</td>\n",
       "      <td>60</td>\n",
       "      <td>2</td>\n",
       "      <td>64</td>\n",
       "    </tr>\n",
       "    <tr>\n",
       "      <th>2</th>\n",
       "      <td>14</td>\n",
       "      <td>73</td>\n",
       "      <td>38</td>\n",
       "      <td>8</td>\n",
       "      <td>42</td>\n",
       "    </tr>\n",
       "    <tr>\n",
       "      <th>3</th>\n",
       "      <td>71</td>\n",
       "      <td>54</td>\n",
       "      <td>83</td>\n",
       "      <td>1</td>\n",
       "      <td>69</td>\n",
       "    </tr>\n",
       "    <tr>\n",
       "      <th>4</th>\n",
       "      <td>60</td>\n",
       "      <td>31</td>\n",
       "      <td>10</td>\n",
       "      <td>12</td>\n",
       "      <td>34</td>\n",
       "    </tr>\n",
       "    <tr>\n",
       "      <th>...</th>\n",
       "      <td>...</td>\n",
       "      <td>...</td>\n",
       "      <td>...</td>\n",
       "      <td>...</td>\n",
       "      <td>...</td>\n",
       "    </tr>\n",
       "    <tr>\n",
       "      <th>95</th>\n",
       "      <td>84</td>\n",
       "      <td>81</td>\n",
       "      <td>82</td>\n",
       "      <td>15</td>\n",
       "      <td>82</td>\n",
       "    </tr>\n",
       "    <tr>\n",
       "      <th>96</th>\n",
       "      <td>79</td>\n",
       "      <td>32</td>\n",
       "      <td>95</td>\n",
       "      <td>7</td>\n",
       "      <td>69</td>\n",
       "    </tr>\n",
       "    <tr>\n",
       "      <th>97</th>\n",
       "      <td>81</td>\n",
       "      <td>53</td>\n",
       "      <td>80</td>\n",
       "      <td>11</td>\n",
       "      <td>71</td>\n",
       "    </tr>\n",
       "    <tr>\n",
       "      <th>98</th>\n",
       "      <td>52</td>\n",
       "      <td>35</td>\n",
       "      <td>77</td>\n",
       "      <td>6</td>\n",
       "      <td>55</td>\n",
       "    </tr>\n",
       "    <tr>\n",
       "      <th>99</th>\n",
       "      <td>23</td>\n",
       "      <td>23</td>\n",
       "      <td>44</td>\n",
       "      <td>2</td>\n",
       "      <td>30</td>\n",
       "    </tr>\n",
       "  </tbody>\n",
       "</table>\n",
       "<p>100 rows × 5 columns</p>\n",
       "</div>"
      ],
      "text/plain": [
       "    Exam 1  Exam 2  Exam 3  Study_Hours  Final_Grade\n",
       "0       51      83      47            5           60\n",
       "1       92      40      60            2           64\n",
       "2       14      73      38            8           42\n",
       "3       71      54      83            1           69\n",
       "4       60      31      10           12           34\n",
       "..     ...     ...     ...          ...          ...\n",
       "95      84      81      82           15           82\n",
       "96      79      32      95            7           69\n",
       "97      81      53      80           11           71\n",
       "98      52      35      77            6           55\n",
       "99      23      23      44            2           30\n",
       "\n",
       "[100 rows x 5 columns]"
      ]
     },
     "execution_count": 4,
     "metadata": {},
     "output_type": "execute_result"
    }
   ],
   "source": [
    "dfs = [df1, df2, df3, df4]\n",
    "df5 = pd.concat(dfs, join='outer', axis=1)\n",
    "df5.columns = ['Exam 1', 'Exam 2', 'Exam 3', 'Study_Hours']\n",
    "df5['Final_Grade'] = df5[['Exam 1', 'Exam 2', 'Exam 3']].mean(axis=1)\n",
    "# no decimals, integers\n",
    "df5['Final_Grade'] = df5['Final_Grade'].round(decimals=0).astype(int) \n",
    "df5"
   ]
  },
  {
   "cell_type": "markdown",
   "metadata": {},
   "source": [
    "## Basic Scatterplots"
   ]
  },
  {
   "cell_type": "code",
   "execution_count": 6,
   "metadata": {},
   "outputs": [
    {
     "data": {
      "image/png": "[encoded data removed]",
      "text/plain": [
       "<Figure size 640x480 with 1 Axes>"
      ]
     },
     "metadata": {},
     "output_type": "display_data"
    }
   ],
   "source": [
    "x = df5['Exam 1'] \n",
    "y = df5['Final_Grade']\n",
    "plt.title('Final Grade vs. Exam 1')\n",
    "plt.xlabel('Exam 1')       \n",
    "plt.ylabel('Final Grade')           \n",
    "\n",
    "# create best-fit line based on slope-intercept form\n",
    "m, b = np.polyfit(x, y, 1)\n",
    "plt.scatter(x, y) \n",
    "plt.plot(x, m*x+b, color = 'red')\n",
    "\n",
    "# correlation coefficient \n",
    "corr = round(np.corrcoef(x, y)[0,1],2)\n",
    "plt.title('Final Grade vs. Exam 1;' ' r2 = ' + \"{:.2f}\".format(corr))\n",
    "plt.show()"
   ]
  },
  {
   "cell_type": "code",
   "execution_count": 7,
   "metadata": {},
   "outputs": [
    {
     "data": {
      "image/png": "[encoded data removed]",
      "text/plain": [
       "<Figure size 640x480 with 1 Axes>"
      ]
     },
     "metadata": {},
     "output_type": "display_data"
    }
   ],
   "source": [
    "x = df5['Exam 2'] \n",
    "y = df5['Final_Grade']\n",
    "plt.title('Exam 2 vs. Final Grade')\n",
    "plt.xlabel('Exam 2')       \n",
    "plt.ylabel('Final Grade')           \n",
    "\n",
    "# create best-fit line based on slope-intercept form\n",
    "m, b = np.polyfit(x, y, 1)\n",
    "plt.scatter(x, y) \n",
    "plt.plot(x, m*x+b, color = 'red')\n",
    "corr = round(np.corrcoef(x, y)[0,1],2)\n",
    "plt.title('Exam 2 vs. Final Grade;' ' r2$ = ' + \"{:.2f}\".format(corr))\n",
    "plt.show()"
   ]
  },
  {
   "cell_type": "code",
   "execution_count": null,
   "metadata": {},
   "outputs": [],
   "source": [
    "x = df5['Exam 3'] \n",
    "y = df5['Final_Grade']\n",
    "plt.title('Exam 3 vs. Final Grade')\n",
    "plt.xlabel('Exam 3')       \n",
    "plt.ylabel('Final Grade')           \n",
    "\n",
    "# create best-fit line based on slope-intercept form\n",
    "m, b = np.polyfit(x, y, 1)\n",
    "plt.scatter(x, y) \n",
    "plt.plot(x, m*x+b, color = 'red')\n",
    "corr = round(np.corrcoef(x, y)[0,1],2)\n",
    "plt.title('Exam 3 vs. Final Grade;' ' $\\mathit{r}$ = ' + \"{:.2f}\".format(corr))\n",
    "plt.show()"
   ]
  },
  {
   "cell_type": "code",
   "execution_count": null,
   "metadata": {},
   "outputs": [],
   "source": [
    "x = df5['Study_Hours'] \n",
    "y = df5['Final_Grade']\n",
    "plt.title('Exam 3 vs. Final Grade')\n",
    "plt.xlabel('Study_Hours')       \n",
    "plt.ylabel('Final Grade')           \n",
    "\n",
    "# create best-fit line based on slope-intercept form\n",
    "m, b = np.polyfit(x, y, 1)\n",
    "plt.scatter(x, y) \n",
    "plt.plot(x, m*x+b, color = 'red')\n",
    "corr = round(np.corrcoef(x, y)[0,1],2)\n",
    "plt.title('Study Hours vs. Final Grade;' ' $\\mathit{r}$ = ' + \n",
    "          \"{:.2f}\".format(corr))\n",
    "plt.show()"
   ]
  },
  {
   "cell_type": "markdown",
   "metadata": {},
   "source": [
    "### Scatterplots in a Loop"
   ]
  },
  {
   "cell_type": "code",
   "execution_count": null,
   "metadata": {},
   "outputs": [],
   "source": [
    "y_col = 'Final_Grade'\n",
    "x_columns = ['Exam 1', 'Exam 2', 'Exam 3', 'Study_Hours']\n",
    "\n",
    "for x_col in x_columns:\n",
    "    figure = plt.figure()\n",
    "    ax = plt.gca()\n",
    "    m, b = np.polyfit(df5[x_col], df5[y_col], 1)\n",
    "    plt.plot(df5[x_col], m*df5[x_col]+b, color = 'red')\n",
    "    ax.scatter(df5[x_col], df5[y_col])\n",
    "    ax.set_xlabel(x_col)\n",
    "    ax.set_ylabel(y_col)\n",
    "    corr = round(np.corrcoef(df5[x_col], df5[y_col])[0,1],2) \n",
    "    ax.set_title('{} vs. {};'.format(x_col, y_col) \n",
    "                 + ' $\\mathit{r}$ = ' \n",
    "                 + '{:.2f}'.format(corr))\n",
    "    plt.show()"
   ]
  },
  {
   "cell_type": "markdown",
   "metadata": {},
   "source": [
    "## Linear Regression"
   ]
  },
  {
   "cell_type": "markdown",
   "metadata": {},
   "source": [
    "$y = b_{0} + b_{1}x_{1} + b_{2}x_{2} + ... + b_{n}x_{n} + \\varepsilon$"
   ]
  },
  {
   "cell_type": "markdown",
   "metadata": {},
   "source": [
    "### Simple Linear Regression"
   ]
  },
  {
   "cell_type": "markdown",
   "metadata": {},
   "source": [
    "* Univariate analysis  \n",
    "$y = b_{0} + b_{1}x_{1} + \\varepsilon$"
   ]
  },
  {
   "cell_type": "code",
   "execution_count": null,
   "metadata": {},
   "outputs": [],
   "source": [
    "# univariate analysis\n",
    "X1 = df5['Exam 1']\n",
    "y = df5['Final_Grade']\n",
    "\n",
    "import statsmodels.api as sm # use stats models for basic linear regression\n",
    "X1 = sm.add_constant(X1) # adds constant to the model\n",
    "model = sm.OLS(y, X1).fit()\n",
    "model.summary()"
   ]
  },
  {
   "cell_type": "markdown",
   "metadata": {},
   "source": [
    "$y = 32.05 + 0.36 \\text{ (Exam 1)} + \\varepsilon$"
   ]
  },
  {
   "cell_type": "markdown",
   "metadata": {},
   "source": [
    "### Multiple Linear Regression"
   ]
  },
  {
   "cell_type": "markdown",
   "metadata": {},
   "source": [
    "**For the following exercises, we will work with the `Facebook metrics` dataset $^1$**  \n",
    "\n",
    "https://archive.ics.uci.edu/ml/datasets/Facebook+metrics"
   ]
  },
  {
   "cell_type": "code",
   "execution_count": null,
   "metadata": {},
   "outputs": [],
   "source": [
    "import statsmodels.api as sm\n",
    "facebook = pd.read_csv('dataset_Facebook.csv', sep=';')"
   ]
  },
  {
   "cell_type": "code",
   "execution_count": null,
   "metadata": {},
   "outputs": [],
   "source": [
    "facebook.head()"
   ]
  },
  {
   "cell_type": "markdown",
   "metadata": {},
   "source": [
    "**Let's leverage the data to run a linear regression model that predicts the `Total Interactions` (dependent variable ) based on the other columns of data (independent variables $x_1, x_2, x_3, \\cdots x_{n}$).**"
   ]
  },
  {
   "cell_type": "code",
   "execution_count": null,
   "metadata": {},
   "outputs": [],
   "source": [
    "# we cannot have non-encoded categorical features in a linear regression model\n",
    "# since the model only relies on numerical data\n",
    "\n",
    "facebook['Type'].value_counts() # let's inspect the 'Type' column"
   ]
  },
  {
   "cell_type": "code",
   "execution_count": null,
   "metadata": {},
   "outputs": [],
   "source": [
    "facebook_enc = pd.get_dummies(facebook, columns = ['Type'])\n",
    "facebook_enc.head()"
   ]
  },
  {
   "cell_type": "code",
   "execution_count": null,
   "metadata": {},
   "outputs": [],
   "source": [
    "facebook_enc.info()"
   ]
  },
  {
   "cell_type": "code",
   "execution_count": null,
   "metadata": {},
   "outputs": [],
   "source": [
    "nulls = pd.DataFrame(facebook_enc.isnull().sum(), columns=['Nulls'])\n",
    "nulls = nulls[nulls['Nulls']>0]\n",
    "nulls"
   ]
  },
  {
   "cell_type": "code",
   "execution_count": null,
   "metadata": {},
   "outputs": [],
   "source": [
    "# impute the missing values with mean since few of them\n",
    "facebook_enc['Paid'].fillna((facebook_enc)['Paid'].mean(), inplace=True)\n",
    "facebook_enc['like'].fillna((facebook_enc)['like'].mean(), inplace=True)\n",
    "facebook_enc['share'].fillna((facebook_enc)['share'].mean(), inplace=True)"
   ]
  },
  {
   "cell_type": "code",
   "execution_count": null,
   "metadata": {},
   "outputs": [],
   "source": [
    "# assign independent variables, dependent variable, respectively\n",
    "x = facebook_enc.loc[:, facebook_enc.columns != 'Total Interactions']\n",
    "# define the target\n",
    "y = pd.DataFrame(facebook_enc['Total Interactions'])"
   ]
  },
  {
   "cell_type": "code",
   "execution_count": null,
   "metadata": {},
   "outputs": [],
   "source": [
    "from sklearn.model_selection import train_test_split\n",
    "X_train, X_test, y_train, y_test = train_test_split(x, y, test_size=0.3, \n",
    "                                                    random_state=42)"
   ]
  },
  {
   "cell_type": "code",
   "execution_count": null,
   "metadata": {},
   "outputs": [],
   "source": [
    "X_train = sm.add_constant(X_train)\n",
    "model = sm.OLS(y_train, X_train).fit()\n",
    "model.summary()"
   ]
  },
  {
   "cell_type": "markdown",
   "metadata": {},
   "source": [
    "### Multiple Linear Regression with Scikit-Learn"
   ]
  },
  {
   "cell_type": "code",
   "execution_count": null,
   "metadata": {},
   "outputs": [],
   "source": [
    "from sklearn.linear_model import LinearRegression"
   ]
  },
  {
   "cell_type": "code",
   "execution_count": null,
   "metadata": {},
   "outputs": [],
   "source": [
    "x_train, x_test, y_train, y_test = train_test_split(x, y, test_size = 0.3, \n",
    "                                                    random_state=42)"
   ]
  },
  {
   "cell_type": "code",
   "execution_count": null,
   "metadata": {},
   "outputs": [],
   "source": [
    "sk_model = LinearRegression()"
   ]
  },
  {
   "cell_type": "code",
   "execution_count": null,
   "metadata": {},
   "outputs": [],
   "source": [
    "sk_model.fit(x_train, y_train)"
   ]
  },
  {
   "cell_type": "code",
   "execution_count": null,
   "metadata": {},
   "outputs": [],
   "source": [
    "print('Model Coefficients:', sk_model.coef_)\n",
    "print()\n",
    "print('Intercept:', sk_model.intercept_)\n",
    "coef = pd.DataFrame(sk_model.coef_.T, columns=['Coefficients'])\n",
    "cols = pd.DataFrame(x.columns, columns=['Columns'])\n",
    "joined = pd.concat([cols['Columns'], coef['Coefficients']], axis=1)\n",
    "joined "
   ]
  },
  {
   "cell_type": "code",
   "execution_count": null,
   "metadata": {},
   "outputs": [],
   "source": [
    "predictions = sk_model.predict(x_test)\n",
    "pd.DataFrame(predictions, columns=['Predictions'])"
   ]
  },
  {
   "cell_type": "code",
   "execution_count": null,
   "metadata": {},
   "outputs": [],
   "source": [
    "plt.scatter(y_test, predictions)\n",
    "plt.title('Predictions vs. Actual')\n",
    "plt.xlabel('Actual')\n",
    "plt.ylabel('Predictions')\n",
    "plt.show()"
   ]
  },
  {
   "cell_type": "markdown",
   "metadata": {},
   "source": [
    "----------------\n",
    "\n",
    "\n",
    "$^{1}$ Moro, S., Rita, P., & Vala B. (2016). Predicting social media performance metrics and evaluation \n",
    "   of the impact on brand building: A data mining approach. *Journal of Business Research, Elsevier,* 3341–3351.  \n",
    "   https://doi.org/10.1016/j.jbusres.2016.02.010\n",
    "   \n"
   ]
  }
 ],
 "metadata": {
  "kernelspec": {
   "display_name": "masters",
   "language": "python",
   "name": "masters"
  },
  "language_info": {
   "codemirror_mode": {
    "name": "ipython",
    "version": 3
   },
   "file_extension": ".py",
   "mimetype": "text/x-python",
   "name": "python",
   "nbconvert_exporter": "python",
   "pygments_lexer": "ipython3",
   "version": "3.12.4"
  }
 },
 "nbformat": 4,
 "nbformat_minor": 4
}
