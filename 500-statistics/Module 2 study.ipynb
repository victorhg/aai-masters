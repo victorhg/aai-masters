{
 "cells": [
  {
   "cell_type": "markdown",
   "id": "74e78b7a-42a0-457e-96c3-32d3caefb0a9",
   "metadata": {},
   "source": [
    "# Module 2 studying notebook\n",
    "Probability and Algebra\n"
   ]
  },
  {
   "cell_type": "code",
   "execution_count": 3,
   "id": "af63c2bb-a0ae-4a2e-b684-6e8bec9be322",
   "metadata": {},
   "outputs": [],
   "source": [
    "import pandas as pd\n",
    "import numpy as np\n",
    "import matplotlib.pyplot as plt\n",
    "from matplotlib import gridspec\n",
    "from scipy.stats import uniform"
   ]
  },
  {
   "cell_type": "code",
   "execution_count": 10,
   "id": "8435df9d-fda3-48cf-95ea-5ff5d9b099b8",
   "metadata": {},
   "outputs": [
    {
     "data": {
      "text/html": [
       "<div>\n",
       "<style scoped>\n",
       "    .dataframe tbody tr th:only-of-type {\n",
       "        vertical-align: middle;\n",
       "    }\n",
       "\n",
       "    .dataframe tbody tr th {\n",
       "        vertical-align: top;\n",
       "    }\n",
       "\n",
       "    .dataframe thead th {\n",
       "        text-align: right;\n",
       "    }\n",
       "</style>\n",
       "<table border=\"1\" class=\"dataframe\">\n",
       "  <thead>\n",
       "    <tr style=\"text-align: right;\">\n",
       "      <th></th>\n",
       "      <th>age_years</th>\n",
       "      <th>sex_0male_1female</th>\n",
       "      <th>hospital_outcome_1alive_pdead</th>\n",
       "      <th>episode_number</th>\n",
       "    </tr>\n",
       "  </thead>\n",
       "  <tbody>\n",
       "    <tr>\n",
       "      <th>0</th>\n",
       "      <td>21</td>\n",
       "      <td>1</td>\n",
       "      <td>0</td>\n",
       "      <td>1</td>\n",
       "    </tr>\n",
       "    <tr>\n",
       "      <th>1</th>\n",
       "      <td>20</td>\n",
       "      <td>1</td>\n",
       "      <td>0</td>\n",
       "      <td>1</td>\n",
       "    </tr>\n",
       "    <tr>\n",
       "      <th>2</th>\n",
       "      <td>21</td>\n",
       "      <td>1</td>\n",
       "      <td>0</td>\n",
       "      <td>1</td>\n",
       "    </tr>\n",
       "    <tr>\n",
       "      <th>3</th>\n",
       "      <td>77</td>\n",
       "      <td>0</td>\n",
       "      <td>0</td>\n",
       "      <td>1</td>\n",
       "    </tr>\n",
       "    <tr>\n",
       "      <th>4</th>\n",
       "      <td>72</td>\n",
       "      <td>0</td>\n",
       "      <td>0</td>\n",
       "      <td>1</td>\n",
       "    </tr>\n",
       "  </tbody>\n",
       "</table>\n",
       "</div>"
      ],
      "text/plain": [
       "   age_years  sex_0male_1female  hospital_outcome_1alive_pdead  episode_number\n",
       "0         21                  1                              0               1\n",
       "1         20                  1                              0               1\n",
       "2         21                  1                              0               1\n",
       "3         77                  0                              0               1\n",
       "4         72                  0                              0               1"
      ]
     },
     "execution_count": 10,
     "metadata": {},
     "output_type": "execute_result"
    }
   ],
   "source": [
    "# Read in the sepsis data file\n",
    "sepsis = pd.read_csv('datasets/sepsis_survival.csv', sep=';')\n",
    "\n",
    "# View the first few rows of the dataset\n",
    "sepsis.head()"
   ]
  },
  {
   "cell_type": "code",
   "execution_count": 15,
   "id": "97c71d08-6774-4ab4-b53e-14a0e8fed472",
   "metadata": {},
   "outputs": [
    {
     "data": {
      "text/plain": [
       "age_years\n",
       "82     0.024182\n",
       "84     0.023783\n",
       "81     0.023057\n",
       "83     0.022894\n",
       "80     0.022867\n",
       "         ...   \n",
       "10     0.001443\n",
       "14     0.001388\n",
       "13     0.001370\n",
       "100    0.001161\n",
       "99     0.000762\n",
       "Name: proportion, Length: 101, dtype: float64"
      ]
     },
     "execution_count": 15,
     "metadata": {},
     "output_type": "execute_result"
    },
    {
     "data": {
      "image/png": "[encoded data removed]",
      "text/plain": [
       "<Figure size 640x480 with 1 Axes>"
      ]
     },
     "metadata": {},
     "output_type": "display_data"
    }
   ],
   "source": [
    "\n",
    "sepsis[\"age_years\"].hist()\n"
   ]
  },
  {
   "cell_type": "code",
   "execution_count": null,
   "id": "691c3ea1-dfb0-4053-bc77-3e81fcfc7dbb",
   "metadata": {},
   "outputs": [],
   "source": []
  },
  {
   "cell_type": "code",
   "execution_count": 22,
   "id": "63acf489-1eca-48ce-9cf6-e0e57af2a6b7",
   "metadata": {},
   "outputs": [
    {
     "name": "stdout",
     "output_type": "stream",
     "text": [
      "1.7490999999999999\n"
     ]
    }
   ],
   "source": [
    "\n",
    "\n",
    "pp = [0.48, 0.24, 0.15, 0.07, 0.03, 0.02, 0.01]\n",
    "\n",
    "me=0\n",
    "for i in range(len(pp)):\n",
    "  me += ((i - 1.03)*(i - 1.03))*pp[i]\n",
    "\n",
    "print(me)"
   ]
  }
 ],
 "metadata": {
  "kernelspec": {
   "display_name": "Python 3 (ipykernel)",
   "language": "python",
   "name": "python3"
  },
  "language_info": {
   "codemirror_mode": {
    "name": "ipython",
    "version": 3
   },
   "file_extension": ".py",
   "mimetype": "text/x-python",
   "name": "python",
   "nbconvert_exporter": "python",
   "pygments_lexer": "ipython3",
   "version": "3.12.4"
  }
 },
 "nbformat": 4,
 "nbformat_minor": 5
}
