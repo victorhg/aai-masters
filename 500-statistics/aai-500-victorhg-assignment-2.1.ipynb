{
 "cells": [
  {
   "attachments": {},
   "cell_type": "markdown",
   "metadata": {},
   "source": [
    "# Assignment 2.1\n",
    "\n",
    "Name: Victor Hugo Germano \n",
    "Date: September 12th, 2024"
   ]
  },
  {
   "attachments": {},
   "cell_type": "markdown",
   "metadata": {},
   "source": [
    "For this assignment, you will refer to the textbook to solve the practice exercises. **Use Python to answer any coding problems (not R, even if indicated in your textbook).** Use Jupyter Notebook, Google Colab, or a similar software program to complete your assignment. Submit your answers as a **PDF or HTML** file. As a best practice, always label your axes and provide titles for any graphs generated on this assignment. Round all quantitative answers to 2 decimal places."
   ]
  },
  {
   "cell_type": "code",
   "execution_count": 104,
   "metadata": {},
   "outputs": [
    {
     "data": {
      "text/plain": [
       "<Token var=<ContextVar name='format_options' default={'edgeitems': 3, 'threshold': 1000, 'floatmode': 'maxprec', 'precision': 8, 'suppress': False, 'linewidth': 75, 'nanstr': 'nan', 'infstr': 'inf', 'sign': '-', 'formatter': None, 'legacy': 9223372036854775807, 'override_repr': None} at 0x10580d3a0> at 0x11f3cd780>"
      ]
     },
     "execution_count": 104,
     "metadata": {},
     "output_type": "execute_result"
    }
   ],
   "source": [
    "import pandas as pd\n",
    "import numpy as np\n",
    "import matplotlib.pyplot as plt\n",
    "from matplotlib import gridspec\n",
    "from scipy.stats import uniform\n",
    "\n",
    "np.set_printoptions(precision=2)"
   ]
  },
  {
   "attachments": {},
   "cell_type": "markdown",
   "metadata": {},
   "source": [
    "## Problem # 2.1."
   ]
  },
  {
   "attachments": {},
   "cell_type": "markdown",
   "metadata": {},
   "source": [
    "For the rain simulation example in Section 2.1.1, but with probability of rain 0.30 on any\n",
    "given day, simulate the outcome (a) on the next day, (b) the next 10 days. (c) Simulate the\n",
    "proportion of days of rain for the next (i) 100 days, (ii) 10,000 days, (iii) 1,000,000 days. Use\n",
    "the simulation to explain the long-run relative frequency definition of probability."
   ]
  },
  {
   "attachments": {},
   "cell_type": "markdown",
   "metadata": {},
   "source": [
    "`(a) Your answer goes here`"
   ]
  },
  {
   "cell_type": "code",
   "execution_count": 108,
   "metadata": {},
   "outputs": [
    {
     "name": "stdout",
     "output_type": "stream",
     "text": [
      "Will it rain? [0] Yes\n"
     ]
    }
   ],
   "source": [
    "# Rain Simulation\n",
    "rain_probability =  0.3 # 3 out of 10 outcomes denote rain\n",
    "\n",
    "y = list(range(0 ,10))\n",
    "\n",
    "tomorrow_forecast = np.random.choice(y, 1)\n",
    "print(f\"Will it rain? {tomorrow_forecast} \"+(\"Yes\" if tomorrow_forecast <=  2  else \"No\"))"
   ]
  },
  {
   "attachments": {},
   "cell_type": "markdown",
   "metadata": {},
   "source": [
    "`(b) Your answer goes here`"
   ]
  },
  {
   "cell_type": "code",
   "execution_count": 58,
   "metadata": {},
   "outputs": [
    {
     "name": "stdout",
     "output_type": "stream",
     "text": [
      "Next 10 days: [1 5 8 9 1 6 8 4 5 8] \n",
      " 2 Rainy days\n"
     ]
    }
   ],
   "source": [
    "#Next 10 days\n",
    "\n",
    "next_n_days = np.random.choice(y, 10)\n",
    "\n",
    "total_rain_days = np.count_nonzero(next_n_days <= 2)\n",
    "                                   \n",
    "# Rain is n < 2\n",
    "print(f\"Next 10 days: {next_n_days} \\n {total_rain_days} Rainy days\") "
   ]
  },
  {
   "attachments": {},
   "cell_type": "markdown",
   "metadata": {},
   "source": [
    "`(c) Your answer goes here`"
   ]
  },
  {
   "cell_type": "code",
   "execution_count": 107,
   "metadata": {},
   "outputs": [
    {
     "name": "stdout",
     "output_type": "stream",
     "text": [
      "100 days: [31], proportion: [0.31]\n",
      "10,000 days: [31], proportion: [0.3]\n",
      "1,000,000 days: [31], proportion: [0.3]\n"
     ]
    }
   ],
   "source": [
    "# 1 simulation of N days flips using the rain probability\n",
    "hund_days = np.random.binomial(100, rain_probability, size=1)\n",
    "print(f\"100 days: {hund_days}, proportion: {hund_days/100}\")\n",
    "\n",
    "ten_thous_days = np.random.binomial(10000, rain_probability, size=1)\n",
    "print(f\"10,000 days: {hund_days}, proportion: {ten_thous_days/10000}\")\n",
    "\n",
    "mil_days = np.random.binomial(1000000, rain_probability, size=1)\n",
    "print(f\"1,000,000 days: {hund_days}, proportion: {mil_days/1000000}\")\n"
   ]
  },
  {
   "cell_type": "markdown",
   "metadata": {},
   "source": [
    "Whenever we have a probability _p_ of an outcome happening, we can expect to see on the long run that the relative frequency of the outcome is closer to the propability as the number of observations increase.\n",
    "\n",
    "The rainy days simulation presents this behavior, where for a small number of observations, let's say 100 observations, we see a bigger variance of rainy days on both directions of the distribution. \n",
    "As we increase the number of flips observed the the deviantion from the probability reduces and the proportion of outcomes becomes similar to the propability.\n",
    "\n",
    "We can present this on a graph:"
   ]
  },
  {
   "cell_type": "code",
   "execution_count": 113,
   "metadata": {},
   "outputs": [
    {
     "data": {
      "text/plain": [
       "<matplotlib.collections.PathCollection at 0x11a851490>"
      ]
     },
     "execution_count": 113,
     "metadata": {},
     "output_type": "execute_result"
    },
    {
     "data": {
      "image/png": "[encoded data removed]",
      "text/plain": [
       "<Figure size 640x480 with 1 Axes>"
      ]
     },
     "metadata": {},
     "output_type": "display_data"
    }
   ],
   "source": [
    "# Plotting the graph representing the answer\n",
    "number_exp = 10000 # number of experiements\n",
    "phat = []\n",
    "for i in range(1, number_exp):\n",
    "    phat.append(np.random.binomial(i, rain_probability, 1)/i)\n",
    "\n",
    "\n",
    "plt.scatter(range(1,n), phat, s=10)        "
   ]
  },
  {
   "attachments": {},
   "cell_type": "markdown",
   "metadata": {},
   "source": [
    "## Problem # 2.2."
   ]
  },
  {
   "attachments": {},
   "cell_type": "markdown",
   "metadata": {},
   "source": [
    "Data analysts often implement statistical inference methods by setting the probability of a\n",
    "correct inference equal to 0.95. Let *A* denote the event that an inference for the population\n",
    "about men is correct. Let *B* represent the event of a corresponding inference about women\n",
    "being correct. Suppose that these are independent events.\n"
   ]
  },
  {
   "attachments": {},
   "cell_type": "markdown",
   "metadata": {},
   "source": [
    "(a) Find the probability that (i) *both* inferences are correct, (ii) *neither* inference is correct.  \n",
    "(b) Construct the probability distribution for *Y* = number of correct inferences.  \n",
    "(c) With what probability would each inference need to be correct in order for the probability to be 0.95 that *both* are correct?\n",
    "\n"
   ]
  },
  {
   "attachments": {},
   "cell_type": "markdown",
   "metadata": {},
   "source": [
    "`(a) Your answer goes here`"
   ]
  },
  {
   "cell_type": "code",
   "execution_count": null,
   "metadata": {},
   "outputs": [],
   "source": []
  },
  {
   "attachments": {},
   "cell_type": "markdown",
   "metadata": {},
   "source": [
    "`(b) Your answer goes here`"
   ]
  },
  {
   "cell_type": "code",
   "execution_count": null,
   "metadata": {},
   "outputs": [],
   "source": []
  },
  {
   "attachments": {},
   "cell_type": "markdown",
   "metadata": {},
   "source": [
    "`(c) Your answer goes here`"
   ]
  },
  {
   "cell_type": "code",
   "execution_count": null,
   "metadata": {},
   "outputs": [],
   "source": []
  },
  {
   "attachments": {},
   "cell_type": "markdown",
   "metadata": {},
   "source": [
    "## Problem # 2.4."
   ]
  },
  {
   "attachments": {},
   "cell_type": "markdown",
   "metadata": {},
   "source": [
    "A wine connoisseur is asked to match five glasses of red wine with the bottles from which they\n",
    "came, representing five different grape types.\n"
   ]
  },
  {
   "attachments": {},
   "cell_type": "markdown",
   "metadata": {},
   "source": [
    "(a) Set up a sample space for the five guesses.  \n",
    "(b) With random guessing, find the probability of getting all five correct."
   ]
  },
  {
   "attachments": {},
   "cell_type": "markdown",
   "metadata": {},
   "source": [
    "`(a) Your answer goes here`"
   ]
  },
  {
   "attachments": {},
   "cell_type": "markdown",
   "metadata": {},
   "source": []
  },
  {
   "attachments": {},
   "cell_type": "markdown",
   "metadata": {},
   "source": [
    "`(b) Your answer goes here`"
   ]
  },
  {
   "cell_type": "code",
   "execution_count": null,
   "metadata": {},
   "outputs": [],
   "source": []
  },
  {
   "attachments": {},
   "cell_type": "markdown",
   "metadata": {},
   "source": [
    "## Problem # 2.15."
   ]
  },
  {
   "attachments": {},
   "cell_type": "markdown",
   "metadata": {},
   "source": [
    "Each week an insurance company records *Y* = number of payments because of a home burning\n",
    "down. State conditions under which we would expect *Y* to approximately have a Poisson\n",
    "distribution.\n"
   ]
  },
  {
   "attachments": {},
   "cell_type": "markdown",
   "metadata": {},
   "source": [
    "`Your answer goes here`"
   ]
  },
  {
   "attachments": {},
   "cell_type": "markdown",
   "metadata": {},
   "source": []
  },
  {
   "attachments": {},
   "cell_type": "markdown",
   "metadata": {},
   "source": [
    "## Problem # 2.16."
   ]
  },
  {
   "attachments": {},
   "cell_type": "markdown",
   "metadata": {},
   "source": [
    "Each day a hospital records the number of people who come to the emergency room for treatment."
   ]
  },
  {
   "attachments": {},
   "cell_type": "markdown",
   "metadata": {},
   "source": [
    "(a)  In the first week, the observations from Sunday to Saturday are 10, 8, 14, 7, 21, 44, 60.\n",
    "Do you think that the Poisson distribution might describe the random variability of this\n",
    "phenomenon adequately. Why or why not?  \n",
    "(b) Would you expect the Poisson distribution to better describe, or more poorly describe,\n",
    "the number of weekly admissions to the hospital for a rare disease? Why?"
   ]
  },
  {
   "attachments": {},
   "cell_type": "markdown",
   "metadata": {},
   "source": [
    "`(a) Your answer goes here`"
   ]
  },
  {
   "cell_type": "code",
   "execution_count": null,
   "metadata": {},
   "outputs": [],
   "source": []
  },
  {
   "attachments": {},
   "cell_type": "markdown",
   "metadata": {},
   "source": [
    "`(b) Your answer goes here`"
   ]
  },
  {
   "cell_type": "code",
   "execution_count": null,
   "metadata": {},
   "outputs": [],
   "source": []
  },
  {
   "attachments": {},
   "cell_type": "markdown",
   "metadata": {},
   "source": [
    "## Problem # 2.17."
   ]
  },
  {
   "attachments": {},
   "cell_type": "markdown",
   "metadata": {},
   "source": [
    "An instructor gives a course grade of B to students who have total score on exams and homeworks between 800 and 900, where the maximum possible is 1000. If the total scores have\n",
    "approximately a normal distribution with mean 830 and standard deviation 50, about what proportion of the students receive a B?\n"
   ]
  },
  {
   "attachments": {},
   "cell_type": "markdown",
   "metadata": {},
   "source": [
    "`Your answer goes here`"
   ]
  },
  {
   "cell_type": "code",
   "execution_count": null,
   "metadata": {},
   "outputs": [],
   "source": []
  },
  {
   "attachments": {},
   "cell_type": "markdown",
   "metadata": {},
   "source": [
    "## Problem # 2.20."
   ]
  },
  {
   "attachments": {},
   "cell_type": "markdown",
   "metadata": {},
   "source": [
    "Create a data file with the income values in the `Income` data file at the text website."
   ]
  },
  {
   "attachments": {},
   "cell_type": "markdown",
   "metadata": {},
   "source": [
    "(a) Construct a histogram or a smooth-curve approximation for the *pdf* of income in the\n",
    "corresponding population by plotting results using the density function in R (explained\n",
    "in Exercise 1.18).  \n",
    "(b)  Of the probability distributions studied in this chapter, which do you think might be\n",
    "most appropriate for these data? Why? Plot the probability function of that distribution\n",
    "having the same mean and standard deviation as the income values. Does it seem to\n",
    "describe the income distribution well?\n"
   ]
  },
  {
   "attachments": {},
   "cell_type": "markdown",
   "metadata": {},
   "source": [
    "`(a) Your answer goes here`"
   ]
  },
  {
   "cell_type": "code",
   "execution_count": null,
   "metadata": {},
   "outputs": [],
   "source": []
  },
  {
   "attachments": {},
   "cell_type": "markdown",
   "metadata": {},
   "source": [
    "`(b) Your answer goes here`"
   ]
  },
  {
   "cell_type": "code",
   "execution_count": null,
   "metadata": {},
   "outputs": [],
   "source": []
  },
  {
   "attachments": {},
   "cell_type": "markdown",
   "metadata": {},
   "source": [
    "## Problem # 2.21."
   ]
  },
  {
   "attachments": {},
   "cell_type": "markdown",
   "metadata": {},
   "source": [
    "Plot the gamma distribution by fixing the shape parameter *k* = 3 and setting the scale parameter\n",
    "= 0.5, 1, 2, 3, 4, 5. What is the effect of increasing the scale parameter? (See also Exercise 2.48.)"
   ]
  },
  {
   "attachments": {},
   "cell_type": "markdown",
   "metadata": {},
   "source": [
    "`Your answer goes here`"
   ]
  },
  {
   "cell_type": "code",
   "execution_count": null,
   "metadata": {},
   "outputs": [],
   "source": []
  },
  {
   "attachments": {},
   "cell_type": "markdown",
   "metadata": {},
   "source": [
    "## Problem # 2.22."
   ]
  },
  {
   "attachments": {},
   "cell_type": "markdown",
   "metadata": {},
   "source": [
    "Consider the mammogram diagnostic example in Section 2.1.4."
   ]
  },
  {
   "attachments": {},
   "cell_type": "markdown",
   "metadata": {},
   "source": [
    "(a) Show that the joint probability distribution of diagnosis and disease status is as shown in\n",
    "Table 2.6. Given that a diagnostic test result is positive, explain how this joint distribution\n",
    "shows that the 12% of incorrect diagnoses for the 99% of women not having breast cancer\n",
    "swamp the 86% of correct diagnoses for the 1% of women actually having breast cancer.  \n",
    "(b) The first test for detecting HIV-positive status had a sensitivity of 0.999 and specificity\n",
    "of 0.9999. Explain what these mean. If at that time 1 in 10,000 men were truly HIVpositive, find the positive predictive value. Based on this example, explain the potential\n",
    "disadvantage of routine diagnostic screening of a population for a rare disease.\n",
    "\n",
    "**TABLE 2.6** Joint probability distribution for disease status and diagnosis of breast cancer\n",
    "mammogram, based on conditional probabilities in Table 2.1\n",
    "\n",
    "| **Disease Status** | **Diagnosis from Mammogram** |              |           |\n",
    "|--------------------|------------------------------|--------------|-----------|\n",
    "|                    | Positive (+)                 | Negative (-) | **Total** |\n",
    "| Yes (D)            | 0.0086                       | 0.0014       | 0.01      |\n",
    "| No ($D^c$)         | 0.1188                       | 0.8712       | 0.99      |"
   ]
  },
  {
   "attachments": {},
   "cell_type": "markdown",
   "metadata": {},
   "source": [
    "`Your answer goes here`"
   ]
  },
  {
   "cell_type": "code",
   "execution_count": null,
   "metadata": {},
   "outputs": [],
   "source": []
  },
  {
   "attachments": {},
   "cell_type": "markdown",
   "metadata": {},
   "source": [
    "## Problem # 2.27."
   ]
  },
  {
   "attachments": {},
   "cell_type": "markdown",
   "metadata": {},
   "source": [
    "The distribution of *X* = heights *(cm)* of women in the U.K. is approximately *N*(162, $7^2$).\n",
    "Conditional on *X = x*, suppose *Y* = weight *(kg)* has a *N*(3.0 + 0.40x, $8^2$) distribution. Simulate\n",
    "and plot 1000 observations from this approximate bivariate normal distribution. Approximate\n",
    "the marginal means and standard deviations for *X* and *Y*. Approximate and interpret the\n",
    "correlation.\n"
   ]
  },
  {
   "attachments": {},
   "cell_type": "markdown",
   "metadata": {},
   "source": [
    "`Your answer goes here`"
   ]
  },
  {
   "cell_type": "code",
   "execution_count": null,
   "metadata": {},
   "outputs": [],
   "source": []
  }
 ],
 "metadata": {
  "kernelspec": {
   "display_name": "masters",
   "language": "python",
   "name": "masters"
  },
  "language_info": {
   "codemirror_mode": {
    "name": "ipython",
    "version": 3
   },
   "file_extension": ".py",
   "mimetype": "text/x-python",
   "name": "python",
   "nbconvert_exporter": "python",
   "pygments_lexer": "ipython3",
   "version": "3.12.4"
  }
 },
 "nbformat": 4,
 "nbformat_minor": 4
}
