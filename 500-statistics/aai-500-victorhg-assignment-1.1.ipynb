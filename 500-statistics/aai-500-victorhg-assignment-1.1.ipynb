{
 "cells": [
  {
   "cell_type": "markdown",
   "metadata": {},
   "source": [
    "# Assignment 1.1"
   ]
  },
  {
   "cell_type": "markdown",
   "metadata": {},
   "source": [
    "Name:  Victor Hugo Germano\n",
    "Date: 09/05/2024"
   ]
  },
  {
   "cell_type": "code",
   "execution_count": 29,
   "metadata": {},
   "outputs": [],
   "source": [
    "import pandas as pd\n",
    "import numpy as np\n",
    "from sklearn.neighbors import KernelDensity\n",
    "import seaborn as sns\n",
    "import matplotlib.pyplot as plt\n",
    "from matplotlib import gridspec\n",
    "import math\n",
    "import scipy.stats as st"
   ]
  },
  {
   "cell_type": "markdown",
   "metadata": {},
   "source": [
    "For this assignment, you will refer to the textbook to solve the practice exercises. **Use Python to answer any coding problems (not R, even if indicated in your textbook).** Use Jupyter Notebook, Google Colab, or a similar software program to complete your assignment. Submit your answers as a **PDF or HTML** file. As a best practice, always label your axes and provide titles for any graphs generated on this assignment. Round all quantitative answers to 2 decimal places."
   ]
  },
  {
   "cell_type": "markdown",
   "metadata": {},
   "source": [
    "## **Problem # 1.1.** \n",
    "In the 2018 election for Senate in California, a CNN exit poll of 1882 voters stated that 52.5% voted for the Democratic candidate, Diane Feinstein. Of all 11.1 million voters, 54.2% voted for Feinstein.\n",
    "\n",
    "(a) What was the (i) subject, (ii) sample, (iii) population? \n"
   ]
  },
  {
   "cell_type": "markdown",
   "metadata": {},
   "source": [
    "`(a) Your answer goes here`"
   ]
  },
  {
   "cell_type": "code",
   "execution_count": 30,
   "metadata": {},
   "outputs": [],
   "source": [
    "subject_candidate = \"Diane Feinstein\"\n",
    "\n",
    "total_population = 11,100,000\n",
    "\n",
    "sample_population = 1882\n"
   ]
  },
  {
   "cell_type": "markdown",
   "metadata": {},
   "source": [
    "## **Problem # 1.2.** \n",
    "The `Students` data file at [http://stat4ds.rwth-aachen.de/data/Students.dat](http://stat4ds.rwth-aachen.de/data/Students.dat) responses of a class of 60 \n",
    "social science graduate students at the University of Florida to a questionnaire that asked about *gender* (1 = female, 0 = male), *age*, *hsgpa* = high school GPA (on a four-point scale), cogpa = college GPA, *dhome* = distance (in miles) of the campus from your home town, *dres* = distance (in miles) of the classroom from your current residence, *tv* = average number of hours per week that you watch TV, *sport* = average number of hours per week that you participate in sports or have other physical exercise, *news* = number of \n",
    "times a week you read a newspaper, *aids* = number of people you know who have died from AIDS or who \n",
    "are HIV+, *veg* = whether you are a vegetarian (1 = yes, 0 = no), *affil* = political affiliation (1 = Democrat, 2 \n",
    "= Republican, 3 = independent), *ideol* = political ideology (1 = very liberal, 2 = liberal, 3 = slightly liberal, 4 \n",
    "= moderate, 5 = slightly conservative, 6 = conservative, 7 = very conservative), *relig* = how often you \n",
    "attend religious services (0 = never, 1 = occasionally, 2 = most weeks, 3 = every week), *abor* = opinion \n",
    "about whether abortion should be legal in the first three months of pregnancy (1 = yes, 0 = no), *affirm* = \n",
    "support affirmative action (1 = yes, 0 = no), and *life* = belief in life after death (1 = yes, 2 = no, 3 = \n",
    "undecided). You will use this data file for some exercises in this book. \n"
   ]
  },
  {
   "cell_type": "markdown",
   "metadata": {},
   "source": [
    "(a) Practice accessing a data file for statistical analysis with your software by going to the book’s \n",
    "     website and copying and then displaying this data file.\n"
   ]
  },
  {
   "cell_type": "markdown",
   "metadata": {},
   "source": [
    "### (a) Accessing the Students file and showing the first few lines"
   ]
  },
  {
   "cell_type": "code",
   "execution_count": 31,
   "metadata": {},
   "outputs": [
    {
     "data": {
      "text/html": [
       "<div>\n",
       "<style scoped>\n",
       "    .dataframe tbody tr th:only-of-type {\n",
       "        vertical-align: middle;\n",
       "    }\n",
       "\n",
       "    .dataframe tbody tr th {\n",
       "        vertical-align: top;\n",
       "    }\n",
       "\n",
       "    .dataframe thead th {\n",
       "        text-align: right;\n",
       "    }\n",
       "</style>\n",
       "<table border=\"1\" class=\"dataframe\">\n",
       "  <thead>\n",
       "    <tr style=\"text-align: right;\">\n",
       "      <th></th>\n",
       "      <th>subject</th>\n",
       "      <th>gender</th>\n",
       "      <th>age</th>\n",
       "      <th>hsgpa</th>\n",
       "      <th>cogpa</th>\n",
       "      <th>dhome</th>\n",
       "      <th>dres</th>\n",
       "      <th>tv</th>\n",
       "      <th>sport</th>\n",
       "      <th>news</th>\n",
       "      <th>aids</th>\n",
       "      <th>veg</th>\n",
       "      <th>affil</th>\n",
       "      <th>ideol</th>\n",
       "      <th>relig</th>\n",
       "      <th>abor</th>\n",
       "      <th>affirm</th>\n",
       "      <th>life</th>\n",
       "    </tr>\n",
       "  </thead>\n",
       "  <tbody>\n",
       "    <tr>\n",
       "      <th>0</th>\n",
       "      <td>1</td>\n",
       "      <td>0</td>\n",
       "      <td>32</td>\n",
       "      <td>2.2</td>\n",
       "      <td>3.5</td>\n",
       "      <td>0</td>\n",
       "      <td>5.0</td>\n",
       "      <td>3.0</td>\n",
       "      <td>5</td>\n",
       "      <td>0</td>\n",
       "      <td>0</td>\n",
       "      <td>0</td>\n",
       "      <td>2</td>\n",
       "      <td>6</td>\n",
       "      <td>2</td>\n",
       "      <td>0</td>\n",
       "      <td>0</td>\n",
       "      <td>1</td>\n",
       "    </tr>\n",
       "    <tr>\n",
       "      <th>1</th>\n",
       "      <td>2</td>\n",
       "      <td>1</td>\n",
       "      <td>23</td>\n",
       "      <td>2.1</td>\n",
       "      <td>3.5</td>\n",
       "      <td>1200</td>\n",
       "      <td>0.3</td>\n",
       "      <td>15.0</td>\n",
       "      <td>7</td>\n",
       "      <td>5</td>\n",
       "      <td>6</td>\n",
       "      <td>1</td>\n",
       "      <td>1</td>\n",
       "      <td>2</td>\n",
       "      <td>1</td>\n",
       "      <td>1</td>\n",
       "      <td>1</td>\n",
       "      <td>3</td>\n",
       "    </tr>\n",
       "    <tr>\n",
       "      <th>2</th>\n",
       "      <td>3</td>\n",
       "      <td>1</td>\n",
       "      <td>27</td>\n",
       "      <td>3.3</td>\n",
       "      <td>3.0</td>\n",
       "      <td>1300</td>\n",
       "      <td>1.5</td>\n",
       "      <td>0.0</td>\n",
       "      <td>4</td>\n",
       "      <td>3</td>\n",
       "      <td>0</td>\n",
       "      <td>1</td>\n",
       "      <td>1</td>\n",
       "      <td>2</td>\n",
       "      <td>2</td>\n",
       "      <td>1</td>\n",
       "      <td>1</td>\n",
       "      <td>3</td>\n",
       "    </tr>\n",
       "    <tr>\n",
       "      <th>3</th>\n",
       "      <td>4</td>\n",
       "      <td>1</td>\n",
       "      <td>35</td>\n",
       "      <td>3.5</td>\n",
       "      <td>3.2</td>\n",
       "      <td>1500</td>\n",
       "      <td>8.0</td>\n",
       "      <td>5.0</td>\n",
       "      <td>5</td>\n",
       "      <td>6</td>\n",
       "      <td>3</td>\n",
       "      <td>0</td>\n",
       "      <td>3</td>\n",
       "      <td>4</td>\n",
       "      <td>1</td>\n",
       "      <td>1</td>\n",
       "      <td>1</td>\n",
       "      <td>2</td>\n",
       "    </tr>\n",
       "    <tr>\n",
       "      <th>4</th>\n",
       "      <td>5</td>\n",
       "      <td>0</td>\n",
       "      <td>23</td>\n",
       "      <td>3.1</td>\n",
       "      <td>3.5</td>\n",
       "      <td>1600</td>\n",
       "      <td>10.0</td>\n",
       "      <td>6.0</td>\n",
       "      <td>6</td>\n",
       "      <td>3</td>\n",
       "      <td>0</td>\n",
       "      <td>0</td>\n",
       "      <td>3</td>\n",
       "      <td>1</td>\n",
       "      <td>0</td>\n",
       "      <td>1</td>\n",
       "      <td>0</td>\n",
       "      <td>2</td>\n",
       "    </tr>\n",
       "  </tbody>\n",
       "</table>\n",
       "</div>"
      ],
      "text/plain": [
       "   subject  gender  age  hsgpa  cogpa  dhome  dres    tv  sport  news  aids  \\\n",
       "0        1       0   32    2.2    3.5      0   5.0   3.0      5     0     0   \n",
       "1        2       1   23    2.1    3.5   1200   0.3  15.0      7     5     6   \n",
       "2        3       1   27    3.3    3.0   1300   1.5   0.0      4     3     0   \n",
       "3        4       1   35    3.5    3.2   1500   8.0   5.0      5     6     3   \n",
       "4        5       0   23    3.1    3.5   1600  10.0   6.0      6     3     0   \n",
       "\n",
       "   veg  affil  ideol  relig  abor  affirm  life  \n",
       "0    0      2      6      2     0       0     1  \n",
       "1    1      1      2      1     1       1     3  \n",
       "2    1      1      2      2     1       1     3  \n",
       "3    0      3      4      1     1       1     2  \n",
       "4    0      3      1      0     1       0     2  "
      ]
     },
     "execution_count": 31,
     "metadata": {},
     "output_type": "execute_result"
    }
   ],
   "source": [
    "\n",
    "# Read in the Students data file\n",
    "students = pd.read_csv('https://stat4ds.rwth-aachen.de/data/Students.dat', sep=r'\\s+')\n",
    "\n",
    "# View the first few rows of the dataset\n",
    "students.head()"
   ]
  },
  {
   "cell_type": "markdown",
   "metadata": {},
   "source": [
    "(b) Using responses on *abor*, state a question that could be addressed with (i) descriptive \n",
    "     statistics, (ii) inferential statistics.\n"
   ]
  },
  {
   "cell_type": "markdown",
   "metadata": {},
   "source": [
    "A question about abortion looking at the dataset: \n",
    "\n",
    "**What's the distribution of people in favor of abortion being legal in the first three months, and how that can be an estimation about the opinion within the university?**\n",
    "\n",
    "---\n"
   ]
  },
  {
   "cell_type": "markdown",
   "metadata": {},
   "source": [
    "## **Problem # 1.3.** \n",
    "Identify each of the following variables as categorical or quantitative: (a) Number of smartphones that you own; (b) County of residence; (c) Choice of diet (vegetarian, nonvegetarian); (d) Distance, in kilometers, commute to work"
   ]
  },
  {
   "cell_type": "markdown",
   "metadata": {},
   "source": [
    "| variable | data type | why? |\n",
    "| --- |  --- | --- |\n",
    "| Number of smartphones you own | Quantiative | countable |\n",
    "| Country of Residence | Categorical  | non countable |\n",
    "| Choice of diet |  Categorical | non countable |\n",
    "| Distance commute to work |  Quantitative | countable |\n",
    "\n",
    "---"
   ]
  },
  {
   "cell_type": "markdown",
   "metadata": {},
   "source": [
    "## **Problem # 1.4.** \n",
    "Give an example of a variable that is (a) categorical; (b) quantitative; (c) discrete; (d) continuous"
   ]
  },
  {
   "cell_type": "markdown",
   "metadata": {},
   "source": [
    "Examples of variables:\n",
    "\n",
    "- Categorical\n",
    "  - Eye Collors\n",
    "  - Place of Origin\n",
    "- Quantitative\n",
    "  - Monthly Salary\n",
    "  - Restaurant Capacity\n",
    "- Discrete\n",
    "  - Units Sold\n",
    "  - Number of Attendees\n",
    "- Continuous\n",
    "  - Oil Prices\n",
    "  - Temperature Outsite\n",
    "\n",
    "---"
   ]
  },
  {
   "cell_type": "markdown",
   "metadata": {},
   "source": [
    "# Define Methods to be used on the next problems"
   ]
  },
  {
   "cell_type": "code",
   "execution_count": 32,
   "metadata": {},
   "outputs": [],
   "source": [
    "# Plotting function for histogram\n",
    "def histogram_plot(ylabel, xlabel, dataset, column, bins=10):\n",
    "    gs = gridspec.GridSpec(1,1)\n",
    "    fig = plt.figure(figsize=(5,3))\n",
    "    ax = fig.add_subplot(gs[0])\n",
    "    ax.set_xlabel(xlabel)\n",
    "    dataset[column].hist(ax=ax, grid=False, bins = bins)\n",
    "    fig.supylabel(ylabel)\n",
    "    plt.show()\n",
    "\n",
    "\n",
    "def print_summary(Min_value, Max_value, median, Lower_quartile, Upper_quartile):\n",
    "    print(\"Five-number summary: min:%.2f max:%.2f median:%.2f lower q:%.2f upper q:%.2f\"% (Min_value, Max_value, median, Lower_quartile, Upper_quartile)) \n",
    "    \n",
    "def calculate_five_number_summary(array):\n",
    "    # Extreme Values\n",
    "    Max_value = array.max()\n",
    "    Min_value = array.min()\n",
    "    \n",
    "    # Lower and upper Quartiles\n",
    "    Lower_quartile = np.percentile(array, 25)\n",
    "    Upper_quartile = np.percentile(array, 75)\n",
    "    \n",
    "    # Median\n",
    "    median = np.median(array)\n",
    "\n",
    "    return Min_value, Max_value, median, Lower_quartile, Upper_quartile"
   ]
  },
  {
   "cell_type": "markdown",
   "metadata": {},
   "source": [
    "## **Problem # 1.10.** \n",
    "Analyze the `Carbon_West` ([http://stat4ds.rwth-aachen.de/data/Carbon_West.dat](http://stat4ds.rwth-aachen.de/data/Carbon_West.dat)) data file at the book’s website by **(a)** constructing a frequency distribution and  a histogram, **(b)** finding the mean, median, and standard deviation. Interpret each."
   ]
  },
  {
   "cell_type": "markdown",
   "metadata": {},
   "source": [
    "`(a)`"
   ]
  },
  {
   "cell_type": "code",
   "execution_count": 33,
   "metadata": {},
   "outputs": [
    {
     "data": {
      "text/html": [
       "<div>\n",
       "<style scoped>\n",
       "    .dataframe tbody tr th:only-of-type {\n",
       "        vertical-align: middle;\n",
       "    }\n",
       "\n",
       "    .dataframe tbody tr th {\n",
       "        vertical-align: top;\n",
       "    }\n",
       "\n",
       "    .dataframe thead th {\n",
       "        text-align: right;\n",
       "    }\n",
       "</style>\n",
       "<table border=\"1\" class=\"dataframe\">\n",
       "  <thead>\n",
       "    <tr style=\"text-align: right;\">\n",
       "      <th></th>\n",
       "      <th>Nation</th>\n",
       "      <th>CO2</th>\n",
       "    </tr>\n",
       "  </thead>\n",
       "  <tbody>\n",
       "    <tr>\n",
       "      <th>0</th>\n",
       "      <td>Albania</td>\n",
       "      <td>2.0</td>\n",
       "    </tr>\n",
       "    <tr>\n",
       "      <th>1</th>\n",
       "      <td>Australia</td>\n",
       "      <td>15.4</td>\n",
       "    </tr>\n",
       "    <tr>\n",
       "      <th>2</th>\n",
       "      <td>Austria</td>\n",
       "      <td>6.9</td>\n",
       "    </tr>\n",
       "    <tr>\n",
       "      <th>3</th>\n",
       "      <td>Belgium</td>\n",
       "      <td>8.3</td>\n",
       "    </tr>\n",
       "    <tr>\n",
       "      <th>4</th>\n",
       "      <td>Bosnia</td>\n",
       "      <td>6.2</td>\n",
       "    </tr>\n",
       "  </tbody>\n",
       "</table>\n",
       "</div>"
      ],
      "text/plain": [
       "      Nation   CO2\n",
       "0    Albania   2.0\n",
       "1  Australia  15.4\n",
       "2    Austria   6.9\n",
       "3    Belgium   8.3\n",
       "4     Bosnia   6.2"
      ]
     },
     "execution_count": 33,
     "metadata": {},
     "output_type": "execute_result"
    }
   ],
   "source": [
    "# Reading file\n",
    "carbon_west = pd.read_csv('http://stat4ds.rwth-aachen.de/data/Carbon_West.dat', sep=r'\\s+')\n",
    "carbon_west.head()"
   ]
  },
  {
   "cell_type": "code",
   "execution_count": 34,
   "metadata": {},
   "outputs": [
    {
     "data": {
      "image/png": "[encoded data removed]",
      "text/plain": [
       "<Figure size 500x300 with 1 Axes>"
      ]
     },
     "metadata": {},
     "output_type": "display_data"
    }
   ],
   "source": [
    "\n",
    "#freq_table = pd.crosstab(carbon_west['CO2'], 'CO2 Production') \n",
    "\n",
    "# Generate Histogram\n",
    "histogram_plot(\"Number of Countries\", \"CO2 Emission\", carbon_west, \"CO2\")"
   ]
  },
  {
   "cell_type": "markdown",
   "metadata": {},
   "source": [
    "`(b) Your answer goes here`"
   ]
  },
  {
   "cell_type": "code",
   "execution_count": 104,
   "metadata": {},
   "outputs": [
    {
     "data": {
      "image/png": "[encoded data removed]",
      "text/plain": [
       "<Figure size 640x480 with 1 Axes>"
      ]
     },
     "metadata": {},
     "output_type": "display_data"
    },
    {
     "name": "stdout",
     "output_type": "stream",
     "text": [
      "CO2 Emissions: Mean=6.72, Median=5.90, Std Dev=3.31\n"
     ]
    }
   ],
   "source": [
    "countries = carbon_west[\"Nation\"]\n",
    "co2 = carbon_west[\"CO2\"]\n",
    "plt.scatter(co2, countries)\n",
    "\n",
    "plt.xlabel('Countries')\n",
    "plt.ylabel('CO2 Emission')\n",
    "plt.title('Countries')\n",
    "plt.show()\n",
    "\n",
    "# Print mean, median, and standard deviation\n",
    "print('CO2 Emissions: Mean=%.2f, Median=%.2f, Std Dev=%.2f' % (np.mean(co2), np.median(co2), np.std(co2)))\n",
    "\n"
   ]
  },
  {
   "cell_type": "markdown",
   "metadata": {},
   "source": [
    "### Data Interpretation \n",
    "\n",
    "The data presents the CO2 emission for a list of countries in europe, north america and australia, and the data extracted from the file can be interpreted as:\n",
    "\n",
    "Mean\n",
    "- The average CO2 emissions for any given country in the list is 6.72kt\n",
    "\n",
    "Median\n",
    "- If we were to split the list in two buckets, the value in the middle that defines a side would be 5.9kt\n",
    "\n",
    "Stand Deviation\n",
    "- Given any of the countries in the list, their co2 emission would be distant from the average emissons of the list by 3.31kt. Even though this is information is important, it also hides the outliers in the list with emission beyond 15kt, that contribute to a higher general avarage\n",
    "\n",
    "---\n"
   ]
  },
  {
   "cell_type": "markdown",
   "metadata": {},
   "source": [
    "## **Problem # 1.11.** \n",
    "According to Statistics Canada, for the Canadian population having income in 2019, annual income had a median of `$`35,000 and mean of `$`46,700. What would you predict about the shape of the distribution? Why?\n"
   ]
  },
  {
   "cell_type": "markdown",
   "metadata": {},
   "source": [
    "## Answer 1.11\n",
    "\n",
    "Given the difference between the median and the mean values on income for Canada, we can expect to see a distribution with a large range of income between the lower and high end of income values, possibily representing a larger population on the lower income quadrant, and a large variation of higher income, pushing the mean value up\n",
    "\n",
    "We can also expect a large standad deviation, and a desproportionated large number of individuals on the lower income quadrant.\n",
    "\n",
    "The representation of the bell shaped curve distribution will be skewed in this case.\n",
    "\n",
    "---"
   ]
  },
  {
   "cell_type": "markdown",
   "metadata": {},
   "source": [
    "## **Problem # 1.13.**\n",
    "A report indicates that public school teacher’s annual salaries in New York city have an approximate  mean of `$`69,000 and standard deviation of `$`6,000. If the distribution has approximately a bell shape, report intervals that contain about (a) 68%, (b) 95%, (c) all or nearly all salaries. Would a salary of  `$`100,000 be unusual? Why? \n"
   ]
  },
  {
   "cell_type": "markdown",
   "metadata": {},
   "source": [
    "\n",
    "Given the Cofficient of Variation of 8,6% we can explore the scenarios for a bell shape distribution:\n",
    "\n",
    "a) 68% confidence level \n",
    "- Because the population is small in relation to all salaries, a annual salary of 100k is possible, falling outside of the mean distribution.\n",
    "\n",
    "b) 95% confidence level \n",
    "- With this report interval is highly unlikely that a salary of 100k be presented\n",
    "\n",
    "\n",
    "c) 100% confidence level (all possible salaries)\n",
    "- In this scenario the salary of $100,000 would impossible, given the standard deviation and the fact that this scenario contains nearly all possible salaries\n",
    "\n"
   ]
  },
  {
   "cell_type": "markdown",
   "metadata": {},
   "source": [
    "## **Problem # 1.17.** \n",
    "From the `Murder` data file ([http://stat4ds.rwth-aachen.de/data/Murder.dat](http://stat4ds.rwth-aachen.de/data/Murder.dat)) at the book’s website, use the variable murder, which is the murder rate (per 100,000 population) for each state in the U.S. in 2017 according to the FBI Uniform Crime Reports. At first, do not use the observation for D.C. (DC). Using software:  \n",
    "(a) Find the mean and standard deviation and interpret their values.  \n",
    "(b) Find the five-number summary, and construct the corresponding box plot. Interpret.  \n",
    "(c) Now include the observation for D.C. What is affected more by this outlier: The mean or the median? The range or the inter-quartile range?"
   ]
  },
  {
   "cell_type": "markdown",
   "metadata": {},
   "source": [
    "**Answer:**"
   ]
  },
  {
   "cell_type": "markdown",
   "metadata": {},
   "source": [
    "`(a) Your answer goes here` "
   ]
  },
  {
   "cell_type": "code",
   "execution_count": 36,
   "metadata": {},
   "outputs": [],
   "source": [
    "# Method definitions to be reused\n",
    "\n",
    "def print_murder_rates(numbers):\n",
    "    print('Murder rates by State: Mean=%.2f, Std Dev=%.2f, Median=%.2f' % (np.mean(numbers), np.std(numbers), np.median(numbers)))\n",
    "\n",
    "    \n"
   ]
  },
  {
   "cell_type": "code",
   "execution_count": 37,
   "metadata": {},
   "outputs": [
    {
     "data": {
      "image/png": "[encoded data removed]",
      "text/plain": [
       "<Figure size 500x300 with 1 Axes>"
      ]
     },
     "metadata": {},
     "output_type": "display_data"
    },
    {
     "name": "stdout",
     "output_type": "stream",
     "text": [
      "Murder rates by State: Mean=4.87, Std Dev=2.56, Median=4.85\n"
     ]
    }
   ],
   "source": [
    "\n",
    "murder_rates = pd.read_csv('http://stat4ds.rwth-aachen.de/data/Murder.dat', sep=r'\\s+')\n",
    "\n",
    "# Remove DC from murder rates\n",
    "no_DC = murder_rates.drop(murder_rates.index[(murder_rates[\"state\"] == \"DC\")],axis=0)\n",
    "murder_numbers_no_dc = no_DC[\"murder\"]\n",
    "\n",
    "\n",
    "histogram_plot(\"Number of States\", \"Murder Rates ber 100k\", no_DC, \"murder\")\n",
    "\n",
    "print_murder_rates(murder_numbers_no_dc)\n"
   ]
  },
  {
   "cell_type": "markdown",
   "metadata": {},
   "source": [
    "### Interpretation\n",
    "\n",
    "Given the data provided, we conclude that there are an avarege of 4.87 murders per 100,000 in the US, with a variation of 2.5. As we plot an histogram represeting the data, it is possible to see an skewed distribution of a bell shape \n"
   ]
  },
  {
   "cell_type": "markdown",
   "metadata": {},
   "source": [
    "`(b) Your answer goes here`"
   ]
  },
  {
   "cell_type": "code",
   "execution_count": 100,
   "metadata": {},
   "outputs": [
    {
     "name": "stdout",
     "output_type": "stream",
     "text": [
      "Five-number summary: min:1.00 max:12.40 median:4.85 lower q:2.62 upper q:6.17\n"
     ]
    },
    {
     "data": {
      "image/png": "[encoded data removed]",
      "text/plain": [
       "<Figure size 500x400 with 1 Axes>"
      ]
     },
     "metadata": {},
     "output_type": "display_data"
    }
   ],
   "source": [
    "### Five-number summary\n",
    "\n",
    "five_numbers = calculate_five_number_summary(murder_numbers_no_dc)\n",
    "\n",
    "print_summary(*five_numbers)\n",
    "\n",
    "\n",
    "# Creating plot\n",
    "fig = plt.figure(figsize =(5, 4))\n",
    "plt.boxplot(murder_numbers_no_dc, vert=False)\n",
    "\n",
    "# show plot\n",
    "plt.show()\n"
   ]
  },
  {
   "cell_type": "markdown",
   "metadata": {},
   "source": [
    "`(c) Your answer goes here` "
   ]
  },
  {
   "cell_type": "code",
   "execution_count": 39,
   "metadata": {},
   "outputs": [
    {
     "data": {
      "image/png": "[encoded data removed]",
      "text/plain": [
       "<Figure size 500x300 with 1 Axes>"
      ]
     },
     "metadata": {},
     "output_type": "display_data"
    },
    {
     "name": "stdout",
     "output_type": "stream",
     "text": [
      "# Including DC:\n",
      "Murder rates by State: Mean=5.25, Std Dev=3.69, Median=5.00\n",
      "Five-number summary: min:1.00 max:24.20 median:5.00 lower q:2.65 upper q:6.45\n"
     ]
    }
   ],
   "source": [
    "# Redefining murder_numbers to include DC\n",
    "\n",
    "murder_numbers = murder_rates[\"murder\"]\n",
    "\n",
    "\n",
    "histogram_plot(\"Number of States\", \"Murder Rates per 100k\", murder_rates, \"murder\")\n",
    "\n",
    "print(\"# Including DC:\")\n",
    "print_murder_rates(murder_numbers)\n",
    "print_summary(*calculate_five_number_summary(murder_numbers))\n"
   ]
  },
  {
   "cell_type": "markdown",
   "metadata": {},
   "source": [
    "## Interpretation of considering DC \n",
    "\n",
    "- It is clear that the inclusion of DC afects most results calculated before, specially moving the maximun value to 24.20, increasing the range \n",
    "- Mean and Median had an increase lower than 10% with Mean being more afected, with an increase of 7%\n",
    "- The Standard Deviation changed more than 40%\n",
    "- Upper quartile was more affected, increasing from 6.17 to 6.45\n",
    "- Relative Standard Deviation (coefficient variation) changed from 52% to 70%\n",
    "- Positively Skewed distribution, with a long tail\n",
    "\n",
    "---\n"
   ]
  },
  {
   "cell_type": "markdown",
   "metadata": {},
   "source": [
    "## **Problem # 1.18.**\n",
    "The `Income` data file ([http://stat4ds.rwth-aachen.de/data/Income.dat](http://stat4ds.rwth-aachen.de/data/Income.dat)) at the book’s website reports annual income values in the U.S., in thousands of dollars.\n",
    "\n",
    "(a) Using software, construct a histogram. Describe its shape.  \n",
    "(b) Find descriptive statistics to summarize the data. Interpret them.  \n",
    "(c) The kernel density estimation method finds a smooth-curve approximation for a histogram. At each value, it takes into account how many observations are nearby and their distance, with more weight given those closer. Increasing the bandwidth increases the influence of observations further away. Plot a smooth-curve approximation for the histogram of income values. Summarize the impact of increasing and of decreasing the bandwidth substantially from the default value.  \n",
    "(d) Construct and interpret side-by-side box plots of income by race (B = Black, H = Hispanic, W = White).  Compare the incomes using numerical descriptive statistics"
   ]
  },
  {
   "cell_type": "code",
   "execution_count": 40,
   "metadata": {},
   "outputs": [],
   "source": [
    "# File Load\n",
    "income_data = pd.read_csv('http://stat4ds.rwth-aachen.de/data/Income.dat', sep=r'\\s+')\n"
   ]
  },
  {
   "cell_type": "markdown",
   "metadata": {},
   "source": [
    "**Answers:**"
   ]
  },
  {
   "cell_type": "markdown",
   "metadata": {},
   "source": [
    "`(a) Your answer goes here`"
   ]
  },
  {
   "cell_type": "code",
   "execution_count": 57,
   "metadata": {},
   "outputs": [
    {
     "data": {
      "image/png": "[encoded data removed]",
      "text/plain": [
       "<Figure size 500x300 with 1 Axes>"
      ]
     },
     "metadata": {},
     "output_type": "display_data"
    },
    {
     "name": "stdout",
     "output_type": "stream",
     "text": [
      "Income Curve information: Mean:37.52\n",
      "Five-number summary: min:16.00 max:120.00 median:30.00 lower q:22.00 upper q:46.50\n"
     ]
    },
    {
     "data": {
      "image/png": "[encoded data removed]",
      "text/plain": [
       "<Figure size 500x300 with 1 Axes>"
      ]
     },
     "metadata": {},
     "output_type": "display_data"
    },
    {
     "name": "stdout",
     "output_type": "stream",
     "text": [
      "Education Curve information: Mean:12.69\n",
      "Five-number summary: min:7.00 max:20.00 median:12.00 lower q:10.00 upper q:15.00\n"
     ]
    }
   ],
   "source": [
    "\n",
    "# Generate Histogram\n",
    "histogram_plot(\"Individuals\", \"Income in thousands of dollars\", income_data, \"income\", bins=30)\n",
    "\n",
    "print(\"Income Curve information: Mean:%.2f\"%(np.mean(income_data[\"income\"])))\n",
    "print_summary(*calculate_five_number_summary(income_data[\"income\"]))\n",
    "\n",
    "# Generate Histogram\n",
    "histogram_plot(\"Individuals\", \"Education\", income_data, \"education\")\n",
    "\n",
    "print(\"Education Curve information: Mean:%.2f\"%(np.mean(income_data[\"education\"])))\n",
    "print_summary(*calculate_five_number_summary(income_data[\"education\"]))"
   ]
  },
  {
   "cell_type": "markdown",
   "metadata": {},
   "source": [
    "### Explanation\n",
    "\n",
    "The Income histogram presents an Asymmetrical distribution, Positively Skewed with a long tail, meaning that most of the cluster is centered closed to the lower values, with frequency reducing as we move to higher salaries. \n",
    "\n",
    "We also notice that Mean and Median are far apart, with the value Mean 37.52 and Median 30\n",
    "\n",
    "Important to note that this histogram considers the full dataset, without analyzing specific samples like race and education. Using these variations could change the representation of the graph, and subsequent analyzis \n",
    "\n",
    "\n",
    "---"
   ]
  },
  {
   "cell_type": "markdown",
   "metadata": {},
   "source": [
    "`(b) Your answer goes here`"
   ]
  },
  {
   "cell_type": "code",
   "execution_count": 105,
   "metadata": {},
   "outputs": [
    {
     "data": {
      "image/png": "[encoded data removed]",
      "text/plain": [
       "<Figure size 500x300 with 1 Axes>"
      ]
     },
     "metadata": {},
     "output_type": "display_data"
    },
    {
     "name": "stdout",
     "output_type": "stream",
     "text": [
      "           income  education\n",
      "count   80.000000  80.000000\n",
      "mean    37.525000  12.687500\n",
      "std     20.672843   2.871042\n",
      "min     16.000000   7.000000\n",
      "25%     22.000000  10.000000\n",
      "50%     30.000000  12.000000\n",
      "75%     46.500000  15.000000\n",
      "max    120.000000  20.000000\n"
     ]
    }
   ],
   "source": [
    "# Find descriptive statistics to summarize the data. Interpret them.\n",
    "\n",
    "education = income_data[\"education\"]\n",
    "income = income_data[\"income\"]\n",
    "plt.figure(figsize=(5,3))\n",
    "plt.scatter(education, income)\n",
    "plt.xlabel('Education')\n",
    "plt.ylabel('Income')\n",
    "plt.title('Income x Education')\n",
    "plt.show()\n",
    "\n",
    "print(income_data.describe())"
   ]
  },
  {
   "cell_type": "markdown",
   "metadata": {},
   "source": [
    "### Explanation & Description\n",
    "\n",
    "Interesting to notice how the Median and Mean for Income distribution are far apart by more than 20%, as referenced on (a), and that can be confirmed looking at other information on the lower quartile and upper quartile, that are represented between 22k - 46k salary, with the maximum being 120k\n",
    "\n",
    "Education on the other hand, is more simetrically distributed with a much smaller distance between Mean and Median\n"
   ]
  },
  {
   "cell_type": "markdown",
   "metadata": {},
   "source": [
    "`(c) Your answer goes here`"
   ]
  },
  {
   "cell_type": "code",
   "execution_count": 108,
   "metadata": {
    "scrolled": true
   },
   "outputs": [
    {
     "data": {
      "image/png": "[encoded data removed]",
      "text/plain": [
       "<Figure size 500x300 with 1 Axes>"
      ]
     },
     "metadata": {},
     "output_type": "display_data"
    }
   ],
   "source": [
    "# The kernel density estimation method finds a smooth-curve approximation for a histogram. \n",
    "# At each value, it takes into account how many observations are nearby and their distance, with more weight given those closer. \n",
    "# Increasing the bandwidth increases the influence of observations further away. \n",
    "# Plot a smooth-curve approximation for the histogram of income values. \n",
    "# Summarize the impact of increasing and of decreasing the bandwidth substantially from the default value.\n",
    "\n",
    "plt.figure(figsize=(5,3))\n",
    "sns.histplot(income_data[\"income\"], bins=30, kde=True, kde_kws={'bw_adjust':1})\n",
    " \n",
    "# Adding labels and title\n",
    "\n",
    "plt.xlabel('Salary in thousand')\n",
    "plt.ylabel('Frequency')\n",
    "plt.title('Income Salary and Density')\n",
    "\n",
    "\n",
    "plt.show()"
   ]
  },
  {
   "cell_type": "markdown",
   "metadata": {},
   "source": [
    "`(d) Your answer goes here`"
   ]
  },
  {
   "cell_type": "code",
   "execution_count": 99,
   "metadata": {},
   "outputs": [
    {
     "data": {
      "image/png": "[encoded data removed]",
      "text/plain": [
       "<Figure size 640x480 with 1 Axes>"
      ]
     },
     "metadata": {},
     "output_type": "display_data"
    },
    {
     "data": {
      "text/html": [
       "<div>\n",
       "<style scoped>\n",
       "    .dataframe tbody tr th:only-of-type {\n",
       "        vertical-align: middle;\n",
       "    }\n",
       "\n",
       "    .dataframe tbody tr th {\n",
       "        vertical-align: top;\n",
       "    }\n",
       "\n",
       "    .dataframe thead th {\n",
       "        text-align: right;\n",
       "    }\n",
       "</style>\n",
       "<table border=\"1\" class=\"dataframe\">\n",
       "  <thead>\n",
       "    <tr style=\"text-align: right;\">\n",
       "      <th></th>\n",
       "      <th>Blacks</th>\n",
       "      <th>Hispanics</th>\n",
       "      <th>Whites</th>\n",
       "    </tr>\n",
       "  </thead>\n",
       "  <tbody>\n",
       "    <tr>\n",
       "      <th>count</th>\n",
       "      <td>16.000000</td>\n",
       "      <td>14.000000</td>\n",
       "      <td>50.000000</td>\n",
       "    </tr>\n",
       "    <tr>\n",
       "      <th>mean</th>\n",
       "      <td>27.750000</td>\n",
       "      <td>31.000000</td>\n",
       "      <td>42.480000</td>\n",
       "    </tr>\n",
       "    <tr>\n",
       "      <th>std</th>\n",
       "      <td>13.284076</td>\n",
       "      <td>12.812254</td>\n",
       "      <td>22.869854</td>\n",
       "    </tr>\n",
       "    <tr>\n",
       "      <th>min</th>\n",
       "      <td>16.000000</td>\n",
       "      <td>16.000000</td>\n",
       "      <td>18.000000</td>\n",
       "    </tr>\n",
       "    <tr>\n",
       "      <th>25%</th>\n",
       "      <td>19.500000</td>\n",
       "      <td>20.500000</td>\n",
       "      <td>24.000000</td>\n",
       "    </tr>\n",
       "    <tr>\n",
       "      <th>50%</th>\n",
       "      <td>24.000000</td>\n",
       "      <td>30.000000</td>\n",
       "      <td>37.000000</td>\n",
       "    </tr>\n",
       "    <tr>\n",
       "      <th>75%</th>\n",
       "      <td>31.000000</td>\n",
       "      <td>32.000000</td>\n",
       "      <td>50.000000</td>\n",
       "    </tr>\n",
       "    <tr>\n",
       "      <th>max</th>\n",
       "      <td>66.000000</td>\n",
       "      <td>58.000000</td>\n",
       "      <td>120.000000</td>\n",
       "    </tr>\n",
       "  </tbody>\n",
       "</table>\n",
       "</div>"
      ],
      "text/plain": [
       "          Blacks  Hispanics      Whites\n",
       "count  16.000000  14.000000   50.000000\n",
       "mean   27.750000  31.000000   42.480000\n",
       "std    13.284076  12.812254   22.869854\n",
       "min    16.000000  16.000000   18.000000\n",
       "25%    19.500000  20.500000   24.000000\n",
       "50%    24.000000  30.000000   37.000000\n",
       "75%    31.000000  32.000000   50.000000\n",
       "max    66.000000  58.000000  120.000000"
      ]
     },
     "execution_count": 99,
     "metadata": {},
     "output_type": "execute_result"
    }
   ],
   "source": [
    "# Construct and interpret side-by-side box plots of income by race (B = Black, H = Hispanic, W = White). \n",
    "# Compare the incomes using numerical descriptive statistics\n",
    "\n",
    "blacks = income_data[income_data.race.isin([\"B\"])]\n",
    "hispanics = income_data[income_data.race.isin([\"H\"])]\n",
    "whites = income_data[income_data.race.isin([\"W\"])]\n",
    "\n",
    "\n",
    "box_data = pd.DataFrame({\n",
    "        \"Blacks\": blacks[\"income\"], \n",
    "        \"Hispanics\": hispanics[\"income\"],\n",
    "        \"Whites\": whites[\"income\"]\n",
    "        })\n",
    "\n",
    "box_data.plot(kind='box', title='boxplot', showmeans=True, meanline=True)\n",
    "\n",
    "\n",
    "# Display the figure\n",
    "plt.show()\n",
    "box_data.describe()"
   ]
  },
  {
   "cell_type": "markdown",
   "metadata": {},
   "source": [
    "### Interpretation\n",
    "\n",
    "The interesting aspect of the information is how distinct the data is presented once we separate by Race, that becomes more evident with the box-plot representation.\n",
    "\n",
    "I noticed that the representation of whites (50) in the sample data far outnumbers hispanics (14) and blacks (16) together, given the general population distribution in the US. \n",
    "\n",
    "We can see that in every category there are outliers above the whiskers, with higher incomes overall in the Whites cathegory (120k).\n",
    "\n",
    "The average income in the three categories presents an scenario where Whites mean of 42k is higher than hispanics top whisker, and the same as 75% of the blacks population. \n",
    "\n",
    "Even though the minimum values are closer between the three categories, whites still have a higher minimum value. On the upper quartile the difference is more evident, and the 75% mark with the highest difference between the groups with blacks, hispanics and whites represented at 31, 32, and 50, respectively.\n",
    "\n",
    "Whites have the biggest standard deviation at 22k, and a longer upper quartile range. \n",
    "\n",
    "---\n"
   ]
  },
  {
   "cell_type": "markdown",
   "metadata": {},
   "source": [
    "## **Problem # 1.19.** \n",
    "The `Houses` data file ([http://stat4ds.rwth-aachen.de/data/Houses.dat](http://stat4ds.rwth-aachen.de/data/Houses.dat)) at the book’s website lists the selling price (thousands of dollars), size (square feet), tax bill (dollars), number of bathrooms, number of bedrooms, and whether the house is new (1 = yes, 0 = no) for 100 home sales in Gainesville, Florida. Let’s analyze the selling prices. \n",
    "\n",
    "(a) Construct a frequency distribution and a histogram. Describe the shape.  \n",
    "(b) Find the percentage of observations that fall within one standard deviation of the mean. Why is this not close to 68%?  \n",
    "(c) Construct a box plot, and interpret.   \n",
    "(d) Use descriptive statistics to compare selling prices according to whether the house is new. \n",
    "\n",
    "\n"
   ]
  },
  {
   "cell_type": "markdown",
   "metadata": {},
   "source": [
    "**Answer:**"
   ]
  },
  {
   "cell_type": "markdown",
   "metadata": {},
   "source": [
    "`(a) Your answer goes here`"
   ]
  },
  {
   "cell_type": "code",
   "execution_count": 110,
   "metadata": {},
   "outputs": [
    {
     "data": {
      "image/png": "[encoded data removed]",
      "text/plain": [
       "<Figure size 500x300 with 1 Axes>"
      ]
     },
     "metadata": {},
     "output_type": "display_data"
    }
   ],
   "source": [
    "# (a) Construct a frequency distribution and a histogram. Describe the shape. \n",
    "houses_data = pd.read_csv('http://stat4ds.rwth-aachen.de/data/Houses.dat', sep=r'\\s+')\n",
    "\n",
    "histogram_plot(\"Frequency\", \"Prices\", houses_data, \"price\")"
   ]
  },
  {
   "cell_type": "markdown",
   "metadata": {},
   "source": [
    "### Interpretation\n",
    "\n",
    "- Positively Skewed distribution of house prices, meaning that "
   ]
  },
  {
   "cell_type": "markdown",
   "metadata": {},
   "source": [
    "`(b) Your answer goes here`\n"
   ]
  },
  {
   "cell_type": "code",
   "execution_count": null,
   "metadata": {},
   "outputs": [],
   "source": [
    "# (b) Find the percentage of observations that fall within one standard deviation of the mean. \n",
    "# Why is this not close to 68%?  \n",
    "\n"
   ]
  },
  {
   "cell_type": "markdown",
   "metadata": {},
   "source": [
    "`(c) Your answer goes here`"
   ]
  },
  {
   "cell_type": "code",
   "execution_count": 114,
   "metadata": {},
   "outputs": [
    {
     "data": {
      "image/png": "[encoded data removed]",
      "text/plain": [
       "<Figure size 640x480 with 1 Axes>"
      ]
     },
     "metadata": {},
     "output_type": "display_data"
    }
   ],
   "source": [
    "#(c) Construct a box plot, and interpret.  \n",
    "houses_data[\"price\"].plot(kind='box', title='boxplot', showmeans=True, meanline=True)\n",
    "\n",
    "\n",
    "# Display the figure\n",
    "plt.show()\n",
    "\n"
   ]
  },
  {
   "cell_type": "markdown",
   "metadata": {},
   "source": [
    "`(d) Your answer goes here`"
   ]
  },
  {
   "cell_type": "code",
   "execution_count": null,
   "metadata": {},
   "outputs": [],
   "source": [
    "#(d) Use descriptive statistics to compare selling prices according to whether the house is new. \n",
    "houses_data.describe()"
   ]
  }
 ],
 "metadata": {
  "kernelspec": {
   "display_name": "masters",
   "language": "python",
   "name": "masters"
  },
  "language_info": {
   "codemirror_mode": {
    "name": "ipython",
    "version": 3
   },
   "file_extension": ".py",
   "mimetype": "text/x-python",
   "name": "python",
   "nbconvert_exporter": "python",
   "pygments_lexer": "ipython3",
   "version": "3.12.4"
  },
  "vscode": {
   "interpreter": {
    "hash": "b61bb2d7a674932f79ec86662a4165aa288473e6e47a51dc8e3ab9a9cd94608c"
   },
   "toc": {
    "number_sections": false,
    "sideBar": true
   }
  }
 },
 "nbformat": 4,
 "nbformat_minor": 4
}
