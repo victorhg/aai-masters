# Import everything

import numpy as np
import pandas as pd
import matplotlib.pyplot as plt
from matplotlib import gridspec
import math
import scipy.stats
from sklearn.linear_model import LinearRegression

# Read in the students file
students = pd.read_csv('datasets/Students.dat', sep=r'\s+')

# view file contents
students.head()
