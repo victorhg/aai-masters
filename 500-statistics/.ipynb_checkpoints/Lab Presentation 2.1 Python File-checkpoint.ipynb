{
 "cells": [
  {
   "cell_type": "markdown",
   "metadata": {},
   "source": [
    "# Module 2 Lab\n",
    "\n",
    "## Basics Continued (+) Conditional Probabilities with `Sepsis` Dataset"
   ]
  },
  {
   "cell_type": "code",
   "execution_count": null,
   "metadata": {},
   "outputs": [],
   "source": [
    "# Import necessary libraries - common libraries include pandas, numpy, matplotlib, and sklearn\n",
    "import numpy as np\n",
    "import pandas as pd\n",
    "import matplotlib.pyplot as plt"
   ]
  },
  {
   "cell_type": "markdown",
   "metadata": {},
   "source": [
    "## If Statements and Boolean Operators"
   ]
  },
  {
   "cell_type": "markdown",
   "metadata": {},
   "source": [
    "As shown in the example below, it is apparent that Jenny is sick because the Boolean value of `True` has been explicitly assigned to her. The following if statement is an example of how we can use Booleans to print information."
   ]
  },
  {
   "cell_type": "code",
   "execution_count": null,
   "metadata": {},
   "outputs": [],
   "source": [
    "name = 'Jenny'\n",
    "\n",
    "# Boolean => True or False\n",
    "sick = True\n",
    "\n",
    "# List => in this case a list of ages \n",
    "age = [21, 20, 18, 19, 33]\n",
    "\n",
    "# Integer => number without decimals.\n",
    "age = 21\n",
    "\n",
    "# Float => number with decimals.\n",
    "weight = 60.25\n",
    "\n",
    "# Dictionary\n",
    "variables = {'Age': 21, 'Height': 60, 'Weight': 60.25}"
   ]
  },
  {
   "cell_type": "markdown",
   "metadata": {},
   "source": [
    "Here, we see that Jenny is a 21 year-old young adult with a weight of 60.25 pounds who is sick. It is best practice to assign variable names explicitly such that they describe the nature of the data."
   ]
  },
  {
   "cell_type": "code",
   "execution_count": null,
   "metadata": {},
   "outputs": [],
   "source": [
    "sick = True\n",
    "\n",
    "if sick:\n",
    "    print(f'{name} is sick. Please take her to the doctor.')\n",
    "else:\n",
    "    print(f'{name} is not sick. She is fine.')"
   ]
  },
  {
   "cell_type": "code",
   "execution_count": null,
   "metadata": {},
   "outputs": [],
   "source": [
    "sick = False\n",
    "\n",
    "if sick:\n",
    "    print(f'{name} is sick. Please take her to the doctor.')\n",
    "else:\n",
    "    print(f'{name} is not sick. She is fine.')"
   ]
  },
  {
   "cell_type": "markdown",
   "metadata": {},
   "source": [
    "## For Loops with Lists"
   ]
  },
  {
   "cell_type": "markdown",
   "metadata": {},
   "source": [
    "Earlier, we created a list of ages."
   ]
  },
  {
   "cell_type": "code",
   "execution_count": null,
   "metadata": {},
   "outputs": [],
   "source": [
    "age = [21, 20, 18, 19, 33]"
   ]
  },
  {
   "cell_type": "markdown",
   "metadata": {},
   "source": [
    "## Z-Normalization"
   ]
  },
  {
   "cell_type": "markdown",
   "metadata": {},
   "source": [
    "$$\\frac{x-\\mu}{\\sigma} $$"
   ]
  },
  {
   "cell_type": "code",
   "execution_count": null,
   "metadata": {},
   "outputs": [],
   "source": [
    "# initiate with empty list, appending to it later\n",
    "age_znorm = []\n",
    "\n",
    "# For each age in the age list\n",
    "print('Original Age \\t Z-Normalized Age')\n",
    "for item in age:\n",
    "    \n",
    "    # Z-Score calculation with NumPy library\n",
    "    z_score = (item - np.mean(age))/np.std(age)\n",
    "    \n",
    "    # Print age and Z-score, rounding to 2 decimal places\n",
    "    print('%3i\\t\\t\\t%.2f' % (item, round(z_score, 2)))\n",
    "    \n",
    "    # Append the Z-score to a list\n",
    "    age_znorm.append(round(z_score, 2))\n",
    "\n",
    "# Print the new list of Z-scores\n",
    "print('\\n List of Z-Normalized Ages:')\n",
    "print(age_znorm)"
   ]
  },
  {
   "cell_type": "markdown",
   "metadata": {},
   "source": [
    "## Function Definitions"
   ]
  },
  {
   "cell_type": "markdown",
   "metadata": {},
   "source": [
    "Functions make things easier because they create a level of modularity where you do not have to re-write the same lines of code to get different results just because you have different variables. To this end, we can create a function for z-scores of not just ages, but also for weights, for example, as follows."
   ]
  },
  {
   "cell_type": "code",
   "execution_count": null,
   "metadata": {},
   "outputs": [],
   "source": [
    "age = [21, 20, 18, 19, 33]\n",
    "weight = [165, 78, 60.3, 115, 120]"
   ]
  },
  {
   "cell_type": "code",
   "execution_count": null,
   "metadata": {},
   "outputs": [],
   "source": [
    "def zscore_calc(values_list):\n",
    "\n",
    "    # initiate with empty list, appending to it later\n",
    "    values_list_znorm = []\n",
    "\n",
    "    # For each values in the list\n",
    "    print('Original Value \\t Z-Normalized Value')\n",
    "    for item in values_list:\n",
    "\n",
    "        # Z-Score calculation with NumPy library\n",
    "        z_score = (item - np.mean(values_list))/np.std(values_list)\n",
    "\n",
    "        # Print value and Z-score, rounding to 2 decimal places\n",
    "        print('%3i\\t\\t%.2f'%(item, round(z_score, 2)))\n",
    "\n",
    "        # Append the Z-score to a list\n",
    "        values_list_znorm.append(round(z_score, 2))\n",
    "\n",
    "    # Print the final new list of z scores\n",
    "    print('\\n List of Z-Normalized Values:')\n",
    "    print(values_list_znorm)"
   ]
  },
  {
   "cell_type": "code",
   "execution_count": null,
   "metadata": {},
   "outputs": [],
   "source": [
    "zscore_calc(weight)"
   ]
  },
  {
   "cell_type": "code",
   "execution_count": null,
   "metadata": {},
   "outputs": [],
   "source": [
    "zscore_calc(age)"
   ]
  },
  {
   "cell_type": "markdown",
   "metadata": {},
   "source": [
    "## Bayesian Probability"
   ]
  },
  {
   "cell_type": "markdown",
   "metadata": {},
   "source": [
    "### Using the Sepsis Survival minimal clinical records dataset from the UCI Machine Learning Repository\n",
    "https://archive.ics.uci.edu/ml/machine-learning-databases/00628/\n",
    "\n",
    "Source:\n",
    "Davide Chicco, Giuseppe Jurman, â€œSurvival prediction of patients with sepsis from age, sex, and septic episode number aloneâ€. Scientific Reports 10, 17156 (2020). [Web Link](https://doi.org/10.1038/s41598-020-73558-3)"
   ]
  },
  {
   "cell_type": "markdown",
   "metadata": {},
   "source": [
    "Four clinical features:\n",
    "- `age_years`: integer\n",
    "- `sex_0male_1female`:  binary\n",
    "- `episode_number`: integer\n",
    "- `hospital_outcome_1alive_0dead`: binary"
   ]
  },
  {
   "cell_type": "code",
   "execution_count": null,
   "metadata": {},
   "outputs": [],
   "source": [
    "# Read in the sepsis data file\n",
    "sepsis = pd.read_csv('sepsis_survival.csv')\n",
    "\n",
    "# View the first few rows of the dataset\n",
    "sepsis.head()"
   ]
  },
  {
   "cell_type": "markdown",
   "metadata": {},
   "source": [
    "## Hypothesis-Testing Framework"
   ]
  },
  {
   "cell_type": "markdown",
   "metadata": {},
   "source": [
    "The following information is available in the last (target) column of the dataframe without any additional or conditional information thus far."
   ]
  },
  {
   "cell_type": "markdown",
   "metadata": {},
   "source": [
    "$H_0: \\text{the patient is dead == 0.}$  \n",
    "$H_1: \\text{the patient is alive == 1.}$"
   ]
  },
  {
   "cell_type": "markdown",
   "metadata": {},
   "source": [
    "Establishing the probability of living or dying in and of itself is called a `prior.`\n",
    "\n",
    "Now, let's assign $X_1$ to age and $X_2$ to sex.  Suppose we want to establish what the probability is that any given patient will die given other information (e.g., their sex or age).\n",
    "\n",
    "Updating this prior probability with, for example, that a patient will die given that they are younger than 50 years old is called the `posterior`, and can be written-out using the following notation:  \n",
    "\n",
    "$$P(H_0|X_1<50)$$\n",
    "\n",
    "We can also determine the probability among the patients that did not survive given that their age was younger than 50 as follows:\n",
    "\n",
    "\n",
    "$$P((X_1<50)|H_0) $$ \n",
    "\n",
    "Following Bayes' Theorem, we have:\n",
    "\n",
    "$$\\qquad\\qquad P(H_0| X_1<50) = P(X_1<50|H_0)\\, \\frac{P(H_0)}{P(X_1<50)}. $$"
   ]
  },
  {
   "cell_type": "markdown",
   "metadata": {},
   "source": [
    "## Example 1. \n",
    "\n",
    "Compute the probability that a sepsis patient will die."
   ]
  },
  {
   "cell_type": "code",
   "execution_count": null,
   "metadata": {},
   "outputs": [],
   "source": [
    "## Print out the number of patients that died and survived:\n",
    "print('Number of patients that survived and died:')\n",
    "print(sepsis['hospital_outcome_1alive_0dead'].value_counts())\n",
    "print(' ')\n",
    "\n",
    "## for percentages, `normalize=True` is parsed in for parsimony \n",
    "percent_mortality = sepsis['hospital_outcome_1alive_0dead'] \\\n",
    "                    .value_counts(normalize=True).iloc[1]\n",
    "\n",
    "print('Mortality rate from sepsis = %.3f'%percent_mortality)"
   ]
  },
  {
   "cell_type": "markdown",
   "metadata": {},
   "source": [
    "## Example 2. \n",
    "Calculate the probability of sepsis patients under 50 years old."
   ]
  },
  {
   "cell_type": "code",
   "execution_count": null,
   "metadata": {},
   "outputs": [],
   "source": [
    "sepsis_50 = round(len(sepsis[sepsis['age_years'] < 50])/ \\\n",
    "            len(sepsis['age_years']),2)\n",
    "print('The probability that sepsis patients are under 50 is %.2f.' \\\n",
    "       %sepsis_50)"
   ]
  },
  {
   "cell_type": "markdown",
   "metadata": {},
   "source": [
    "## Example 3.\n",
    "\n",
    "Calculate the probability of being under 50 years old given death."
   ]
  },
  {
   "cell_type": "code",
   "execution_count": null,
   "metadata": {},
   "outputs": [],
   "source": [
    "sepsis_death = sepsis[sepsis['hospital_outcome_1alive_0dead'] == 0]\n",
    "sepsis_50_death = len(sepsis_death[sepsis_death['age_years'] < 50]) \\\n",
    "                 /len(sepsis_death['age_years'])\n",
    "sepsis_50_death"
   ]
  },
  {
   "cell_type": "markdown",
   "metadata": {},
   "source": [
    "## Example 4.\n",
    "\n",
    "Calculate the probability of dying given that the sepsis patient is under 50 years old. \n",
    "\n",
    "$$ P(H_0|X_1<50) = P(X_1<50|H_0)\\, \\frac{P(H_0)}{P(X_1<50)} $$\n",
    "\n",
    "$$ P(H_0|X_1) = $$"
   ]
  },
  {
   "cell_type": "code",
   "execution_count": null,
   "metadata": {},
   "outputs": [],
   "source": [
    "posterior_death = sepsis_50_death * (percent_mortality/sepsis_50)\n",
    "print('The probability of dying given that the patient is under 50 is %.2f.' \\\n",
    "      %posterior_death)"
   ]
  },
  {
   "cell_type": "markdown",
   "metadata": {},
   "source": [
    "## Example 5. \n",
    "\n",
    "**(*Hint*)**: Similar to HW Problem # 2.4.\n",
    "\n",
    "A photographer is asked to deliver a storyboard concept whereby she is asked to match 7 images of couples from the weddings that they were taken, representing 7 different concepts.\n",
    "\n",
    "(a) Set up a sample space for the 7 guesses.  \n",
    "(b) With random guessing, find the probability of getting all 7 correct."
   ]
  },
  {
   "cell_type": "code",
   "execution_count": null,
   "metadata": {},
   "outputs": [],
   "source": [
    "# read in the permutations library\n",
    "from itertools import permutations\n",
    "\n",
    "# Set up sample space\n",
    "wedding_guesses = permutations([1,2,3,4,5,6,7])\n",
    "\n",
    "# Find all permutations of the sample space\n",
    "prob = 0\n",
    "for i in wedding_guesses:\n",
    "    prob+=1\n",
    "print('There are {} possible permutations'.format(prob))\n",
    "print('The probability of getting all 7 concepts correct is {}'.format(round(1/prob, 4)))"
   ]
  }
 ],
 "metadata": {
  "kernelspec": {
   "display_name": "Python 3",
   "language": "python",
   "name": "python3"
  },
  "language_info": {
   "codemirror_mode": {
    "name": "ipython",
    "version": 3
   },
   "file_extension": ".py",
   "mimetype": "text/x-python",
   "name": "python",
   "nbconvert_exporter": "python",
   "pygments_lexer": "ipython3",
   "version": "3.8.3"
  }
 },
 "nbformat": 4,
 "nbformat_minor": 4
}
