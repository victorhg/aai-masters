{
 "cells": [
  {
   "cell_type": "markdown",
   "metadata": {},
   "source": [
    "# Assignment 3.1\n",
    "Name:  Victor Hugo Germano\n",
    "Date: 09/14/2024"
   ]
  },
  {
   "cell_type": "markdown",
   "metadata": {},
   "source": [
    "For this assignment, you will refer to the textbook to solve the practice exercises. **Use Python to answer any coding problems (not R, even if indicated in your textbook).** Use Jupyter Notebook, Google Colab, or a similar software program to complete your assignment. Submit your answers as a **PDF or HTML** file. As a best practice, always label your axes and provide titles for any graphs generated on this assignment. Round all quantitative answers to 2 decimal places."
   ]
  },
  {
   "cell_type": "code",
   "execution_count": 1,
   "metadata": {},
   "outputs": [
    {
     "data": {
      "text/plain": [
       "<Token var=<ContextVar name='format_options' default={'edgeitems': 3, 'threshold': 1000, 'floatmode': 'maxprec', 'precision': 8, 'suppress': False, 'linewidth': 75, 'nanstr': 'nan', 'infstr': 'inf', 'sign': '-', 'formatter': None, 'legacy': 9223372036854775807, 'override_repr': None} at 0x10c10cea0> at 0x10f9f5e00>"
      ]
     },
     "execution_count": 1,
     "metadata": {},
     "output_type": "execute_result"
    }
   ],
   "source": [
    "import pandas as pd\n",
    "import numpy as np\n",
    "import matplotlib.pyplot as plt\n",
    "from matplotlib import gridspec\n",
    "import seaborn as sns\n",
    "import scipy.stats as stats\n",
    "\n",
    "np.set_printoptions(precision=2)"
   ]
  },
  {
   "cell_type": "markdown",
   "metadata": {},
   "source": [
    "## Problem 3.2."
   ]
  },
  {
   "cell_type": "markdown",
   "metadata": {},
   "source": [
    "In an exit poll of 1648 voters in the 2020 Senatorial election in Arizona, 51.5% said they voted\n",
    "for Mark Kelly and 48.5% said they voted for Martha McSally"
   ]
  },
  {
   "cell_type": "markdown",
   "metadata": {},
   "source": [
    "a) Suppose that actually 50% of the population voted for Kelly. If this exit poll had the\n",
    "properties of a simple random sample, find the standard error of the sample proportion\n",
    "voting for him."
   ]
  },
  {
   "cell_type": "markdown",
   "metadata": {},
   "source": [
    "b) Under the 50% presumption, are the results of the exit poll surprising? Why? Would you\n",
    "be willing to predict the election outcome? Explain by (i) conducting a simulation; (ii)\n",
    "using the value found in (a) for the standard error."
   ]
  },
  {
   "cell_type": "markdown",
   "metadata": {},
   "source": [
    "`(a) Your answer goes here`"
   ]
  },
  {
   "cell_type": "code",
   "execution_count": 8,
   "metadata": {},
   "outputs": [
    {
     "name": "stdout",
     "output_type": "stream",
     "text": [
      "Standard Error: 0.0123\n"
     ]
    }
   ],
   "source": [
    "sample_size=1648\n",
    "mean = proportion = 0.5 #the mean of the sampling distribution of the sample proportion: muˆp = p\n",
    "\n",
    "# applying the SE formula for the sampling \n",
    "std_error = proportion / np.sqrt(sample_size)\n",
    "\n",
    "print(\"Standard Error: %.4f\"%std_error)"
   ]
  },
  {
   "cell_type": "markdown",
   "metadata": {},
   "source": [
    "`(b) Your answer goes here`"
   ]
  },
  {
   "cell_type": "markdown",
   "metadata": {},
   "source": [
    "The results are not surprising, because they fall within the expected results giving the previous pool, and based on the simulations below, nearly all votes fall between about 49% and 50% based on the Santard Error of 1.2%.\n"
   ]
  },
  {
   "cell_type": "code",
   "execution_count": 9,
   "metadata": {},
   "outputs": [
    {
     "name": "stdout",
     "output_type": "stream",
     "text": [
      "Std error: 0.0123\n",
      "Value bounderies based on std_error: (0.4631, 0.5369)\n",
      "\n",
      "Proportion of a million samples: 0.5000\n",
      "Std of a million samples: 0.0123\n",
      "Std error of a million samples: 0.0003\n",
      "Confidence level: (0.49905, 0.50087) \n"
     ]
    }
   ],
   "source": [
    "# Define sample bounderies for simulation\n",
    "print(f\"Std error: {std_error:.4f}\")\n",
    "bounderies = (mean - 3*std_error, mean + 3*std_error)\n",
    "print(\"Value bounderies based on std_error: (%.4f, %.4f)\"%bounderies)\n",
    "print()\n",
    "\n",
    "#simulations\n",
    "# simulating 10000 flips\n",
    "simulations = 10000\n",
    "results = np.random.binomial(sample_size, proportion, simulations)\n",
    "\n",
    "simu_proportions = results / sample_size #list of proportions based on the base sample\n",
    "\n",
    "simu_mean = np.mean(simu_proportions)\n",
    "simu_std = np.std(simu_proportions)\n",
    "simu_std_error = simu_std / np.sqrt(sample_size)\n",
    "\n",
    "simu_bounderies = (simu_mean - 3*simu_std_error, simu_mean + 3*simu_std_error)\n",
    "\n",
    "print(f\"Proportion of a million samples: {simu_mean:.4f}\")\n",
    "print(f\"Std of a million samples: {simu_std:.4f}\")\n",
    "print(f\"Std error of a million samples: {simu_std_error:.4f}\")\n",
    "print(\"Confidence level: (%.5f, %.5f) \"%simu_bounderies) \n"
   ]
  },
  {
   "cell_type": "markdown",
   "metadata": {},
   "source": [
    "## Problem 3.3."
   ]
  },
  {
   "cell_type": "markdown",
   "metadata": {},
   "source": [
    " The 49 students in a class at the University of Florida made blinded evaluations of pairs of\n",
    "cola drinks. For the 49 comparisons of Coke and Pepsi, Coke was preferred 29 times. In the\n",
    "population that this sample represents, is this strong evidence that a majority prefers Coke?\n",
    "Use a simulation of a sampling distribution to answer."
   ]
  },
  {
   "cell_type": "markdown",
   "metadata": {},
   "source": [
    "`Your answer goes here`"
   ]
  },
  {
   "cell_type": "markdown",
   "metadata": {},
   "source": [
    "There's a strong evidence that the majority prefer coke, given that the result is right sided after 100k simulations "
   ]
  },
  {
   "cell_type": "code",
   "execution_count": 10,
   "metadata": {},
   "outputs": [
    {
     "name": "stdout",
     "output_type": "stream",
     "text": [
      "Stated proportion: 0.5918\n",
      "Mean of a million samples: 24.48803\n",
      "Std of a million samples: 3.491537873072552\n"
     ]
    },
    {
     "data": {
      "image/png": "[encoded data removed]",
      "text/plain": [
       "<Figure size 640x480 with 1 Axes>"
      ]
     },
     "metadata": {},
     "output_type": "display_data"
    }
   ],
   "source": [
    "sample_size = 49 #n\n",
    "prefered_coke = 29\n",
    "proportion = prefered_coke / sample_size #pi\n",
    "\n",
    "print(f\"Stated proportion: {proportion:.4f}\")\n",
    "\n",
    "#Assuming a simulation of 10000 samplings\n",
    "results = np.random.binomial(sample_size, 0.5, 100000)\n",
    "print(f\"Mean of a million samples: {np.mean(results)}\")\n",
    "print(f\"Std of a million samples: {np.std(results)}\")\n",
    "\n",
    "\n",
    "plt.hist(results, bins=14, edgecolor='k')\n",
    "plt.axvline(prefered_coke, color='red', label=\"Original Sample\", linewidth=1, alpha=0.5)\n",
    "            \n",
    "plt.title(\"10k simulations based on proportions\")\n",
    "plt.ylabel(\"Frequency\")\n",
    "plt.xlabel(\"Prefered Coke\")\n",
    "plt.legend()\n",
    "plt.show()"
   ]
  },
  {
   "cell_type": "markdown",
   "metadata": {},
   "source": [
    "## Problem 3.5."
   ]
  },
  {
   "cell_type": "markdown",
   "metadata": {},
   "source": [
    "The example in Section 3.1.4 simulated sampling distributions of the sample mean to determine how precise $\\bar{Y}$ for $n=25$ may estimate a population mean $\\mu.$"
   ]
  },
  {
   "cell_type": "markdown",
   "metadata": {},
   "source": [
    "a) Find the theoretical standard error of $\\bar{Y}$ for the scenario values of $\\sigma = 5$ and 8. How do they compare to the standard deviations of the 100,000 sample means in the simulations?"
   ]
  },
  {
   "cell_type": "markdown",
   "metadata": {},
   "source": [
    "`Your answer goes here`"
   ]
  },
  {
   "cell_type": "markdown",
   "metadata": {},
   "source": [
    "The following demonstration will find the SE for both the scenarios, and comparing with the simulations from the book, we can see the most of the results will fall close to the SE calculated here.\n",
    "\n",
    "As an example, I also runned a sampling distribution based on the data from the book, arriving at similar numbers"
   ]
  },
  {
   "cell_type": "code",
   "execution_count": 11,
   "metadata": {},
   "outputs": [
    {
     "name": "stdout",
     "output_type": "stream",
     "text": [
      "==== Scenario Mean 5 ====\n",
      "Standard Error: 1.00\n",
      "STD and Mean for Scenario: 4.981, 19.990\n",
      "\n",
      "==== Scenario Mean 8 ====\n",
      "Standard Error: 1.60\n",
      "STD and Mean for Scenario: 8.010, 24.055\n"
     ]
    }
   ],
   "source": [
    "sample_size = 25 #n\n",
    "\n",
    "# Run simulations and find STD for 100k simulations\n",
    "def find_se_std(mean, shape, scale, sample_size):\n",
    "    std_error = mean / np.sqrt(sample_size)\n",
    "    gamma = np.random.gamma(shape, scale, 100000)   \n",
    "    std = np.std(gamma)\n",
    "    mean = np.mean(gamma)\n",
    "    print(\"Standard Error: %.2f\"%std_error)\n",
    "    print(\"STD and Mean for Scenario: %.3f, %.3f\"%(std, mean))\n",
    "\n",
    "#a) Find se for cenarios sigma=5\n",
    "print(\"==== Scenario Mean 5 ====\")\n",
    "mean, shape, scale  = 5, 16, 1.25 # from book\n",
    "find_se_std(mean, shape, scale, sample_size)\n",
    "\n",
    "print()\n",
    "print(\"==== Scenario Mean 8 ====\")\n",
    "mean, shape, scale  = 8, 9, 8/3 # from book\n",
    "find_se_std(mean, shape, scale, sample_size)\n",
    "\n"
   ]
  },
  {
   "cell_type": "markdown",
   "metadata": {},
   "source": [
    "b) In the first scenario, we chose $\\sigma = 5$ under the belief that if $\\mu = 20$, about 2/3 of the sample values would fall between `$`15 and `$`25. For the gamma distribution with $(\\mu, \\sigma) = (20,5),$ show that the actual probability between 15 and 25 is 0.688."
   ]
  },
  {
   "cell_type": "markdown",
   "metadata": {},
   "source": [
    "`Your answer goes here`"
   ]
  },
  {
   "cell_type": "markdown",
   "metadata": {},
   "source": [
    "### Answer\n",
    "\n",
    "We need to calculate the propability of a sample falls between 15 and 25, for mu=20 and sigma=5.\n",
    "\n",
    "Finding the shape k\n",
    "- $k = mu^2 / sigma^2 = 16$\n",
    "\n",
    "- $theta = sigma^2 / mu^2 = 1.25$\n",
    "\n",
    "\n",
    "$P(15 < X < 25)$?\n",
    "\n",
    "$P(15 < X < 25) = P(X < 25) - P(X < 15)$\n",
    "\n",
    "Using code to find the information\n",
    "\n"
   ]
  },
  {
   "cell_type": "code",
   "execution_count": 12,
   "metadata": {},
   "outputs": [
    {
     "name": "stdout",
     "output_type": "stream",
     "text": [
      "Probability of 15 < X < 25: 0.688\n"
     ]
    }
   ],
   "source": [
    "# Defining the gamma distribution\n",
    "scale = 1.25\n",
    "shape = 16\n",
    "mu = 20\n",
    "\n",
    "x = 15\n",
    "g = stats.gamma.cdf(x, a=shape, scale=scale)\n",
    "\n",
    "\n",
    "y = 25\n",
    "c = stats.gamma.cdf(y, a=shape, scale=scale)\n",
    "\n",
    "print(\"Probability of 15 < X < 25: %.3f\"%(c - g))\n"
   ]
  },
  {
   "cell_type": "markdown",
   "metadata": {},
   "source": [
    "## Problem 3.8."
   ]
  },
  {
   "cell_type": "markdown",
   "metadata": {},
   "source": [
    "Construct the sampling distribution of the sample proportion of heads, for flipping a balanced\n",
    "coin (a) once; (b) twice; (c) three times; (d) four times. Describe how the shape changes\n",
    "as the number of flips $n$ increases. What would happen if $n$ kept growing? Why?\n"
   ]
  },
  {
   "cell_type": "markdown",
   "metadata": {},
   "source": [
    "`Your answer goes here`"
   ]
  },
  {
   "cell_type": "markdown",
   "metadata": {},
   "source": [
    "The shape of the curve will change, tending closer to the mu as n increases, this is called _lar of large numbers_"
   ]
  },
  {
   "cell_type": "code",
   "execution_count": 2,
   "metadata": {},
   "outputs": [
    {
     "name": "stdout",
     "output_type": "stream",
     "text": [
      "Distribution Mean for 1 flips: 1.000000000\n",
      "Distribution Mean for 2 flips: 0.500000000\n",
      "Distribution Mean for 3 flips: 1.000000000\n",
      "Distribution Mean for 4 flips: 0.250000000\n",
      "Distribution Mean for 10000 flips: 0.505500000\n"
     ]
    }
   ],
   "source": [
    "# Sample Mean converges to the population mean on large numbers\n",
    "def print_coin_flip(times=1):\n",
    "    flip = np.random.choice([0,1], times)\n",
    "    print(\"Distribution Mean for %.0f flips: %.9f\"%(times, np.mean(flip)))\n",
    "\n",
    "\n",
    "print_coin_flip() # 1 flip\n",
    "\n",
    "print_coin_flip(2) # 2 flips\n",
    "\n",
    "print_coin_flip(3) # 3 flips\n",
    "\n",
    "print_coin_flip(4) # 4 flips\n",
    "\n",
    "print_coin_flip(10000) # 10k flips"
   ]
  },
  {
   "cell_type": "markdown",
   "metadata": {},
   "source": [
    "## Problem 3.13."
   ]
  },
  {
   "cell_type": "markdown",
   "metadata": {},
   "source": [
    "Simulate random sampling from a uniform population distribution with several $n$ values to\n",
    "illustrate the Central Limit Theorem."
   ]
  },
  {
   "cell_type": "markdown",
   "metadata": {},
   "source": [
    "`Your answer goes here`"
   ]
  },
  {
   "cell_type": "code",
   "execution_count": 20,
   "metadata": {},
   "outputs": [
    {
     "data": {
      "image/png": "[encoded data removed]",
      "text/plain": [
       "<Figure size 1200x1000 with 6 Axes>"
      ]
     },
     "metadata": {},
     "output_type": "display_data"
    }
   ],
   "source": [
    "\n",
    "# CLT: the mean callculated from samples taken randomly \n",
    "#      from any distributions will be normally distributed\n",
    "\n",
    "# number of samples\n",
    "num = [1, 20, 50, 100, 10000, 300000]  \n",
    "# list of sample means\n",
    "means = []  \n",
    "\n",
    "# Generating a list of mean lists with numbers from -50 and 50\n",
    "for j in num:\n",
    "    # populate an array with random means\n",
    "    x = [np.mean(np.random.randint(-50, 50, j)) for _i in range(1000)]\n",
    "    means.append(x)\n",
    "    \n",
    "k = 0\n",
    "\n",
    "\n",
    "fig, ax = plt.subplots(2, 3, figsize =(12, 10))\n",
    "\n",
    "for i in range(0, 2):\n",
    "    for j in range(0, 3):\n",
    "        # Histogram for each x stored in means\n",
    "        ax[i, j].hist(means[k], 10, density = True)\n",
    "        ax[i, j].set_xlabel(\"Mean distribution\")\n",
    "        ax[i, j].set_title(label = f\"Sampling of {num[k]}\")\n",
    "        k = k + 1\n",
    "\n",
    "fig.suptitle(\"Random Samplings for multiple n\")\n",
    "\n",
    "plt.show()\n",
    "\n",
    "\n"
   ]
  },
  {
   "cell_type": "markdown",
   "metadata": {},
   "source": [
    "## Problem 3.14."
   ]
  },
  {
   "cell_type": "markdown",
   "metadata": {},
   "source": [
    "On each bet in a sequence of bets, you win 1 dollar with probability 0.50 and lose 1 dollar (i.e., win negative 1 dollar) with probability 0.50. Let $Y$ denote the total of your winnings and losings after 100 bets. Giving your reasoning, state the approximate distribution of $Y.$ "
   ]
  },
  {
   "cell_type": "markdown",
   "metadata": {},
   "source": [
    "`Your answer goes here`"
   ]
  },
  {
   "cell_type": "markdown",
   "metadata": {},
   "source": [
    "Y follows a binomial distribution with 0.5 probability.\n",
    "Approximate total winnings on the simulation  -$6.00\n",
    "\n",
    "As we increase the number of bets, the tendency is to equalize the net profit to zero, given the proportion"
   ]
  },
  {
   "cell_type": "code",
   "execution_count": 55,
   "metadata": {},
   "outputs": [
    {
     "name": "stdout",
     "output_type": "stream",
     "text": [
      "Money won: $47.00\n",
      "Money lost: $53.00\n",
      "Net profit $-6.00\n"
     ]
    }
   ],
   "source": [
    "space =  [-1, 1]\n",
    "\n",
    "bets = np.random.choice(space, 100)\n",
    "wins = len(bets[bets == 1])\n",
    "loses = len(bets[bets == -1])\n",
    "\n",
    "print(\"Money won: $%.2f\"%wins) \n",
    "print(\"Money lost: $%.2f\"%loses) \n",
    "print(\"Net profit $%.2f\"%(wins  - loses))\n"
   ]
  },
  {
   "cell_type": "markdown",
   "metadata": {},
   "source": [
    "## Problem 3.15."
   ]
  },
  {
   "cell_type": "markdown",
   "metadata": {},
   "source": [
    "According to a General Social Survey, in the United States the population distribution of $Y$ =\n",
    "number of good friends (not including family members) has a mean of about 5.5 and a standard\n",
    "deviation of about 3.9."
   ]
  },
  {
   "cell_type": "markdown",
   "metadata": {},
   "source": [
    "a) Is it plausible that this population distribution is normal? Explain."
   ]
  },
  {
   "cell_type": "markdown",
   "metadata": {},
   "source": [
    "`Your answer here`"
   ]
  },
  {
   "cell_type": "markdown",
   "metadata": {},
   "source": [
    "Looking at first glance is possible to say its not plausible, given that at the center with 5.5 friends, no one have negative friends as you walk on the distribution following the 68-95-99.7 rule, where $Mean - 3*std$ could be a valid answer.\n",
    "\n",
    "But, because we don't have more information about the data, we might not be able to determine the shape of the distribution, but we can assume the sample mean tends to be aproximetly normal regardless of the population distribution.\n"
   ]
  },
  {
   "cell_type": "markdown",
   "metadata": {},
   "source": [
    "b) If a new survey takes a simple random sample of 1000 people, describe the sampling\n",
    "distribution of $\\bar{Y}$ by giving its shape and approximate mean and standard error."
   ]
  },
  {
   "cell_type": "markdown",
   "metadata": {},
   "source": [
    "`Your answer here`"
   ]
  },
  {
   "cell_type": "code",
   "execution_count": null,
   "metadata": {},
   "outputs": [],
   "source": [
    "sample_size = 1000\n",
    "\n",
    "results = np.random.binomial(sample_size, 0.5, 100000)"
   ]
  },
  {
   "cell_type": "markdown",
   "metadata": {},
   "source": [
    "c) Suppose that actually the mean of 5.5 and standard deviation of 3.9 are not population\n",
    "values but are based on a sample of 1000 people. Treating results as a simple random\n",
    "sample, give an interval of values within which you can be very sure that the population\n",
    "mean falls. Explain your reasoning."
   ]
  },
  {
   "cell_type": "markdown",
   "metadata": {},
   "source": [
    "`Your answer here`"
   ]
  },
  {
   "cell_type": "code",
   "execution_count": null,
   "metadata": {},
   "outputs": [],
   "source": []
  },
  {
   "cell_type": "markdown",
   "metadata": {},
   "source": [
    "## Problem 3.18."
   ]
  },
  {
   "cell_type": "markdown",
   "metadata": {},
   "source": [
    "Sunshine City, which attracts primarily retired people, has 90,000 residents with a mean age\n",
    "of 72 years and a standard deviation of 12 years. The age distribution is skewed to the left. A\n",
    "random sample of 100 residents of Sunshine City has $\\bar{y} = 70$ and $s = 11.$"
   ]
  },
  {
   "cell_type": "markdown",
   "metadata": {},
   "source": [
    "a)  Describe the center and spread of the (i) population distribution, (ii) sample data distribution. What shape does the sample data distribution probably have? Why?"
   ]
  },
  {
   "cell_type": "markdown",
   "metadata": {},
   "source": [
    "`Your answer here`"
   ]
  },
  {
   "cell_type": "code",
   "execution_count": null,
   "metadata": {},
   "outputs": [],
   "source": []
  },
  {
   "cell_type": "markdown",
   "metadata": {},
   "source": [
    "b) Find the center and spread of the sampling distribution of $\\bar{Y}$ for $n = 100.$ What shape does it have and what does it describe?\n"
   ]
  },
  {
   "cell_type": "markdown",
   "metadata": {},
   "source": [
    "`Your answer here`"
   ]
  },
  {
   "cell_type": "code",
   "execution_count": null,
   "metadata": {},
   "outputs": [],
   "source": []
  },
  {
   "cell_type": "markdown",
   "metadata": {},
   "source": [
    "c)  Explain why it would not be unusual to sample a person of age 60 in Sunshine City, but\n",
    "it would be highly unusual for the sample mean to be 60, for a random sample of 100\n",
    "residents."
   ]
  },
  {
   "cell_type": "markdown",
   "metadata": {},
   "source": [
    "`Your answer here`"
   ]
  },
  {
   "cell_type": "code",
   "execution_count": null,
   "metadata": {},
   "outputs": [],
   "source": []
  },
  {
   "cell_type": "markdown",
   "metadata": {},
   "source": [
    "d) Describe the sampling distribution of $\\bar{Y}$ : (i) for a random sample of size $n = 1$; (ii) if you sample all 90,000 residents."
   ]
  },
  {
   "cell_type": "markdown",
   "metadata": {},
   "source": [
    "`Your answer here`"
   ]
  },
  {
   "cell_type": "code",
   "execution_count": null,
   "metadata": {},
   "outputs": [],
   "source": []
  },
  {
   "cell_type": "markdown",
   "metadata": {},
   "source": [
    "## Problem 3.21."
   ]
  },
  {
   "cell_type": "markdown",
   "metadata": {},
   "source": [
    "In your school, suppose that GPA has an approximate normal distribution with $\\mu = 3.0, \\sigma = 0.40.$ Not knowing $\\mu$, you randomly sample $n = 25$ students to estimate it. Using simulation for this application, illustrate the difference between a sample data distribution and the sampling distribution of Y ."
   ]
  },
  {
   "cell_type": "markdown",
   "metadata": {},
   "source": [
    "`Your answer here`"
   ]
  },
  {
   "cell_type": "code",
   "execution_count": null,
   "metadata": {},
   "outputs": [],
   "source": []
  },
  {
   "cell_type": "markdown",
   "metadata": {},
   "source": [
    "## Problem 3.26."
   ]
  },
  {
   "cell_type": "markdown",
   "metadata": {},
   "source": [
    "When sample data were used to rank states by brain cancer rates, Ellenberg (2014) noted\n",
    "that the highest ranking state (South Dakota) and the nearly lowest ranking state (North\n",
    "Dakota) had relatively small sample sizes. Also, when schools in North Carolina were ranked\n",
    "by their average improvement in test scores, the best and the worst schools were very small\n",
    "schools. Explain how these results could merely reflect how the variability of sample means and\n",
    "proportions depends on the sample size."
   ]
  },
  {
   "cell_type": "markdown",
   "metadata": {},
   "source": [
    "`Your answer here`"
   ]
  },
  {
   "cell_type": "code",
   "execution_count": null,
   "metadata": {},
   "outputs": [],
   "source": []
  }
 ],
 "metadata": {
  "kernelspec": {
   "display_name": "Python 3 (ipykernel)",
   "language": "python",
   "name": "python3"
  },
  "language_info": {
   "codemirror_mode": {
    "name": "ipython",
    "version": 3
   },
   "file_extension": ".py",
   "mimetype": "text/x-python",
   "name": "python",
   "nbconvert_exporter": "python",
   "pygments_lexer": "ipython3",
   "version": "3.12.4"
  }
 },
 "nbformat": 4,
 "nbformat_minor": 4
}
